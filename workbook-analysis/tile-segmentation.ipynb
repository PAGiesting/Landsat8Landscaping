{
 "cells": [
  {
   "cell_type": "code",
   "execution_count": 1,
   "metadata": {
    "ExecuteTime": {
     "end_time": "2020-06-11T17:44:17.628978Z",
     "start_time": "2020-06-11T17:44:15.160534Z"
    }
   },
   "outputs": [],
   "source": [
    "import numpy as np\n",
    "from sklearn.cluster import DBSCAN"
   ]
  },
  {
   "cell_type": "code",
   "execution_count": 2,
   "metadata": {
    "ExecuteTime": {
     "end_time": "2020-06-11T17:45:48.017150Z",
     "start_time": "2020-06-11T17:45:47.031908Z"
    }
   },
   "outputs": [],
   "source": [
    "import matplotlib.pyplot as plt\n",
    "import seaborn as sns\n",
    "%matplotlib inline\n",
    "sns.set()"
   ]
  },
  {
   "cell_type": "code",
   "execution_count": 3,
   "metadata": {
    "ExecuteTime": {
     "end_time": "2020-06-11T17:45:56.634696Z",
     "start_time": "2020-06-11T17:45:53.390899Z"
    }
   },
   "outputs": [],
   "source": [
    "from osgeo import gdal, gdal_array"
   ]
  },
  {
   "cell_type": "code",
   "execution_count": 4,
   "metadata": {
    "ExecuteTime": {
     "end_time": "2020-06-11T17:46:00.158497Z",
     "start_time": "2020-06-11T17:46:00.153178Z"
    }
   },
   "outputs": [],
   "source": [
    "from sklearn import metrics\n",
    "from sklearn.preprocessing import StandardScaler"
   ]
  },
  {
   "cell_type": "code",
   "execution_count": 5,
   "metadata": {
    "ExecuteTime": {
     "end_time": "2020-06-11T17:46:04.184659Z",
     "start_time": "2020-06-11T17:46:04.181354Z"
    }
   },
   "outputs": [],
   "source": [
    "from sklearn.decomposition import PCA"
   ]
  },
  {
   "cell_type": "code",
   "execution_count": 6,
   "metadata": {
    "ExecuteTime": {
     "end_time": "2020-06-11T17:46:06.254791Z",
     "start_time": "2020-06-11T17:46:06.244275Z"
    }
   },
   "outputs": [],
   "source": [
    "from sklearn.cluster import MeanShift, estimate_bandwidth"
   ]
  },
  {
   "cell_type": "code",
   "execution_count": 7,
   "metadata": {
    "ExecuteTime": {
     "end_time": "2020-06-11T17:46:07.843026Z",
     "start_time": "2020-06-11T17:46:07.839609Z"
    }
   },
   "outputs": [],
   "source": [
    "import pickle"
   ]
  },
  {
   "cell_type": "markdown",
   "metadata": {},
   "source": [
    "Actually channel 2 is blue, not green. See https://github.com/apburnes/landsat8:\n",
    "1 = violet; 2 = blue; 3 = green; 4 = red; 5 = NIR; 6 = midIR; 7 = far-ishIR... 10 = thermIR1, 11 = thermIR2"
   ]
  },
  {
   "cell_type": "markdown",
   "metadata": {},
   "source": [
    "So the LANDSAT USGS ARD tiles are 2D 5000x5000 rasters. Location info is solely in the metadata and must include a starting point, resolution, and messier geometry / projection info."
   ]
  },
  {
   "cell_type": "markdown",
   "metadata": {},
   "source": [
    "## Check stacked geotiff from GRASS 7.8\n",
    "Should have elevation and LANDSAT 8 OLI channels 1 to 7, in that order."
   ]
  },
  {
   "cell_type": "code",
   "execution_count": 8,
   "metadata": {
    "ExecuteTime": {
     "end_time": "2020-06-11T17:57:52.338985Z",
     "start_time": "2020-06-11T17:57:51.872830Z"
    }
   },
   "outputs": [
    {
     "data": {
      "text/plain": [
       "(8, 2599, 2184)"
      ]
     },
     "execution_count": 8,
     "metadata": {},
     "output_type": "execute_result"
    }
   ],
   "source": [
    "tile = gdal.Open('HI004002alldata.tif')\n",
    "arr = tile.ReadAsArray()\n",
    "arr.shape"
   ]
  },
  {
   "cell_type": "code",
   "execution_count": 9,
   "metadata": {
    "ExecuteTime": {
     "end_time": "2020-06-11T18:04:18.239379Z",
     "start_time": "2020-06-11T18:04:18.235580Z"
    }
   },
   "outputs": [],
   "source": [
    "arr = arr[:,2:,:]"
   ]
  },
  {
   "cell_type": "code",
   "execution_count": 10,
   "metadata": {
    "ExecuteTime": {
     "end_time": "2020-06-11T18:04:19.512896Z",
     "start_time": "2020-06-11T18:04:19.504985Z"
    }
   },
   "outputs": [
    {
     "data": {
      "text/plain": [
       "array([186, 156, 156, 265, 292, 182, 150, 102,  71,  99], dtype=int16)"
      ]
     },
     "execution_count": 10,
     "metadata": {},
     "output_type": "execute_result"
    }
   ],
   "source": [
    "arr[1,0:10,0]"
   ]
  },
  {
   "cell_type": "code",
   "execution_count": 12,
   "metadata": {
    "ExecuteTime": {
     "end_time": "2020-06-11T18:05:29.453908Z",
     "start_time": "2020-06-11T18:05:29.447857Z"
    }
   },
   "outputs": [
    {
     "data": {
      "text/plain": [
       "(2, 2597, 2184)"
      ]
     },
     "execution_count": 12,
     "metadata": {},
     "output_type": "execute_result"
    }
   ],
   "source": [
    "spatial = np.empty_like(arr[0:2,:,:])\n",
    "spatial.shape"
   ]
  },
  {
   "cell_type": "code",
   "execution_count": 13,
   "metadata": {
    "ExecuteTime": {
     "end_time": "2020-06-11T18:09:15.790207Z",
     "start_time": "2020-06-11T18:09:15.770304Z"
    }
   },
   "outputs": [
    {
     "data": {
      "text/plain": [
       "array([[0, 0, 0, 0, 0, 0, 0, 0, 0, 0],\n",
       "       [1, 1, 1, 1, 1, 1, 1, 1, 1, 1],\n",
       "       [2, 2, 2, 2, 2, 2, 2, 2, 2, 2],\n",
       "       [3, 3, 3, 3, 3, 3, 3, 3, 3, 3],\n",
       "       [4, 4, 4, 4, 4, 4, 4, 4, 4, 4],\n",
       "       [5, 5, 5, 5, 5, 5, 5, 5, 5, 5],\n",
       "       [6, 6, 6, 6, 6, 6, 6, 6, 6, 6],\n",
       "       [7, 7, 7, 7, 7, 7, 7, 7, 7, 7],\n",
       "       [8, 8, 8, 8, 8, 8, 8, 8, 8, 8],\n",
       "       [9, 9, 9, 9, 9, 9, 9, 9, 9, 9]], dtype=int16)"
      ]
     },
     "execution_count": 13,
     "metadata": {},
     "output_type": "execute_result"
    }
   ],
   "source": [
    "# dimension 0 will be latitude = row number\n",
    "# dimension 1 will be longtitude = column number\n",
    "for i in range(spatial.shape[1]):\n",
    "    spatial[0,i,:].fill(i)\n",
    "spatial[0,:10,:10]"
   ]
  },
  {
   "cell_type": "code",
   "execution_count": 14,
   "metadata": {
    "ExecuteTime": {
     "end_time": "2020-06-11T18:11:09.630588Z",
     "start_time": "2020-06-11T18:11:09.591825Z"
    }
   },
   "outputs": [
    {
     "data": {
      "text/plain": [
       "array([[0, 1, 2, 3, 4, 5, 6, 7, 8, 9],\n",
       "       [0, 1, 2, 3, 4, 5, 6, 7, 8, 9],\n",
       "       [0, 1, 2, 3, 4, 5, 6, 7, 8, 9],\n",
       "       [0, 1, 2, 3, 4, 5, 6, 7, 8, 9],\n",
       "       [0, 1, 2, 3, 4, 5, 6, 7, 8, 9],\n",
       "       [0, 1, 2, 3, 4, 5, 6, 7, 8, 9],\n",
       "       [0, 1, 2, 3, 4, 5, 6, 7, 8, 9],\n",
       "       [0, 1, 2, 3, 4, 5, 6, 7, 8, 9],\n",
       "       [0, 1, 2, 3, 4, 5, 6, 7, 8, 9],\n",
       "       [0, 1, 2, 3, 4, 5, 6, 7, 8, 9]], dtype=int16)"
      ]
     },
     "execution_count": 14,
     "metadata": {},
     "output_type": "execute_result"
    }
   ],
   "source": [
    "for j in range(spatial.shape[2]):\n",
    "    spatial[1,:,j].fill(j)\n",
    "spatial[1,:10,:10]"
   ]
  },
  {
   "cell_type": "code",
   "execution_count": 15,
   "metadata": {
    "ExecuteTime": {
     "end_time": "2020-06-11T18:12:18.680314Z",
     "start_time": "2020-06-11T18:12:18.616489Z"
    }
   },
   "outputs": [
    {
     "data": {
      "text/plain": [
       "(10, 2597, 2184)"
      ]
     },
     "execution_count": 15,
     "metadata": {},
     "output_type": "execute_result"
    }
   ],
   "source": [
    "fulldata = np.concatenate((spatial,arr),axis=0)\n",
    "fulldata.shape"
   ]
  },
  {
   "cell_type": "code",
   "execution_count": 16,
   "metadata": {
    "ExecuteTime": {
     "end_time": "2020-06-11T18:19:16.187237Z",
     "start_time": "2020-06-11T18:19:16.167620Z"
    }
   },
   "outputs": [
    {
     "data": {
      "text/plain": [
       "array([   0,    0, 2551,  186,  327,  606,  690, 2049, 1891, 1255],\n",
       "      dtype=int16)"
      ]
     },
     "execution_count": 16,
     "metadata": {},
     "output_type": "execute_result"
    }
   ],
   "source": [
    "fulldata[:,0,0]"
   ]
  },
  {
   "cell_type": "markdown",
   "metadata": {},
   "source": [
    "We now have an array with spatial coordinates x, y, and z, followed by seven spectral channels from borderline UV to mid IR. Now it's safe (in a sense) to unstack it into a zillion by 10 array to pass to the scaler."
   ]
  },
  {
   "cell_type": "code",
   "execution_count": 19,
   "metadata": {
    "ExecuteTime": {
     "end_time": "2020-06-11T18:22:57.223840Z",
     "start_time": "2020-06-11T18:22:57.213782Z"
    }
   },
   "outputs": [
    {
     "name": "stdout",
     "output_type": "stream",
     "text": [
      "(5671848, 10) [   0    0 2551  186  327  606  690 2049 1891 1255]\n"
     ]
    }
   ],
   "source": [
    "X = fulldata.reshape(10,-1,order='C').T\n",
    "print(X.shape,X[0,:])"
   ]
  },
  {
   "cell_type": "code",
   "execution_count": 20,
   "metadata": {
    "ExecuteTime": {
     "end_time": "2020-06-11T18:24:28.052782Z",
     "start_time": "2020-06-11T18:24:25.629966Z"
    }
   },
   "outputs": [],
   "source": [
    "scaler = StandardScaler()\n",
    "Xsc = scaler.fit_transform(X)"
   ]
  },
  {
   "cell_type": "code",
   "execution_count": 21,
   "metadata": {
    "ExecuteTime": {
     "end_time": "2020-06-11T18:27:26.787671Z",
     "start_time": "2020-06-11T18:27:26.166898Z"
    }
   },
   "outputs": [],
   "source": [
    "Xsamp = Xsc[np.random.choice(Xsc.shape[0],int(0.01*Xsc.shape[0]),replace=False)]"
   ]
  },
  {
   "cell_type": "code",
   "execution_count": 22,
   "metadata": {
    "ExecuteTime": {
     "end_time": "2020-06-11T18:47:42.540461Z",
     "start_time": "2020-06-11T18:28:28.049661Z"
    }
   },
   "outputs": [
    {
     "name": "stdout",
     "output_type": "stream",
     "text": [
      "DBSCAN results for scaled cluster distance 0.100\n",
      "Estimated number of clusters: 6\n",
      "Estimated number of noise points: 35194\n",
      "Silhouette Coefficient: -0.205\n",
      "\n",
      "DBSCAN results for scaled cluster distance 0.150\n",
      "Estimated number of clusters: 19\n",
      "Estimated number of noise points: 32591\n",
      "Silhouette Coefficient: -0.304\n",
      "\n",
      "DBSCAN results for scaled cluster distance 0.200\n",
      "Estimated number of clusters: 15\n",
      "Estimated number of noise points: 26054\n",
      "Silhouette Coefficient: -0.178\n",
      "\n",
      "DBSCAN results for scaled cluster distance 0.250\n",
      "Estimated number of clusters: 26\n",
      "Estimated number of noise points: 19948\n",
      "Silhouette Coefficient: -0.167\n",
      "\n",
      "DBSCAN results for scaled cluster distance 0.300\n",
      "Estimated number of clusters: 23\n",
      "Estimated number of noise points: 15364\n",
      "Silhouette Coefficient: -0.177\n",
      "\n",
      "DBSCAN results for scaled cluster distance 0.350\n",
      "Estimated number of clusters: 19\n",
      "Estimated number of noise points: 11630\n",
      "Silhouette Coefficient: -0.186\n",
      "\n",
      "DBSCAN results for scaled cluster distance 0.400\n",
      "Estimated number of clusters: 18\n",
      "Estimated number of noise points: 8446\n",
      "Silhouette Coefficient: -0.064\n",
      "\n",
      "DBSCAN results for scaled cluster distance 0.450\n",
      "Estimated number of clusters: 13\n",
      "Estimated number of noise points: 5904\n",
      "Silhouette Coefficient: -0.318\n",
      "\n",
      "DBSCAN results for scaled cluster distance 0.500\n",
      "Estimated number of clusters: 12\n",
      "Estimated number of noise points: 4309\n",
      "Silhouette Coefficient: -0.272\n",
      "\n",
      "DBSCAN results for scaled cluster distance 0.550\n",
      "Estimated number of clusters: 6\n",
      "Estimated number of noise points: 3185\n",
      "Silhouette Coefficient: -0.023\n",
      "\n"
     ]
    }
   ],
   "source": [
    "for p in np.arange(0.10,0.60,0.05):\n",
    "    signal_cluster = DBSCAN(eps=p,min_samples=25,n_jobs=2).fit(Xsamp)\n",
    "    core_samples_mask = np.zeros_like(signal_cluster.labels_, dtype=bool)\n",
    "    core_samples_mask[signal_cluster.core_sample_indices_] = True\n",
    "    labels = signal_cluster.labels_\n",
    "    n_clusters_ = len(set(labels)) - (1 if -1 in labels else 0)\n",
    "    n_noise_ = list(labels).count(-1)\n",
    "    print('DBSCAN results for scaled cluster distance %0.3f' % p)\n",
    "    print('Estimated number of clusters: %d' % n_clusters_)\n",
    "    print('Estimated number of noise points: %d' % n_noise_)\n",
    "    print(\"Silhouette Coefficient: %0.3f\\n\" % metrics.silhouette_score(Xsamp, labels))"
   ]
  },
  {
   "cell_type": "markdown",
   "metadata": {},
   "source": [
    "I am not at all sure I can get away with sampling for this purpose. I need the points to be contiguous, don't I?"
   ]
  },
  {
   "cell_type": "markdown",
   "metadata": {},
   "source": [
    "I reread the clustering lecture notes and realized I should be gridsearching on n_core (number of neighbors required to nucleate a core) rather than leaving it at the default 5, although I expect that the distance is the more important hyperparameter."
   ]
  },
  {
   "cell_type": "code",
   "execution_count": 23,
   "metadata": {
    "ExecuteTime": {
     "end_time": "2020-06-11T19:06:14.146478Z",
     "start_time": "2020-06-11T19:06:13.699420Z"
    }
   },
   "outputs": [
    {
     "data": {
      "text/plain": [
       "(28359, 10)"
      ]
     },
     "execution_count": 23,
     "metadata": {},
     "output_type": "execute_result"
    }
   ],
   "source": [
    "Xss = Xsc[np.random.choice(Xsc.shape[0],int(0.005*Xsc.shape[0]), replace=False)]\n",
    "Xss.shape"
   ]
  },
  {
   "cell_type": "code",
   "execution_count": 25,
   "metadata": {
    "ExecuteTime": {
     "end_time": "2020-06-11T19:18:13.590737Z",
     "start_time": "2020-06-11T19:09:31.963660Z"
    }
   },
   "outputs": [
    {
     "name": "stdout",
     "output_type": "stream",
     "text": [
      "DBSCAN results for scaled cluster distance 0.100, core min 5\n",
      "Estimated number of clusters: 72\n",
      "Estimated number of noise points: 16752\n",
      "Silhouette Coefficient: -0.499\n",
      "\n",
      "DBSCAN results for scaled cluster distance 0.100, core min 125\n",
      "Estimated number of clusters: 0\n",
      "Estimated number of noise points: 28359\n",
      "No clusters found.\n",
      "DBSCAN results for scaled cluster distance 0.150, core min 5\n",
      "Estimated number of clusters: 191\n",
      "Estimated number of noise points: 13192\n",
      "Silhouette Coefficient: -0.448\n",
      "\n",
      "DBSCAN results for scaled cluster distance 0.150, core min 125\n",
      "Estimated number of clusters: 10\n",
      "Estimated number of noise points: 22044\n",
      "Silhouette Coefficient: -0.053\n",
      "\n",
      "DBSCAN results for scaled cluster distance 0.200, core min 5\n",
      "Estimated number of clusters: 147\n",
      "Estimated number of noise points: 9522\n",
      "Silhouette Coefficient: -0.425\n",
      "\n",
      "DBSCAN results for scaled cluster distance 0.200, core min 125\n",
      "Estimated number of clusters: 2\n",
      "Estimated number of noise points: 17671\n",
      "Silhouette Coefficient: 0.317\n",
      "\n",
      "DBSCAN results for scaled cluster distance 0.250, core min 5\n",
      "Estimated number of clusters: 122\n",
      "Estimated number of noise points: 7101\n",
      "Silhouette Coefficient: -0.356\n",
      "\n",
      "DBSCAN results for scaled cluster distance 0.250, core min 125\n",
      "Estimated number of clusters: 1\n",
      "Estimated number of noise points: 17357\n",
      "Silhouette Coefficient: 0.359\n",
      "\n",
      "DBSCAN results for scaled cluster distance 0.300, core min 5\n",
      "Estimated number of clusters: 121\n",
      "Estimated number of noise points: 5109\n",
      "Silhouette Coefficient: -0.359\n",
      "\n",
      "DBSCAN results for scaled cluster distance 0.300, core min 125\n",
      "Estimated number of clusters: 3\n",
      "Estimated number of noise points: 16643\n",
      "Silhouette Coefficient: 0.019\n",
      "\n",
      "DBSCAN results for scaled cluster distance 0.350, core min 5\n",
      "Estimated number of clusters: 84\n",
      "Estimated number of noise points: 3509\n",
      "Silhouette Coefficient: -0.253\n",
      "\n",
      "DBSCAN results for scaled cluster distance 0.350, core min 125\n",
      "Estimated number of clusters: 6\n",
      "Estimated number of noise points: 14713\n",
      "Silhouette Coefficient: -0.127\n",
      "\n",
      "DBSCAN results for scaled cluster distance 0.400, core min 5\n",
      "Estimated number of clusters: 47\n",
      "Estimated number of noise points: 2463\n",
      "Silhouette Coefficient: -0.231\n",
      "\n",
      "DBSCAN results for scaled cluster distance 0.400, core min 125\n",
      "Estimated number of clusters: 4\n",
      "Estimated number of noise points: 12103\n",
      "Silhouette Coefficient: 0.005\n",
      "\n",
      "DBSCAN results for scaled cluster distance 0.450, core min 5\n",
      "Estimated number of clusters: 32\n",
      "Estimated number of noise points: 1817\n",
      "Silhouette Coefficient: -0.226\n",
      "\n",
      "DBSCAN results for scaled cluster distance 0.450, core min 125\n",
      "Estimated number of clusters: 6\n",
      "Estimated number of noise points: 9972\n",
      "Silhouette Coefficient: -0.016\n",
      "\n",
      "DBSCAN results for scaled cluster distance 0.500, core min 5\n",
      "Estimated number of clusters: 24\n",
      "Estimated number of noise points: 1381\n",
      "Silhouette Coefficient: -0.415\n",
      "\n",
      "DBSCAN results for scaled cluster distance 0.500, core min 125\n",
      "Estimated number of clusters: 6\n",
      "Estimated number of noise points: 8373\n",
      "Silhouette Coefficient: 0.046\n",
      "\n",
      "DBSCAN results for scaled cluster distance 0.550, core min 5\n",
      "Estimated number of clusters: 12\n",
      "Estimated number of noise points: 1098\n",
      "Silhouette Coefficient: -0.076\n",
      "\n",
      "DBSCAN results for scaled cluster distance 0.550, core min 125\n",
      "Estimated number of clusters: 5\n",
      "Estimated number of noise points: 7187\n",
      "Silhouette Coefficient: 0.100\n",
      "\n"
     ]
    }
   ],
   "source": [
    "for p in np.arange(0.10,0.60,0.05):\n",
    "    for n in [5,125]:\n",
    "        signal_cluster = DBSCAN(eps=p,min_samples=n,n_jobs=2).fit(Xss)\n",
    "        core_samples_mask = np.zeros_like(signal_cluster.labels_, dtype=bool)\n",
    "        core_samples_mask[signal_cluster.core_sample_indices_] = True\n",
    "        labels = signal_cluster.labels_\n",
    "        n_clusters_ = len(set(labels)) - (1 if -1 in labels else 0)\n",
    "        n_noise_ = list(labels).count(-1)\n",
    "        print('DBSCAN results for scaled cluster distance %0.3f, core min %d' % (p,n))\n",
    "        print('Estimated number of clusters: %d' % n_clusters_)\n",
    "        print('Estimated number of noise points: %d' % n_noise_)\n",
    "        try:\n",
    "            print(\"Silhouette Coefficient: %0.3f\\n\" % metrics.silhouette_score(Xss, labels))\n",
    "        except:\n",
    "            print(\"No clusters found.\\n\")"
   ]
  },
  {
   "cell_type": "markdown",
   "metadata": {},
   "source": [
    "Mean shift is also conceivably worth trying."
   ]
  },
  {
   "cell_type": "code",
   "execution_count": 26,
   "metadata": {
    "ExecuteTime": {
     "end_time": "2020-06-11T19:32:06.322906Z",
     "start_time": "2020-06-11T19:29:20.039503Z"
    }
   },
   "outputs": [
    {
     "data": {
      "text/plain": [
       "2.8550276750225576"
      ]
     },
     "execution_count": 26,
     "metadata": {},
     "output_type": "execute_result"
    }
   ],
   "source": [
    "defbandwidth = estimate_bandwidth(Xss)\n",
    "defbandwidth"
   ]
  },
  {
   "cell_type": "code",
   "execution_count": 27,
   "metadata": {
    "ExecuteTime": {
     "end_time": "2020-06-11T19:41:28.138489Z",
     "start_time": "2020-06-11T19:32:36.998655Z"
    }
   },
   "outputs": [
    {
     "name": "stdout",
     "output_type": "stream",
     "text": [
      "Mean Shift results for window size 0.714\n",
      "Estimated number of clusters: 495\n",
      "Estimated number of noise points: 13037\n",
      "Silhouette Coefficient: 0.510\n",
      "\n",
      "Mean Shift results for window size 1.428\n",
      "Estimated number of clusters: 84\n",
      "Estimated number of noise points: 10898\n",
      "Silhouette Coefficient: 0.552\n",
      "\n",
      "Mean Shift results for window size 2.141\n",
      "Estimated number of clusters: 26\n",
      "Estimated number of noise points: 7060\n",
      "Silhouette Coefficient: 0.524\n",
      "\n",
      "Mean Shift results for window size 2.855\n",
      "Estimated number of clusters: 16\n",
      "Estimated number of noise points: 8853\n",
      "Silhouette Coefficient: 0.583\n",
      "\n",
      "Mean Shift results for window size 3.569\n",
      "Estimated number of clusters: 9\n",
      "Estimated number of noise points: 2471\n",
      "Silhouette Coefficient: 0.736\n",
      "\n",
      "Mean Shift results for window size 4.283\n",
      "Estimated number of clusters: 6\n",
      "Estimated number of noise points: 1423\n",
      "Silhouette Coefficient: 0.736\n",
      "\n",
      "Mean Shift results for window size 4.996\n",
      "Estimated number of clusters: 4\n",
      "Estimated number of noise points: 1070\n",
      "Silhouette Coefficient: 0.731\n",
      "\n",
      "Mean Shift results for window size 5.710\n",
      "Estimated number of clusters: 4\n",
      "Estimated number of noise points: 770\n",
      "Silhouette Coefficient: 0.726\n",
      "\n",
      "Mean Shift results for window size 6.424\n",
      "Estimated number of clusters: 4\n",
      "Estimated number of noise points: 537\n",
      "Silhouette Coefficient: 0.721\n",
      "\n",
      "Mean Shift results for window size 7.138\n",
      "Estimated number of clusters: 4\n",
      "Estimated number of noise points: 362\n",
      "Silhouette Coefficient: 0.717\n",
      "\n",
      "Mean Shift results for window size 7.851\n",
      "Estimated number of clusters: 3\n",
      "Estimated number of noise points: 282\n",
      "Silhouette Coefficient: 0.715\n",
      "\n",
      "Mean Shift results for window size 8.565\n",
      "Estimated number of clusters: 2\n",
      "Estimated number of noise points: 240\n",
      "Silhouette Coefficient: 0.921\n",
      "\n",
      "Mean Shift results for window size 9.279\n",
      "Estimated number of clusters: 2\n",
      "Estimated number of noise points: 219\n",
      "Silhouette Coefficient: 0.921\n",
      "\n",
      "Mean Shift results for window size 9.993\n",
      "Estimated number of clusters: 1\n",
      "Estimated number of noise points: 211\n",
      "No clusters found.\n",
      "\n",
      "Mean Shift results for window size 10.706\n",
      "Estimated number of clusters: 1\n",
      "Estimated number of noise points: 185\n",
      "No clusters found.\n",
      "\n",
      "Mean Shift results for window size 11.420\n",
      "Estimated number of clusters: 1\n",
      "Estimated number of noise points: 172\n",
      "No clusters found.\n",
      "\n"
     ]
    }
   ],
   "source": [
    "for mul in np.arange(0.25,4.25,0.25):\n",
    "    window = float(defbandwidth*mul)\n",
    "    signal_cluster = MeanShift(bandwidth=window, bin_seeding=True,\n",
    "                               cluster_all=False, n_jobs=2).fit(Xss)\n",
    "    n_clusters_ = signal_cluster.cluster_centers_.shape[0]\n",
    "    n_noise_ = list(signal_cluster.labels_).count(-1)\n",
    "    print('Mean Shift results for window size %0.3f' % window)\n",
    "    print('Estimated number of clusters: %d' % n_clusters_)\n",
    "    print('Estimated number of noise points: %d' % n_noise_)\n",
    "    labelarray = np.concatenate((signal_cluster.labels_.reshape(-1,1),Xss),axis=1)\n",
    "    clusterpoints = labelarray[labelarray[:,0]>-1]\n",
    "    try:\n",
    "        print(\"Silhouette Coefficient: %0.3f\\n\" % \n",
    "          metrics.silhouette_score(clusterpoints[:,1:], clusterpoints[:,0]))\n",
    "    except:\n",
    "            print(\"No clusters found.\\n\")"
   ]
  },
  {
   "cell_type": "markdown",
   "metadata": {},
   "source": [
    "Should save some of these to examine."
   ]
  },
  {
   "cell_type": "code",
   "execution_count": 28,
   "metadata": {
    "ExecuteTime": {
     "end_time": "2020-06-11T19:51:04.504447Z",
     "start_time": "2020-06-11T19:46:20.463714Z"
    }
   },
   "outputs": [
    {
     "name": "stdout",
     "output_type": "stream",
     "text": [
      "Mean Shift results for window size 0.714\n",
      "Estimated number of clusters: 495\n",
      "Estimated number of noise points: 13037\n",
      "Silhouette Coefficient: 0.510\n",
      "\n",
      "Mean Shift results for window size 1.428\n",
      "Estimated number of clusters: 84\n",
      "Estimated number of noise points: 10898\n",
      "Silhouette Coefficient: 0.552\n",
      "\n",
      "Mean Shift results for window size 2.141\n",
      "Estimated number of clusters: 26\n",
      "Estimated number of noise points: 7060\n",
      "Silhouette Coefficient: 0.524\n",
      "\n",
      "Mean Shift results for window size 2.855\n",
      "Estimated number of clusters: 16\n",
      "Estimated number of noise points: 8853\n",
      "Silhouette Coefficient: 0.583\n",
      "\n",
      "Mean Shift results for window size 3.569\n",
      "Estimated number of clusters: 9\n",
      "Estimated number of noise points: 2471\n",
      "Silhouette Coefficient: 0.736\n",
      "\n",
      "Mean Shift results for window size 4.283\n",
      "Estimated number of clusters: 6\n",
      "Estimated number of noise points: 1423\n",
      "Silhouette Coefficient: 0.736\n",
      "\n"
     ]
    }
   ],
   "source": [
    "signal_clusters = {}\n",
    "for mul in np.arange(0.25,1.75,0.25):\n",
    "    window = float(defbandwidth*mul)\n",
    "    signal_clusters[mul] = MeanShift(bandwidth=window, bin_seeding=True,\n",
    "                               cluster_all=False, n_jobs=2).fit(Xss)\n",
    "    n_clusters_ = signal_clusters[mul].cluster_centers_.shape[0]\n",
    "    n_noise_ = list(signal_clusters[mul].labels_).count(-1)\n",
    "    print('Mean Shift results for window size %0.3f' % window)\n",
    "    print('Estimated number of clusters: %d' % n_clusters_)\n",
    "    print('Estimated number of noise points: %d' % n_noise_)\n",
    "    labelarray = np.concatenate((signal_clusters[mul].labels_.reshape(-1,1),Xss),axis=1)\n",
    "    clusterpoints = labelarray[labelarray[:,0]>-1]\n",
    "    print(\"Silhouette Coefficient: %0.3f\\n\" % \n",
    "          metrics.silhouette_score(clusterpoints[:,1:], clusterpoints[:,0]))"
   ]
  },
  {
   "cell_type": "markdown",
   "metadata": {},
   "source": [
    "There are some feasible clusters there, but we'll see. Next steps:\n",
    "\n",
    "* Make histograms over each of these distributions. Check whether they are somewhat reasonably balanced.\n",
    "* If any of them are, then set up those distributions for plotting. This will require:\n",
    "    * x, y coordinates of point\n",
    "    * cluster label for each point\n",
    "    * color assignments for each cluster, which will require\n",
    "    * colors calculated from landPCA projection of cluster centroids and turned into hex codes or whatever seaborn wants"
   ]
  },
  {
   "cell_type": "code",
   "execution_count": 31,
   "metadata": {
    "ExecuteTime": {
     "end_time": "2020-06-11T20:16:30.856683Z",
     "start_time": "2020-06-11T20:16:24.865877Z"
    }
   },
   "outputs": [
    {
     "data": {
      "image/png": "[encoded data removed]",
      "text/plain": [
       "<Figure size 432x288 with 1 Axes>"
      ]
     },
     "metadata": {},
     "output_type": "display_data"
    },
    {
     "data": {
      "image/png": "[encoded data removed]",
      "text/plain": [
       "<Figure size 432x288 with 1 Axes>"
      ]
     },
     "metadata": {},
     "output_type": "display_data"
    },
    {
     "data": {
      "image/png": "[encoded data removed]",
      "text/plain": [
       "<Figure size 432x288 with 1 Axes>"
      ]
     },
     "metadata": {},
     "output_type": "display_data"
    },
    {
     "data": {
      "image/png": "[encoded data removed]",
      "text/plain": [
       "<Figure size 432x288 with 1 Axes>"
      ]
     },
     "metadata": {},
     "output_type": "display_data"
    },
    {
     "data": {
      "image/png": "[encoded data removed]",
      "text/plain": [
       "<Figure size 432x288 with 1 Axes>"
      ]
     },
     "metadata": {},
     "output_type": "display_data"
    },
    {
     "data": {
      "image/png": "[encoded data removed]",
      "text/plain": [
       "<Figure size 432x288 with 1 Axes>"
      ]
     },
     "metadata": {},
     "output_type": "display_data"
    }
   ],
   "source": [
    "import\n",
    "for key in signal_clusters.keys():\n",
    "    labels = pd\n",
    "    sns.countplot(np.ravel(signal_clusters[key].labels_))\n",
    "    plt.show();"
   ]
  },
  {
   "cell_type": "markdown",
   "metadata": {},
   "source": [
    "All right, that brings us to damage control. I want to change the scale on the spatial and spectral data so that one is more important than the other, but I'm fuzzy on what shrinking one as opposed to the other would do. If I shrink the spatial dimensions, then they count less for distance and the clustering algorithm will try to separate everything spectrally, right? So I want to shrink the spectral dimensions? In any case, I can try both."
   ]
  },
  {
   "cell_type": "code",
   "execution_count": 32,
   "metadata": {
    "ExecuteTime": {
     "end_time": "2020-06-11T20:25:18.975192Z",
     "start_time": "2020-06-11T20:25:18.955680Z"
    }
   },
   "outputs": [
    {
     "name": "stdout",
     "output_type": "stream",
     "text": [
      "[ 1.44726628 -0.61303819 -0.77888362  0.71392904  0.27565109 -0.57070546\n",
      " -0.55091936 -0.96911189 -0.94811005 -0.81358652]\n"
     ]
    },
    {
     "data": {
      "text/plain": [
       "array([ 1.44726628, -0.61303819, -0.77888362,  0.0713929 ,  0.02756511,\n",
       "       -0.05707055, -0.05509194, -0.09691119, -0.09481101, -0.08135865])"
      ]
     },
     "execution_count": 32,
     "metadata": {},
     "output_type": "execute_result"
    }
   ],
   "source": [
    "# shrink spectral dimensions\n",
    "print(Xss[0,:])\n",
    "Xss[:,3:10]=Xss[:,3:10]/10.0\n",
    "Xss[0,:]"
   ]
  },
  {
   "cell_type": "code",
   "execution_count": 33,
   "metadata": {
    "ExecuteTime": {
     "end_time": "2020-06-11T20:44:00.769218Z",
     "start_time": "2020-06-11T20:27:37.217164Z"
    }
   },
   "outputs": [
    {
     "name": "stdout",
     "output_type": "stream",
     "text": [
      "DBSCAN results for scaled cluster distance 0.100, core min 5\n",
      "Estimated number of clusters: 56\n",
      "Estimated number of noise points: 1926\n",
      "Silhouette Coefficient: -0.652\n",
      "\n",
      "DBSCAN results for scaled cluster distance 0.100, core min 25\n",
      "Estimated number of clusters: 34\n",
      "Estimated number of noise points: 8899\n",
      "Silhouette Coefficient: -0.490\n",
      "\n",
      "DBSCAN results for scaled cluster distance 0.100, core min 125\n",
      "Estimated number of clusters: 0\n",
      "Estimated number of noise points: 28359\n",
      "No clusters found.\n",
      "\n",
      "DBSCAN results for scaled cluster distance 0.150, core min 5\n",
      "Estimated number of clusters: 2\n",
      "Estimated number of noise points: 635\n",
      "Silhouette Coefficient: -0.196\n",
      "\n",
      "DBSCAN results for scaled cluster distance 0.150, core min 25\n",
      "Estimated number of clusters: 7\n",
      "Estimated number of noise points: 2155\n",
      "Silhouette Coefficient: -0.084\n",
      "\n",
      "DBSCAN results for scaled cluster distance 0.150, core min 125\n",
      "Estimated number of clusters: 4\n",
      "Estimated number of noise points: 16777\n",
      "Silhouette Coefficient: -0.115\n",
      "\n",
      "DBSCAN results for scaled cluster distance 0.200, core min 5\n",
      "Estimated number of clusters: 7\n",
      "Estimated number of noise points: 356\n",
      "Silhouette Coefficient: -0.272\n",
      "\n",
      "DBSCAN results for scaled cluster distance 0.200, core min 25\n",
      "Estimated number of clusters: 4\n",
      "Estimated number of noise points: 719\n",
      "Silhouette Coefficient: -0.206\n",
      "\n",
      "DBSCAN results for scaled cluster distance 0.200, core min 125\n",
      "Estimated number of clusters: 6\n",
      "Estimated number of noise points: 7043\n",
      "Silhouette Coefficient: -0.146\n",
      "\n",
      "DBSCAN results for scaled cluster distance 0.250, core min 5\n",
      "Estimated number of clusters: 8\n",
      "Estimated number of noise points: 202\n",
      "Silhouette Coefficient: -0.219\n",
      "\n",
      "DBSCAN results for scaled cluster distance 0.250, core min 25\n",
      "Estimated number of clusters: 1\n",
      "Estimated number of noise points: 408\n",
      "Silhouette Coefficient: 0.087\n",
      "\n",
      "DBSCAN results for scaled cluster distance 0.250, core min 125\n",
      "Estimated number of clusters: 1\n",
      "Estimated number of noise points: 2197\n",
      "Silhouette Coefficient: 0.189\n",
      "\n",
      "DBSCAN results for scaled cluster distance 0.300, core min 5\n",
      "Estimated number of clusters: 3\n",
      "Estimated number of noise points: 122\n",
      "Silhouette Coefficient: 0.078\n",
      "\n",
      "DBSCAN results for scaled cluster distance 0.300, core min 25\n",
      "Estimated number of clusters: 1\n",
      "Estimated number of noise points: 342\n",
      "Silhouette Coefficient: 0.105\n",
      "\n",
      "DBSCAN results for scaled cluster distance 0.300, core min 125\n",
      "Estimated number of clusters: 1\n",
      "Estimated number of noise points: 1225\n",
      "Silhouette Coefficient: 0.223\n",
      "\n",
      "DBSCAN results for scaled cluster distance 0.350, core min 5\n",
      "Estimated number of clusters: 2\n",
      "Estimated number of noise points: 92\n",
      "Silhouette Coefficient: 0.218\n",
      "\n",
      "DBSCAN results for scaled cluster distance 0.350, core min 25\n",
      "Estimated number of clusters: 1\n",
      "Estimated number of noise points: 285\n",
      "Silhouette Coefficient: 0.129\n",
      "\n",
      "DBSCAN results for scaled cluster distance 0.350, core min 125\n",
      "Estimated number of clusters: 1\n",
      "Estimated number of noise points: 434\n",
      "Silhouette Coefficient: 0.164\n",
      "\n",
      "DBSCAN results for scaled cluster distance 0.400, core min 5\n",
      "Estimated number of clusters: 1\n",
      "Estimated number of noise points: 56\n",
      "Silhouette Coefficient: 0.269\n",
      "\n",
      "DBSCAN results for scaled cluster distance 0.400, core min 25\n",
      "Estimated number of clusters: 1\n",
      "Estimated number of noise points: 224\n",
      "Silhouette Coefficient: 0.164\n",
      "\n",
      "DBSCAN results for scaled cluster distance 0.400, core min 125\n",
      "Estimated number of clusters: 1\n",
      "Estimated number of noise points: 319\n",
      "Silhouette Coefficient: 0.175\n",
      "\n",
      "DBSCAN results for scaled cluster distance 0.450, core min 5\n",
      "Estimated number of clusters: 1\n",
      "Estimated number of noise points: 39\n",
      "Silhouette Coefficient: 0.319\n",
      "\n",
      "DBSCAN results for scaled cluster distance 0.450, core min 25\n",
      "Estimated number of clusters: 1\n",
      "Estimated number of noise points: 144\n",
      "Silhouette Coefficient: 0.225\n",
      "\n",
      "DBSCAN results for scaled cluster distance 0.450, core min 125\n",
      "Estimated number of clusters: 1\n",
      "Estimated number of noise points: 261\n",
      "Silhouette Coefficient: 0.152\n",
      "\n",
      "DBSCAN results for scaled cluster distance 0.500, core min 5\n",
      "Estimated number of clusters: 2\n",
      "Estimated number of noise points: 23\n",
      "Silhouette Coefficient: 0.184\n",
      "\n",
      "DBSCAN results for scaled cluster distance 0.500, core min 25\n",
      "Estimated number of clusters: 1\n",
      "Estimated number of noise points: 106\n",
      "Silhouette Coefficient: 0.250\n",
      "\n",
      "DBSCAN results for scaled cluster distance 0.500, core min 125\n",
      "Estimated number of clusters: 1\n",
      "Estimated number of noise points: 223\n",
      "Silhouette Coefficient: 0.170\n",
      "\n",
      "DBSCAN results for scaled cluster distance 0.550, core min 5\n",
      "Estimated number of clusters: 1\n",
      "Estimated number of noise points: 15\n",
      "Silhouette Coefficient: 0.394\n",
      "\n",
      "DBSCAN results for scaled cluster distance 0.550, core min 25\n",
      "Estimated number of clusters: 1\n",
      "Estimated number of noise points: 76\n",
      "Silhouette Coefficient: 0.291\n",
      "\n",
      "DBSCAN results for scaled cluster distance 0.550, core min 125\n",
      "Estimated number of clusters: 1\n",
      "Estimated number of noise points: 195\n",
      "Silhouette Coefficient: 0.186\n",
      "\n"
     ]
    }
   ],
   "source": [
    "dbclusters={}\n",
    "for p in np.arange(0.10,0.60,0.05):\n",
    "    for n in [5,25,125]:\n",
    "        dbclusters[(p,n)] = DBSCAN(eps=p,min_samples=n,n_jobs=2).fit(Xss)\n",
    "        core_samples_mask = np.zeros_like(dbclusters[(p,n)].labels_, dtype=bool)\n",
    "        core_samples_mask[dbclusters[(p,n)].core_sample_indices_] = True\n",
    "        labels = dbclusters[(p,n)].labels_\n",
    "        n_clusters_ = len(set(labels)) - (1 if -1 in labels else 0)\n",
    "        n_noise_ = list(labels).count(-1)\n",
    "        print('DBSCAN results for scaled cluster distance %0.3f, core min %d' % (p,n))\n",
    "        print('Estimated number of clusters: %d' % n_clusters_)\n",
    "        print('Estimated number of noise points: %d' % n_noise_)\n",
    "        try:\n",
    "            print(\"Silhouette Coefficient: %0.3f\\n\" % metrics.silhouette_score(Xss, labels))\n",
    "        except:\n",
    "            print(\"No clusters found.\\n\")"
   ]
  },
  {
   "cell_type": "code",
   "execution_count": 35,
   "metadata": {
    "ExecuteTime": {
     "end_time": "2020-06-11T20:46:03.440315Z",
     "start_time": "2020-06-11T20:45:23.951642Z"
    }
   },
   "outputs": [
    {
     "name": "stdout",
     "output_type": "stream",
     "text": [
      "Mean Shift results for window size 0.714\n",
      "Estimated number of clusters: 16\n",
      "Estimated number of noise points: 13388\n",
      "Silhouette Coefficient: 0.457\n",
      "\n",
      "Mean Shift results for window size 1.428\n",
      "Estimated number of clusters: 2\n",
      "Estimated number of noise points: 10559\n",
      "Silhouette Coefficient: 0.447\n",
      "\n",
      "Mean Shift results for window size 2.141\n",
      "Estimated number of clusters: 1\n",
      "Estimated number of noise points: 5977\n",
      "No clusters found.\n",
      "\n",
      "Mean Shift results for window size 2.855\n",
      "Estimated number of clusters: 1\n",
      "Estimated number of noise points: 1494\n",
      "No clusters found.\n",
      "\n",
      "Mean Shift results for window size 3.569\n",
      "Estimated number of clusters: 1\n",
      "Estimated number of noise points: 278\n",
      "No clusters found.\n",
      "\n",
      "Mean Shift results for window size 4.283\n",
      "Estimated number of clusters: 1\n",
      "Estimated number of noise points: 38\n",
      "No clusters found.\n",
      "\n"
     ]
    }
   ],
   "source": [
    "msclusters = {}\n",
    "for mul in np.arange(0.25,1.75,0.25):\n",
    "    window = float(defbandwidth*mul)\n",
    "    msclusters[mul] = MeanShift(bandwidth=window, bin_seeding=True,\n",
    "                               cluster_all=False, n_jobs=2).fit(Xss)\n",
    "    n_clusters_ = msclusters[mul].cluster_centers_.shape[0]\n",
    "    n_noise_ = list(msclusters[mul].labels_).count(-1)\n",
    "    print('Mean Shift results for window size %0.3f' % window)\n",
    "    print('Estimated number of clusters: %d' % n_clusters_)\n",
    "    print('Estimated number of noise points: %d' % n_noise_)\n",
    "    labelarray = np.concatenate((msclusters[mul].labels_.reshape(-1,1),Xss),axis=1)\n",
    "    clusterpoints = labelarray[labelarray[:,0]>-1]\n",
    "    try:\n",
    "        print(\"Silhouette Coefficient: %0.3f\\n\" % \n",
    "              metrics.silhouette_score(clusterpoints[:,1:], clusterpoints[:,0]))\n",
    "    except:\n",
    "        print(\"No clusters found.\\n\")"
   ]
  },
  {
   "cell_type": "code",
   "execution_count": 36,
   "metadata": {
    "ExecuteTime": {
     "end_time": "2020-06-11T20:46:03.456562Z",
     "start_time": "2020-06-11T20:46:03.443379Z"
    }
   },
   "outputs": [
    {
     "data": {
      "text/plain": [
       "array([ 0.14472663, -0.06130382, -0.07788836,  0.71392904,  0.27565109,\n",
       "       -0.57070546, -0.55091936, -0.96911189, -0.94811005, -0.81358652])"
      ]
     },
     "execution_count": 36,
     "metadata": {},
     "output_type": "execute_result"
    }
   ],
   "source": [
    "# shrink spatial dimensions\n",
    "Xss[:,3:10]=Xss[:,3:10]*10.0\n",
    "Xss[:,0:3]=Xss[:,0:3]/10.0\n",
    "Xss[0,:]"
   ]
  },
  {
   "cell_type": "code",
   "execution_count": 37,
   "metadata": {
    "ExecuteTime": {
     "end_time": "2020-06-11T21:04:18.898876Z",
     "start_time": "2020-06-11T20:46:03.459584Z"
    }
   },
   "outputs": [
    {
     "name": "stdout",
     "output_type": "stream",
     "text": [
      "DBSCAN results for scaled cluster distance 0.100, core min 5\n",
      "Estimated number of clusters: 115\n",
      "Estimated number of noise points: 12135\n",
      "Silhouette Coefficient: -0.320\n",
      "\n",
      "DBSCAN results for scaled cluster distance 0.100, core min 25\n",
      "Estimated number of clusters: 11\n",
      "Estimated number of noise points: 16421\n",
      "Silhouette Coefficient: -0.014\n",
      "\n",
      "DBSCAN results for scaled cluster distance 0.100, core min 125\n",
      "Estimated number of clusters: 1\n",
      "Estimated number of noise points: 17653\n",
      "Silhouette Coefficient: 0.461\n",
      "\n",
      "DBSCAN results for scaled cluster distance 0.150, core min 5\n",
      "Estimated number of clusters: 98\n",
      "Estimated number of noise points: 7530\n",
      "Silhouette Coefficient: -0.086\n",
      "\n",
      "DBSCAN results for scaled cluster distance 0.150, core min 25\n",
      "Estimated number of clusters: 8\n",
      "Estimated number of noise points: 11708\n",
      "Silhouette Coefficient: 0.083\n",
      "\n",
      "DBSCAN results for scaled cluster distance 0.150, core min 125\n",
      "Estimated number of clusters: 3\n",
      "Estimated number of noise points: 16741\n",
      "Silhouette Coefficient: 0.128\n",
      "\n",
      "DBSCAN results for scaled cluster distance 0.200, core min 5\n",
      "Estimated number of clusters: 82\n",
      "Estimated number of noise points: 4549\n",
      "Silhouette Coefficient: 0.018\n",
      "\n",
      "DBSCAN results for scaled cluster distance 0.200, core min 25\n",
      "Estimated number of clusters: 8\n",
      "Estimated number of noise points: 8276\n",
      "Silhouette Coefficient: 0.205\n",
      "\n",
      "DBSCAN results for scaled cluster distance 0.200, core min 125\n",
      "Estimated number of clusters: 3\n",
      "Estimated number of noise points: 12364\n",
      "Silhouette Coefficient: 0.244\n",
      "\n",
      "DBSCAN results for scaled cluster distance 0.250, core min 5\n",
      "Estimated number of clusters: 38\n",
      "Estimated number of noise points: 2730\n",
      "Silhouette Coefficient: 0.065\n",
      "\n",
      "DBSCAN results for scaled cluster distance 0.250, core min 25\n",
      "Estimated number of clusters: 8\n",
      "Estimated number of noise points: 5957\n",
      "Silhouette Coefficient: 0.235\n",
      "\n",
      "DBSCAN results for scaled cluster distance 0.250, core min 125\n",
      "Estimated number of clusters: 4\n",
      "Estimated number of noise points: 9675\n",
      "Silhouette Coefficient: 0.333\n",
      "\n",
      "DBSCAN results for scaled cluster distance 0.300, core min 5\n",
      "Estimated number of clusters: 19\n",
      "Estimated number of noise points: 1707\n",
      "Silhouette Coefficient: 0.253\n",
      "\n",
      "DBSCAN results for scaled cluster distance 0.300, core min 25\n",
      "Estimated number of clusters: 6\n",
      "Estimated number of noise points: 4095\n",
      "Silhouette Coefficient: 0.123\n",
      "\n",
      "DBSCAN results for scaled cluster distance 0.300, core min 125\n",
      "Estimated number of clusters: 3\n",
      "Estimated number of noise points: 7776\n",
      "Silhouette Coefficient: 0.435\n",
      "\n",
      "DBSCAN results for scaled cluster distance 0.350, core min 5\n",
      "Estimated number of clusters: 11\n",
      "Estimated number of noise points: 1235\n",
      "Silhouette Coefficient: 0.163\n",
      "\n",
      "DBSCAN results for scaled cluster distance 0.350, core min 25\n",
      "Estimated number of clusters: 3\n",
      "Estimated number of noise points: 2783\n",
      "Silhouette Coefficient: -0.238\n",
      "\n",
      "DBSCAN results for scaled cluster distance 0.350, core min 125\n",
      "Estimated number of clusters: 3\n",
      "Estimated number of noise points: 6375\n",
      "Silhouette Coefficient: 0.472\n",
      "\n",
      "DBSCAN results for scaled cluster distance 0.400, core min 5\n",
      "Estimated number of clusters: 10\n",
      "Estimated number of noise points: 929\n",
      "Silhouette Coefficient: -0.028\n",
      "\n",
      "DBSCAN results for scaled cluster distance 0.400, core min 25\n",
      "Estimated number of clusters: 5\n",
      "Estimated number of noise points: 1860\n",
      "Silhouette Coefficient: 0.396\n",
      "\n",
      "DBSCAN results for scaled cluster distance 0.400, core min 125\n",
      "Estimated number of clusters: 2\n",
      "Estimated number of noise points: 4837\n",
      "Silhouette Coefficient: 0.529\n",
      "\n",
      "DBSCAN results for scaled cluster distance 0.450, core min 5\n",
      "Estimated number of clusters: 8\n",
      "Estimated number of noise points: 720\n",
      "Silhouette Coefficient: 0.018\n",
      "\n",
      "DBSCAN results for scaled cluster distance 0.450, core min 25\n",
      "Estimated number of clusters: 1\n",
      "Estimated number of noise points: 1355\n",
      "Silhouette Coefficient: 0.615\n",
      "\n",
      "DBSCAN results for scaled cluster distance 0.450, core min 125\n",
      "Estimated number of clusters: 1\n",
      "Estimated number of noise points: 3819\n",
      "Silhouette Coefficient: 0.493\n",
      "\n",
      "DBSCAN results for scaled cluster distance 0.500, core min 5\n",
      "Estimated number of clusters: 7\n",
      "Estimated number of noise points: 583\n",
      "Silhouette Coefficient: 0.302\n",
      "\n",
      "DBSCAN results for scaled cluster distance 0.500, core min 25\n",
      "Estimated number of clusters: 1\n",
      "Estimated number of noise points: 1082\n",
      "Silhouette Coefficient: 0.651\n",
      "\n",
      "DBSCAN results for scaled cluster distance 0.500, core min 125\n",
      "Estimated number of clusters: 1\n",
      "Estimated number of noise points: 2870\n",
      "Silhouette Coefficient: 0.538\n",
      "\n",
      "DBSCAN results for scaled cluster distance 0.550, core min 5\n",
      "Estimated number of clusters: 5\n",
      "Estimated number of noise points: 511\n",
      "Silhouette Coefficient: 0.559\n",
      "\n",
      "DBSCAN results for scaled cluster distance 0.550, core min 25\n",
      "Estimated number of clusters: 1\n",
      "Estimated number of noise points: 862\n",
      "Silhouette Coefficient: 0.687\n",
      "\n",
      "DBSCAN results for scaled cluster distance 0.550, core min 125\n",
      "Estimated number of clusters: 2\n",
      "Estimated number of noise points: 2221\n",
      "Silhouette Coefficient: 0.409\n",
      "\n"
     ]
    }
   ],
   "source": [
    "dbflips={}\n",
    "for p in np.arange(0.10,0.60,0.05):\n",
    "    for n in [5,25,125]:\n",
    "        dbflips[(p,n)] = DBSCAN(eps=p,min_samples=n,n_jobs=2).fit(Xss)\n",
    "        core_samples_mask = np.zeros_like(dbflips[(p,n)].labels_, dtype=bool)\n",
    "        core_samples_mask[dbflips[(p,n)].core_sample_indices_] = True\n",
    "        labels = dbflips[(p,n)].labels_\n",
    "        n_clusters_ = len(set(labels)) - (1 if -1 in labels else 0)\n",
    "        n_noise_ = list(labels).count(-1)\n",
    "        print('DBSCAN results for scaled cluster distance %0.3f, core min %d' % (p,n))\n",
    "        print('Estimated number of clusters: %d' % n_clusters_)\n",
    "        print('Estimated number of noise points: %d' % n_noise_)\n",
    "        try:\n",
    "            print(\"Silhouette Coefficient: %0.3f\\n\" % metrics.silhouette_score(Xss, labels))\n",
    "        except:\n",
    "            print(\"No clusters found.\\n\")"
   ]
  },
  {
   "cell_type": "code",
   "execution_count": 47,
   "metadata": {
    "ExecuteTime": {
     "end_time": "2020-06-12T02:07:34.833917Z",
     "start_time": "2020-06-12T01:59:11.009064Z"
    }
   },
   "outputs": [
    {
     "name": "stdout",
     "output_type": "stream",
     "text": [
      "Mean Shift results for window size 0.714\n",
      "Estimated number of clusters: 495\n",
      "Estimated number of noise points: 13037\n",
      "Silhouette Coefficient: 0.510\n",
      "\n",
      "Mean Shift results for window size 1.428\n",
      "Estimated number of clusters: 84\n",
      "Estimated number of noise points: 10898\n",
      "Silhouette Coefficient: 0.552\n",
      "\n",
      "Mean Shift results for window size 2.141\n",
      "Estimated number of clusters: 26\n",
      "Estimated number of noise points: 7060\n",
      "Silhouette Coefficient: 0.524\n",
      "\n",
      "Mean Shift results for window size 2.855\n",
      "Estimated number of clusters: 16\n",
      "Estimated number of noise points: 8853\n",
      "Silhouette Coefficient: 0.583\n",
      "\n",
      "Mean Shift results for window size 3.569\n",
      "Estimated number of clusters: 9\n",
      "Estimated number of noise points: 2471\n",
      "Silhouette Coefficient: 0.736\n",
      "\n",
      "Mean Shift results for window size 4.283\n",
      "Estimated number of clusters: 6\n",
      "Estimated number of noise points: 1423\n",
      "Silhouette Coefficient: 0.736\n",
      "\n",
      "Mean Shift results for window size 4.996\n",
      "Estimated number of clusters: 4\n",
      "Estimated number of noise points: 1070\n",
      "Silhouette Coefficient: 0.731\n",
      "\n",
      "Mean Shift results for window size 5.710\n",
      "Estimated number of clusters: 4\n",
      "Estimated number of noise points: 770\n",
      "Silhouette Coefficient: 0.726\n",
      "\n",
      "Mean Shift results for window size 6.424\n",
      "Estimated number of clusters: 4\n",
      "Estimated number of noise points: 537\n",
      "Silhouette Coefficient: 0.721\n",
      "\n",
      "Mean Shift results for window size 7.138\n",
      "Estimated number of clusters: 4\n",
      "Estimated number of noise points: 362\n",
      "Silhouette Coefficient: 0.717\n",
      "\n",
      "Mean Shift results for window size 7.851\n",
      "Estimated number of clusters: 3\n",
      "Estimated number of noise points: 282\n",
      "Silhouette Coefficient: 0.715\n",
      "\n",
      "Mean Shift results for window size 8.565\n",
      "Estimated number of clusters: 2\n",
      "Estimated number of noise points: 240\n",
      "Silhouette Coefficient: 0.921\n",
      "\n",
      "Mean Shift results for window size 9.279\n",
      "Estimated number of clusters: 2\n",
      "Estimated number of noise points: 219\n",
      "Silhouette Coefficient: 0.921\n",
      "\n",
      "Mean Shift results for window size 9.993\n",
      "Estimated number of clusters: 1\n",
      "Estimated number of noise points: 211\n",
      "No clusters found.\n",
      "\n"
     ]
    }
   ],
   "source": [
    "msflips = {}\n",
    "for mul in np.arange(0.25,3.75,0.25):\n",
    "    window = float(defbandwidth*mul)\n",
    "    msflips[mul] = MeanShift(bandwidth=window, bin_seeding=True,\n",
    "                               cluster_all=False, n_jobs=2).fit(Xss)\n",
    "    n_clusters_ = msflips[mul].cluster_centers_.shape[0]\n",
    "    n_noise_ = list(msflips[mul].labels_).count(-1)\n",
    "    print('Mean Shift results for window size %0.3f' % window)\n",
    "    print('Estimated number of clusters: %d' % n_clusters_)\n",
    "    print('Estimated number of noise points: %d' % n_noise_)\n",
    "    labelarray = np.concatenate((msflips[mul].labels_.reshape(-1,1),Xss),axis=1)\n",
    "    clusterpoints = labelarray[labelarray[:,0]>-1]\n",
    "    try:\n",
    "        print(\"Silhouette Coefficient: %0.3f\\n\" % \n",
    "              metrics.silhouette_score(clusterpoints[:,1:], clusterpoints[:,0]))\n",
    "    except:\n",
    "        print(\"No clusters found.\\n\")"
   ]
  },
  {
   "cell_type": "code",
   "execution_count": 49,
   "metadata": {
    "ExecuteTime": {
     "end_time": "2020-06-12T02:08:04.824797Z",
     "start_time": "2020-06-12T02:08:04.769442Z"
    }
   },
   "outputs": [
    {
     "data": {
      "text/plain": [
       "{(0.1,\n",
       "  5): DBSCAN(algorithm='auto', eps=0.1, leaf_size=30, metric='euclidean',\n",
       "        metric_params=None, min_samples=5, n_jobs=2, p=None),\n",
       " (0.1,\n",
       "  25): DBSCAN(algorithm='auto', eps=0.1, leaf_size=30, metric='euclidean',\n",
       "        metric_params=None, min_samples=25, n_jobs=2, p=None),\n",
       " (0.1,\n",
       "  125): DBSCAN(algorithm='auto', eps=0.1, leaf_size=30, metric='euclidean',\n",
       "        metric_params=None, min_samples=125, n_jobs=2, p=None),\n",
       " (0.15000000000000002,\n",
       "  5): DBSCAN(algorithm='auto', eps=0.15000000000000002, leaf_size=30,\n",
       "        metric='euclidean', metric_params=None, min_samples=5, n_jobs=2, p=None),\n",
       " (0.15000000000000002,\n",
       "  25): DBSCAN(algorithm='auto', eps=0.15000000000000002, leaf_size=30,\n",
       "        metric='euclidean', metric_params=None, min_samples=25, n_jobs=2,\n",
       "        p=None),\n",
       " (0.15000000000000002,\n",
       "  125): DBSCAN(algorithm='auto', eps=0.15000000000000002, leaf_size=30,\n",
       "        metric='euclidean', metric_params=None, min_samples=125, n_jobs=2,\n",
       "        p=None),\n",
       " (0.20000000000000004,\n",
       "  5): DBSCAN(algorithm='auto', eps=0.20000000000000004, leaf_size=30,\n",
       "        metric='euclidean', metric_params=None, min_samples=5, n_jobs=2, p=None),\n",
       " (0.20000000000000004,\n",
       "  25): DBSCAN(algorithm='auto', eps=0.20000000000000004, leaf_size=30,\n",
       "        metric='euclidean', metric_params=None, min_samples=25, n_jobs=2,\n",
       "        p=None),\n",
       " (0.20000000000000004,\n",
       "  125): DBSCAN(algorithm='auto', eps=0.20000000000000004, leaf_size=30,\n",
       "        metric='euclidean', metric_params=None, min_samples=125, n_jobs=2,\n",
       "        p=None),\n",
       " (0.25000000000000006,\n",
       "  5): DBSCAN(algorithm='auto', eps=0.25000000000000006, leaf_size=30,\n",
       "        metric='euclidean', metric_params=None, min_samples=5, n_jobs=2, p=None),\n",
       " (0.25000000000000006,\n",
       "  25): DBSCAN(algorithm='auto', eps=0.25000000000000006, leaf_size=30,\n",
       "        metric='euclidean', metric_params=None, min_samples=25, n_jobs=2,\n",
       "        p=None),\n",
       " (0.25000000000000006,\n",
       "  125): DBSCAN(algorithm='auto', eps=0.25000000000000006, leaf_size=30,\n",
       "        metric='euclidean', metric_params=None, min_samples=125, n_jobs=2,\n",
       "        p=None),\n",
       " (0.30000000000000004,\n",
       "  5): DBSCAN(algorithm='auto', eps=0.30000000000000004, leaf_size=30,\n",
       "        metric='euclidean', metric_params=None, min_samples=5, n_jobs=2, p=None),\n",
       " (0.30000000000000004,\n",
       "  25): DBSCAN(algorithm='auto', eps=0.30000000000000004, leaf_size=30,\n",
       "        metric='euclidean', metric_params=None, min_samples=25, n_jobs=2,\n",
       "        p=None),\n",
       " (0.30000000000000004,\n",
       "  125): DBSCAN(algorithm='auto', eps=0.30000000000000004, leaf_size=30,\n",
       "        metric='euclidean', metric_params=None, min_samples=125, n_jobs=2,\n",
       "        p=None),\n",
       " (0.3500000000000001,\n",
       "  5): DBSCAN(algorithm='auto', eps=0.3500000000000001, leaf_size=30,\n",
       "        metric='euclidean', metric_params=None, min_samples=5, n_jobs=2, p=None),\n",
       " (0.3500000000000001,\n",
       "  25): DBSCAN(algorithm='auto', eps=0.3500000000000001, leaf_size=30,\n",
       "        metric='euclidean', metric_params=None, min_samples=25, n_jobs=2,\n",
       "        p=None),\n",
       " (0.3500000000000001,\n",
       "  125): DBSCAN(algorithm='auto', eps=0.3500000000000001, leaf_size=30,\n",
       "        metric='euclidean', metric_params=None, min_samples=125, n_jobs=2,\n",
       "        p=None),\n",
       " (0.40000000000000013,\n",
       "  5): DBSCAN(algorithm='auto', eps=0.40000000000000013, leaf_size=30,\n",
       "        metric='euclidean', metric_params=None, min_samples=5, n_jobs=2, p=None),\n",
       " (0.40000000000000013,\n",
       "  25): DBSCAN(algorithm='auto', eps=0.40000000000000013, leaf_size=30,\n",
       "        metric='euclidean', metric_params=None, min_samples=25, n_jobs=2,\n",
       "        p=None),\n",
       " (0.40000000000000013,\n",
       "  125): DBSCAN(algorithm='auto', eps=0.40000000000000013, leaf_size=30,\n",
       "        metric='euclidean', metric_params=None, min_samples=125, n_jobs=2,\n",
       "        p=None),\n",
       " (0.45000000000000007,\n",
       "  5): DBSCAN(algorithm='auto', eps=0.45000000000000007, leaf_size=30,\n",
       "        metric='euclidean', metric_params=None, min_samples=5, n_jobs=2, p=None),\n",
       " (0.45000000000000007,\n",
       "  25): DBSCAN(algorithm='auto', eps=0.45000000000000007, leaf_size=30,\n",
       "        metric='euclidean', metric_params=None, min_samples=25, n_jobs=2,\n",
       "        p=None),\n",
       " (0.45000000000000007,\n",
       "  125): DBSCAN(algorithm='auto', eps=0.45000000000000007, leaf_size=30,\n",
       "        metric='euclidean', metric_params=None, min_samples=125, n_jobs=2,\n",
       "        p=None),\n",
       " (0.5000000000000001,\n",
       "  5): DBSCAN(algorithm='auto', eps=0.5000000000000001, leaf_size=30,\n",
       "        metric='euclidean', metric_params=None, min_samples=5, n_jobs=2, p=None),\n",
       " (0.5000000000000001,\n",
       "  25): DBSCAN(algorithm='auto', eps=0.5000000000000001, leaf_size=30,\n",
       "        metric='euclidean', metric_params=None, min_samples=25, n_jobs=2,\n",
       "        p=None),\n",
       " (0.5000000000000001,\n",
       "  125): DBSCAN(algorithm='auto', eps=0.5000000000000001, leaf_size=30,\n",
       "        metric='euclidean', metric_params=None, min_samples=125, n_jobs=2,\n",
       "        p=None),\n",
       " (0.5500000000000002,\n",
       "  5): DBSCAN(algorithm='auto', eps=0.5500000000000002, leaf_size=30,\n",
       "        metric='euclidean', metric_params=None, min_samples=5, n_jobs=2, p=None),\n",
       " (0.5500000000000002,\n",
       "  25): DBSCAN(algorithm='auto', eps=0.5500000000000002, leaf_size=30,\n",
       "        metric='euclidean', metric_params=None, min_samples=25, n_jobs=2,\n",
       "        p=None),\n",
       " (0.5500000000000002,\n",
       "  125): DBSCAN(algorithm='auto', eps=0.5500000000000002, leaf_size=30,\n",
       "        metric='euclidean', metric_params=None, min_samples=125, n_jobs=2,\n",
       "        p=None)}"
      ]
     },
     "execution_count": 49,
     "metadata": {},
     "output_type": "execute_result"
    }
   ],
   "source": [
    "dbflips"
   ]
  },
  {
   "cell_type": "markdown",
   "metadata": {},
   "source": [
    "Promising clustering results:\n",
    "`dbclusters`... not a damned thing.\n",
    "`msclusters[0.25]`\n",
    "`dbflips[(0.4,5),(0.55,5)]`... Ooops. Fukit. I meant `(0.4,25)`\n",
    "`msflips[0.5,0.75,1.0,1.25,1.5]`"
   ]
  },
  {
   "cell_type": "code",
   "execution_count": 65,
   "metadata": {
    "ExecuteTime": {
     "end_time": "2020-06-12T02:23:11.500227Z",
     "start_time": "2020-06-12T02:23:08.459262Z"
    }
   },
   "outputs": [
    {
     "name": "stdout",
     "output_type": "stream",
     "text": [
      "<class 'matplotlib.axes._subplots.AxesSubplot'>\n"
     ]
    },
    {
     "data": {
      "image/png": "[encoded data removed]",
      "text/plain": [
       "<Figure size 864x360 with 3 Axes>"
      ]
     },
     "metadata": {},
     "output_type": "display_data"
    }
   ],
   "source": [
    "targets = [msclusters[0.25],dbflips[(0.40000000000000013,5)],dbflips[(0.5500000000000002,5)]]\n",
    "fig, axs = plt.subplots(1, 3, sharey=True, tight_layout=True, figsize=(12,5))\n",
    "print(type(axs[0]))\n",
    "for i, model in enumerate(targets):\n",
    "    axs[i].hist(np.ravel(model.labels_), log=True)"
   ]
  },
  {
   "cell_type": "code",
   "execution_count": 53,
   "metadata": {
    "ExecuteTime": {
     "end_time": "2020-06-12T02:14:26.471910Z",
     "start_time": "2020-06-12T02:14:26.452429Z"
    }
   },
   "outputs": [
    {
     "data": {
      "text/plain": [
       "14"
      ]
     },
     "execution_count": 53,
     "metadata": {},
     "output_type": "execute_result"
    }
   ],
   "source": [
    "len(msflips.keys())"
   ]
  },
  {
   "cell_type": "code",
   "execution_count": 70,
   "metadata": {
    "ExecuteTime": {
     "end_time": "2020-06-12T02:26:11.631509Z",
     "start_time": "2020-06-12T02:26:01.187800Z"
    }
   },
   "outputs": [
    {
     "name": "stdout",
     "output_type": "stream",
     "text": [
      "(2, 7)\n"
     ]
    },
    {
     "data": {
      "image/png": "[encoded data removed]",
      "text/plain": [
       "<Figure size 864x864 with 14 Axes>"
      ]
     },
     "metadata": {},
     "output_type": "display_data"
    }
   ],
   "source": [
    "#fig, axs = plt.subplots(1, 3, sharey=True, tight_layout=True, figsize=(12,5))\n",
    "#for i, model in enumerate(targets):\n",
    "#    axs[i].hist(np.ravel(model.labels_), log=True)\n",
    "\n",
    "fig, axs = plt.subplots(2, 7, sharey=True, tight_layout=True, figsize=(12,12))\n",
    "print(axs.shape)\n",
    "for i, key in enumerate(msflips.keys()):\n",
    "    if i < 7:\n",
    "        axs[0,i].hist(np.ravel(msflips[key].labels_), log=True)\n",
    "    else:\n",
    "        axs[1,i-7].hist(np.ravel(msflips[key].labels_), log=True)"
   ]
  },
  {
   "cell_type": "markdown",
   "metadata": {},
   "source": [
    "Let's plot the first three. I was worried about getting the centroid color calibrated to mean something, but for right now there are only a dozen cluster-objects at most, so I won't exhaust a color palette nor my ability to think through what the randomly colored objects are.\n",
    "\n",
    "Except seaborn vomited all over itself. Hmmm. Can I somehow create a sparse matrix and convert it to a raster? Not with scipy.sparse.coo_matrix, that's choking on its own vomit too."
   ]
  },
  {
   "cell_type": "code",
   "execution_count": 89,
   "metadata": {
    "ExecuteTime": {
     "end_time": "2020-06-12T03:17:26.967397Z",
     "start_time": "2020-06-12T03:17:26.961562Z"
    }
   },
   "outputs": [],
   "source": [
    "Xss[:,0:3]=Xss[:,0:3]*10.0"
   ]
  },
  {
   "cell_type": "code",
   "execution_count": 92,
   "metadata": {
    "ExecuteTime": {
     "end_time": "2020-06-12T03:18:48.806867Z",
     "start_time": "2020-06-12T03:18:48.797728Z"
    }
   },
   "outputs": [
    {
     "data": {
      "text/plain": [
       "array([[ 1.44726628, -0.61303819, -0.77888362, ..., -0.96911189,\n",
       "        -0.94811005, -0.81358652],\n",
       "       [-1.24051395, -0.64476074,  0.65503945, ...,  1.54058539,\n",
       "         0.78140908,  0.27408151],\n",
       "       [-0.56556765, -1.05239545,  1.19993022, ..., -0.17731219,\n",
       "         1.07845921,  1.24507242],\n",
       "       ...,\n",
       "       [-0.17340518,  1.18245789, -0.77888362, ..., -0.93134053,\n",
       "        -0.92478794, -0.79974348],\n",
       "       [-0.63226195, -1.35693189,  1.71108162, ...,  0.09268311,\n",
       "         0.47331164,  0.34329674],\n",
       "       [-0.13872414,  1.49968334, -0.77888362, ..., -0.95792037,\n",
       "        -0.93338029, -0.78985559]])"
      ]
     },
     "execution_count": 92,
     "metadata": {},
     "output_type": "execute_result"
    }
   ],
   "source": [
    "Xss[:,0:3]=Xss[:,0:3]/10.0\n",
    "Xss"
   ]
  },
  {
   "cell_type": "code",
   "execution_count": 93,
   "metadata": {
    "ExecuteTime": {
     "end_time": "2020-06-12T03:18:56.752743Z",
     "start_time": "2020-06-12T03:18:56.735943Z"
    }
   },
   "outputs": [],
   "source": [
    "Cs=[]\n",
    "Xxy = scaler.inverse_transform(Xss)\n",
    "for model in enumerate(targets):\n",
    "    Cs.append(np.concatenate(((model.labels_).reshape(-1,1),Xxy[:,0:2].astype(int)),axis=1))"
   ]
  },
  {
   "cell_type": "code",
   "execution_count": 95,
   "metadata": {
    "ExecuteTime": {
     "end_time": "2020-06-12T03:22:39.873272Z",
     "start_time": "2020-06-12T03:22:39.728413Z"
    }
   },
   "outputs": [
    {
     "ename": "TypeError",
     "evalue": "only integer scalar arrays can be converted to a scalar index",
     "output_type": "error",
     "traceback": [
      "\u001b[0;31m---------------------------------------------------------------------------\u001b[0m",
      "\u001b[0;31mTypeError\u001b[0m                                 Traceback (most recent call last)",
      "\u001b[0;32m<ipython-input-95-41423f6bf212>\u001b[0m in \u001b[0;36m<module>\u001b[0;34m\u001b[0m\n\u001b[1;32m      1\u001b[0m \u001b[0mCsparses\u001b[0m\u001b[0;34m=\u001b[0m\u001b[0;34m[\u001b[0m\u001b[0;34m]\u001b[0m\u001b[0;34m\u001b[0m\u001b[0;34m\u001b[0m\u001b[0m\n\u001b[1;32m      2\u001b[0m \u001b[0;32mfor\u001b[0m \u001b[0mmatrix\u001b[0m \u001b[0;32min\u001b[0m \u001b[0mCs\u001b[0m\u001b[0;34m:\u001b[0m\u001b[0;34m\u001b[0m\u001b[0;34m\u001b[0m\u001b[0m\n\u001b[0;32m----> 3\u001b[0;31m     \u001b[0mCsparses\u001b[0m\u001b[0;34m.\u001b[0m\u001b[0mappend\u001b[0m\u001b[0;34m(\u001b[0m\u001b[0mcoo_matrix\u001b[0m\u001b[0;34m(\u001b[0m\u001b[0mmatrix\u001b[0m\u001b[0;34m[\u001b[0m\u001b[0;34m:\u001b[0m\u001b[0;34m,\u001b[0m\u001b[0;36m0\u001b[0m\u001b[0;34m]\u001b[0m\u001b[0;34m,\u001b[0m\u001b[0;34m(\u001b[0m\u001b[0mmatrix\u001b[0m\u001b[0;34m[\u001b[0m\u001b[0;34m:\u001b[0m\u001b[0;34m,\u001b[0m\u001b[0;36m1\u001b[0m\u001b[0;34m]\u001b[0m\u001b[0;34m,\u001b[0m\u001b[0mmatrix\u001b[0m\u001b[0;34m[\u001b[0m\u001b[0;34m:\u001b[0m\u001b[0;34m,\u001b[0m\u001b[0;36m2\u001b[0m\u001b[0;34m]\u001b[0m\u001b[0;34m)\u001b[0m\u001b[0;34m)\u001b[0m\u001b[0;34m)\u001b[0m\u001b[0;34m\u001b[0m\u001b[0;34m\u001b[0m\u001b[0m\n\u001b[0m",
      "\u001b[0;32m~/miniconda3/lib/python3.7/site-packages/scipy/sparse/coo.py\u001b[0m in \u001b[0;36m__init__\u001b[0;34m(self, arg1, shape, dtype, copy)\u001b[0m\n\u001b[1;32m    185\u001b[0m                 \u001b[0mself\u001b[0m\u001b[0;34m.\u001b[0m\u001b[0m_shape\u001b[0m \u001b[0;34m=\u001b[0m \u001b[0mcheck_shape\u001b[0m\u001b[0;34m(\u001b[0m\u001b[0mM\u001b[0m\u001b[0;34m.\u001b[0m\u001b[0mshape\u001b[0m\u001b[0;34m)\u001b[0m\u001b[0;34m\u001b[0m\u001b[0;34m\u001b[0m\u001b[0m\n\u001b[1;32m    186\u001b[0m                 \u001b[0;32mif\u001b[0m \u001b[0mshape\u001b[0m \u001b[0;32mis\u001b[0m \u001b[0;32mnot\u001b[0m \u001b[0;32mNone\u001b[0m\u001b[0;34m:\u001b[0m\u001b[0;34m\u001b[0m\u001b[0;34m\u001b[0m\u001b[0m\n\u001b[0;32m--> 187\u001b[0;31m                     \u001b[0;32mif\u001b[0m \u001b[0mcheck_shape\u001b[0m\u001b[0;34m(\u001b[0m\u001b[0mshape\u001b[0m\u001b[0;34m)\u001b[0m \u001b[0;34m!=\u001b[0m \u001b[0mself\u001b[0m\u001b[0;34m.\u001b[0m\u001b[0m_shape\u001b[0m\u001b[0;34m:\u001b[0m\u001b[0;34m\u001b[0m\u001b[0;34m\u001b[0m\u001b[0m\n\u001b[0m\u001b[1;32m    188\u001b[0m                         raise ValueError('inconsistent shapes: %s != %s' %\n\u001b[1;32m    189\u001b[0m                                          (shape, self._shape))\n",
      "\u001b[0;32m~/miniconda3/lib/python3.7/site-packages/scipy/sparse/sputils.py\u001b[0m in \u001b[0;36mcheck_shape\u001b[0;34m(args, current_shape)\u001b[0m\n\u001b[1;32m    278\u001b[0m             \u001b[0mnew_shape\u001b[0m \u001b[0;34m=\u001b[0m \u001b[0mtuple\u001b[0m\u001b[0;34m(\u001b[0m\u001b[0moperator\u001b[0m\u001b[0;34m.\u001b[0m\u001b[0mindex\u001b[0m\u001b[0;34m(\u001b[0m\u001b[0marg\u001b[0m\u001b[0;34m)\u001b[0m \u001b[0;32mfor\u001b[0m \u001b[0marg\u001b[0m \u001b[0;32min\u001b[0m \u001b[0mshape_iter\u001b[0m\u001b[0;34m)\u001b[0m\u001b[0;34m\u001b[0m\u001b[0;34m\u001b[0m\u001b[0m\n\u001b[1;32m    279\u001b[0m     \u001b[0;32melse\u001b[0m\u001b[0;34m:\u001b[0m\u001b[0;34m\u001b[0m\u001b[0;34m\u001b[0m\u001b[0m\n\u001b[0;32m--> 280\u001b[0;31m         \u001b[0mnew_shape\u001b[0m \u001b[0;34m=\u001b[0m \u001b[0mtuple\u001b[0m\u001b[0;34m(\u001b[0m\u001b[0moperator\u001b[0m\u001b[0;34m.\u001b[0m\u001b[0mindex\u001b[0m\u001b[0;34m(\u001b[0m\u001b[0marg\u001b[0m\u001b[0;34m)\u001b[0m \u001b[0;32mfor\u001b[0m \u001b[0marg\u001b[0m \u001b[0;32min\u001b[0m \u001b[0margs\u001b[0m\u001b[0;34m)\u001b[0m\u001b[0;34m\u001b[0m\u001b[0;34m\u001b[0m\u001b[0m\n\u001b[0m\u001b[1;32m    281\u001b[0m \u001b[0;34m\u001b[0m\u001b[0m\n\u001b[1;32m    282\u001b[0m     \u001b[0;32mif\u001b[0m \u001b[0mcurrent_shape\u001b[0m \u001b[0;32mis\u001b[0m \u001b[0;32mNone\u001b[0m\u001b[0;34m:\u001b[0m\u001b[0;34m\u001b[0m\u001b[0;34m\u001b[0m\u001b[0m\n",
      "\u001b[0;32m~/miniconda3/lib/python3.7/site-packages/scipy/sparse/sputils.py\u001b[0m in \u001b[0;36m<genexpr>\u001b[0;34m(.0)\u001b[0m\n\u001b[1;32m    278\u001b[0m             \u001b[0mnew_shape\u001b[0m \u001b[0;34m=\u001b[0m \u001b[0mtuple\u001b[0m\u001b[0;34m(\u001b[0m\u001b[0moperator\u001b[0m\u001b[0;34m.\u001b[0m\u001b[0mindex\u001b[0m\u001b[0;34m(\u001b[0m\u001b[0marg\u001b[0m\u001b[0;34m)\u001b[0m \u001b[0;32mfor\u001b[0m \u001b[0marg\u001b[0m \u001b[0;32min\u001b[0m \u001b[0mshape_iter\u001b[0m\u001b[0;34m)\u001b[0m\u001b[0;34m\u001b[0m\u001b[0;34m\u001b[0m\u001b[0m\n\u001b[1;32m    279\u001b[0m     \u001b[0;32melse\u001b[0m\u001b[0;34m:\u001b[0m\u001b[0;34m\u001b[0m\u001b[0;34m\u001b[0m\u001b[0m\n\u001b[0;32m--> 280\u001b[0;31m         \u001b[0mnew_shape\u001b[0m \u001b[0;34m=\u001b[0m \u001b[0mtuple\u001b[0m\u001b[0;34m(\u001b[0m\u001b[0moperator\u001b[0m\u001b[0;34m.\u001b[0m\u001b[0mindex\u001b[0m\u001b[0;34m(\u001b[0m\u001b[0marg\u001b[0m\u001b[0;34m)\u001b[0m \u001b[0;32mfor\u001b[0m \u001b[0marg\u001b[0m \u001b[0;32min\u001b[0m \u001b[0margs\u001b[0m\u001b[0;34m)\u001b[0m\u001b[0;34m\u001b[0m\u001b[0;34m\u001b[0m\u001b[0m\n\u001b[0m\u001b[1;32m    281\u001b[0m \u001b[0;34m\u001b[0m\u001b[0m\n\u001b[1;32m    282\u001b[0m     \u001b[0;32mif\u001b[0m \u001b[0mcurrent_shape\u001b[0m \u001b[0;32mis\u001b[0m \u001b[0;32mNone\u001b[0m\u001b[0;34m:\u001b[0m\u001b[0;34m\u001b[0m\u001b[0;34m\u001b[0m\u001b[0m\n",
      "\u001b[0;31mTypeError\u001b[0m: only integer scalar arrays can be converted to a scalar index"
     ]
    }
   ],
   "source": [
    "rasarrays = []\n",
    "for matrix in Cs:\n",
    "    # for now just making a grayscale array\n",
    "    rasarrays.append(np.zeros(arr[0,:,:]))\n",
    "    for i in range(matrix.shape[0]):\n",
    "        "
   ]
  },
  {
   "cell_type": "code",
   "execution_count": null,
   "metadata": {},
   "outputs": [],
   "source": []
  },
  {
   "cell_type": "code",
   "execution_count": 42,
   "metadata": {
    "ExecuteTime": {
     "end_time": "2020-06-11T22:39:47.985205Z",
     "start_time": "2020-06-11T22:39:47.831338Z"
    }
   },
   "outputs": [
    {
     "name": "stdout",
     "output_type": "stream",
     "text": [
      "-2000 16604\n"
     ]
    }
   ],
   "source": [
    "print(np.min(X), np.max(X))"
   ]
  },
  {
   "cell_type": "markdown",
   "metadata": {},
   "source": [
    "Right, I scaled `X` to make `Xsc`."
   ]
  },
  {
   "cell_type": "code",
   "execution_count": 43,
   "metadata": {
    "ExecuteTime": {
     "end_time": "2020-06-11T22:41:11.219055Z",
     "start_time": "2020-06-11T22:40:46.572039Z"
    }
   },
   "outputs": [
    {
     "name": "stdout",
     "output_type": "stream",
     "text": [
      "[[-0.05278744 -0.20105742  0.20146306  0.18054106  0.27917228  0.42914731\n",
      "   0.42803077  0.30032465  0.40318585  0.43074159]\n",
      " [ 0.22201521  0.34464573 -0.4248821   0.53324727  0.45708589  0.1397536\n",
      "   0.14058989 -0.28873299 -0.18444937 -0.03793032]\n",
      " [-0.68845062  0.54191344 -0.3125506  -0.04899759 -0.04264367  0.05200009\n",
      "  -0.06427725  0.3234295   0.13611875  0.02208869]]\n",
      "[0.50008597 0.27260612 0.10978259]\n"
     ]
    }
   ],
   "source": [
    "pca3 = PCA(n_components=3)\n",
    "signal3 = pca3.fit_transform(Xsc)\n",
    "print(pca3.components_)\n",
    "print(pca3.explained_variance_ratio_)"
   ]
  },
  {
   "cell_type": "code",
   "execution_count": 44,
   "metadata": {
    "ExecuteTime": {
     "end_time": "2020-06-11T22:49:22.901288Z",
     "start_time": "2020-06-11T22:41:11.221942Z"
    }
   },
   "outputs": [
    {
     "data": {
      "image/png": "[encoded data removed]",
      "text/plain": [
       "<Figure size 432x288 with 2 Axes>"
      ]
     },
     "metadata": {},
     "output_type": "display_data"
    }
   ],
   "source": [
    "f, ax = plt.subplots()\n",
    "points = ax.scatter(signal3[:,0], signal3[:,1], c=signal3[:,2], s=10, cmap='PiYG', alpha=0.2)\n",
    "f.colorbar(points)\n",
    "plt.show();"
   ]
  },
  {
   "cell_type": "markdown",
   "metadata": {},
   "source": [
    "I should...try clustering these by...cosine distance? At first blush it looks like PCA has gotten this wrong, just like all the other times, and the true principal axis is about y = 5/8 x, but apparently the noisy points at the bottom right justify this? Still, it might be interesting to try \"flattening\" the data in that direction. Then I had a better idea... let's first look at plots on the other faces of this orthorhombic lattice."
   ]
  },
  {
   "cell_type": "code",
   "execution_count": 45,
   "metadata": {
    "ExecuteTime": {
     "end_time": "2020-06-12T01:51:05.133733Z",
     "start_time": "2020-06-12T01:42:54.960614Z"
    }
   },
   "outputs": [
    {
     "data": {
      "image/png": "[encoded data removed]",
      "text/plain": [
       "<Figure size 432x288 with 2 Axes>"
      ]
     },
     "metadata": {},
     "output_type": "display_data"
    }
   ],
   "source": [
    "f, ax = plt.subplots()\n",
    "points = ax.scatter(signal3[:,0], signal3[:,2], c=signal3[:,1], s=10, cmap='PiYG', alpha=0.2)\n",
    "f.colorbar(points)\n",
    "plt.show();"
   ]
  },
  {
   "cell_type": "code",
   "execution_count": 46,
   "metadata": {
    "ExecuteTime": {
     "end_time": "2020-06-12T01:59:10.999838Z",
     "start_time": "2020-06-12T01:51:05.136206Z"
    }
   },
   "outputs": [
    {
     "data": {
      "image/png": "[encoded data removed]",
      "text/plain": [
       "<Figure size 432x288 with 2 Axes>"
      ]
     },
     "metadata": {},
     "output_type": "display_data"
    }
   ],
   "source": [
    "f, ax = plt.subplots()\n",
    "points = ax.scatter(signal3[:,1], signal3[:,2], c=signal3[:,0], s=10, cmap='PiYG', alpha=0.2)\n",
    "f.colorbar(points)\n",
    "plt.show();"
   ]
  },
  {
   "cell_type": "code",
   "execution_count": 103,
   "metadata": {},
   "outputs": [],
   "source": [
    "clustermaps = {}\n",
    "for i, key in enumerate(signal_clusters.keys()):\n",
    "    clustermaps[i] = np.concatenate((signal_clusters[key].))"
   ]
  },
  {
   "cell_type": "code",
   "execution_count": 109,
   "metadata": {},
   "outputs": [],
   "source": [
    "centroids = landpca3.transform(signal_cluster.cluster_centers_)"
   ]
  },
  {
   "cell_type": "code",
   "execution_count": 110,
   "metadata": {},
   "outputs": [
    {
     "data": {
      "text/plain": [
       "array([[0],\n",
       "       [1],\n",
       "       [2],\n",
       "       [3]])"
      ]
     },
     "execution_count": 110,
     "metadata": {},
     "output_type": "execute_result"
    }
   ],
   "source": [
    "labels = (np.array(np.arange(4))).reshape(4,1)\n",
    "labels"
   ]
  },
  {
   "cell_type": "code",
   "execution_count": 111,
   "metadata": {},
   "outputs": [
    {
     "data": {
      "text/plain": [
       "array([[ 0.00000000e+00, -2.65483939e-01,  2.05806341e-03,\n",
       "        -1.58237190e-03],\n",
       "       [ 1.00000000e+00,  2.43647596e+01, -2.41524704e+00,\n",
       "         2.61205740e+00],\n",
       "       [ 2.00000000e+00,  4.83216579e+01, -4.20991565e+00,\n",
       "         6.57663750e+00],\n",
       "       [ 3.00000000e+00,  3.41941141e+00,  5.42933475e+00,\n",
       "        -3.54018951e+00]])"
      ]
     },
     "execution_count": 111,
     "metadata": {},
     "output_type": "execute_result"
    }
   ],
   "source": [
    "centroid_label = np.concatenate((labels,centroids),axis=1)\n",
    "centroid_label"
   ]
  },
  {
   "cell_type": "code",
   "execution_count": 113,
   "metadata": {},
   "outputs": [
    {
     "data": {
      "image/png": "[encoded data removed]",
      "text/plain": [
       "<Figure size 432x288 with 1 Axes>"
      ]
     },
     "metadata": {},
     "output_type": "display_data"
    }
   ],
   "source": [
    "f, ax = plt.subplots()\n",
    "points = ax.scatter(labelpca3[:,1], labelpca3[:,2], \n",
    "                    s=labelpca3[:,3]*5, c=labelpca3[:,0])\n",
    "centers = ax.scatter(centroid_label[:,1], centroid_label[:,2], \n",
    "                    s=50, c=centroid_label[:,0])\n",
    "plt.show();"
   ]
  },
  {
   "cell_type": "code",
   "execution_count": 114,
   "metadata": {},
   "outputs": [
    {
     "name": "stdout",
     "output_type": "stream",
     "text": [
      "Mean Shift results for window size 3.939\n",
      "Estimated number of clusters: 7\n",
      "Estimated number of noise points: 418\n",
      "Silhouette Coefficient: 0.700\n",
      "\n",
      "Mean Shift results for window size 4.376\n",
      "Estimated number of clusters: 6\n",
      "Estimated number of noise points: 373\n",
      "Silhouette Coefficient: 0.696\n",
      "\n",
      "Mean Shift results for window size 4.814\n",
      "Estimated number of clusters: 5\n",
      "Estimated number of noise points: 302\n",
      "Silhouette Coefficient: 0.691\n",
      "\n",
      "Mean Shift results for window size 5.252\n",
      "Estimated number of clusters: 4\n",
      "Estimated number of noise points: 242\n",
      "Silhouette Coefficient: 0.766\n",
      "\n"
     ]
    }
   ],
   "source": [
    "sig_clusts=[]\n",
    "for mul in np.arange(2.25,3.25,0.25):\n",
    "    window = float(defbandwidth*mul)\n",
    "    sig_clusts.append(MeanShift(bandwidth=window, bin_seeding=True,\n",
    "                               cluster_all=False, n_jobs=2).fit(Xs))\n",
    "    n_clusters_ = sig_clusts[-1].cluster_centers_.shape[0]\n",
    "    n_noise_ = list(sig_clusts[-1].labels_).count(-1)\n",
    "    print('Mean Shift results for window size %0.3f' % window)\n",
    "    print('Estimated number of clusters: %d' % n_clusters_)\n",
    "    print('Estimated number of noise points: %d' % n_noise_)\n",
    "    labelarray = np.concatenate((sig_clusts[-1].labels_.reshape(-1,1),Xs),axis=1)\n",
    "    clusterpoints = labelarray[labelarray[:,0]>-1]\n",
    "    print(\"Silhouette Coefficient: %0.3f\\n\" % \n",
    "      metrics.silhouette_score(clusterpoints[:,1:], clusterpoints[:,0]))"
   ]
  },
  {
   "cell_type": "code",
   "execution_count": 119,
   "metadata": {},
   "outputs": [],
   "source": [
    "cents = []\n",
    "for ms in sig_clusts:\n",
    "    cnum = []\n",
    "    cents.append(landpca3.transform(ms.cluster_centers_))\n",
    "    labels = (np.array(np.arange(ms.cluster_centers_.shape[0]))).reshape(-1,1)\n",
    "    for label in labels:\n",
    "        cnum.append(list(ms.labels_).count(label))\n",
    "    cnum = (np.array(cnum)).reshape(-1,1)\n",
    "    cents[-1] = np.concatenate((labels,cents[-1],cnum),axis=1)"
   ]
  },
  {
   "cell_type": "code",
   "execution_count": 120,
   "metadata": {},
   "outputs": [
    {
     "data": {
      "text/plain": [
       "array([[ 0.00000000e+00, -2.91996444e-01, -5.86079051e-03,\n",
       "         5.35566406e-03,  9.51900000e+03],\n",
       "       [ 1.00000000e+00,  2.69426102e+01, -2.80333043e+00,\n",
       "         3.01633372e+00,  1.60000000e+01],\n",
       "       [ 2.00000000e+00, -3.28528997e+00,  1.17558864e+00,\n",
       "        -4.07077339e+00,  2.00000000e+00],\n",
       "       [ 3.00000000e+00,  4.83216579e+01, -4.20991565e+00,\n",
       "         6.57663750e+00,  1.00000000e+00],\n",
       "       [ 4.00000000e+00,  3.41941141e+00,  5.42933475e+00,\n",
       "        -3.54018951e+00,  1.00000000e+00]])"
      ]
     },
     "execution_count": 120,
     "metadata": {},
     "output_type": "execute_result"
    }
   ],
   "source": [
    "cents[2]"
   ]
  },
  {
   "cell_type": "code",
   "execution_count": 122,
   "metadata": {},
   "outputs": [
    {
     "data": {
      "image/png": "[encoded data removed]",
      "text/plain": [
       "<Figure size 432x288 with 2 Axes>"
      ]
     },
     "metadata": {},
     "output_type": "display_data"
    },
    {
     "data": {
      "image/png": "[encoded data removed]",
      "text/plain": [
       "<Figure size 432x288 with 2 Axes>"
      ]
     },
     "metadata": {},
     "output_type": "display_data"
    },
    {
     "data": {
      "image/png": "[encoded data removed]",
      "text/plain": [
       "<Figure size 432x288 with 2 Axes>"
      ]
     },
     "metadata": {},
     "output_type": "display_data"
    },
    {
     "data": {
      "image/png": "[encoded data removed]",
      "text/plain": [
       "<Figure size 432x288 with 2 Axes>"
      ]
     },
     "metadata": {},
     "output_type": "display_data"
    }
   ],
   "source": [
    "for centroids in cents:\n",
    "    f, ax = plt.subplots()\n",
    "    centers = ax.scatter(centroids[:,1], centroids[:,2], \n",
    "                        s=1+np.sqrt(centroids[:,4]), c=centroids[:,3])\n",
    "    f.colorbar(centers)\n",
    "    plt.show();"
   ]
  },
  {
   "cell_type": "code",
   "execution_count": 123,
   "metadata": {},
   "outputs": [
    {
     "data": {
      "text/plain": [
       "[array([[ 0.00000000e+00, -3.47725425e-01, -1.55562596e-02,\n",
       "          1.40683241e-02,  9.38200000e+03],\n",
       "        [ 1.00000000e+00,  1.86441253e+01, -2.04876922e+00,\n",
       "          1.79043639e+00,  1.90000000e+01],\n",
       "        [ 2.00000000e+00,  2.29452005e+01, -2.36754997e+00,\n",
       "          2.35821793e+00,  1.20000000e+01],\n",
       "        [ 3.00000000e+00,  3.14133107e+01, -2.90501085e+00,\n",
       "          3.08448885e+00,  6.00000000e+00],\n",
       "        [ 4.00000000e+00, -3.28528997e+00,  1.17558864e+00,\n",
       "         -4.07077339e+00,  2.00000000e+00],\n",
       "        [ 5.00000000e+00,  4.83216579e+01, -4.20991565e+00,\n",
       "          6.57663750e+00,  1.00000000e+00],\n",
       "        [ 6.00000000e+00,  3.41941141e+00,  5.42933475e+00,\n",
       "         -3.54018951e+00,  1.00000000e+00]]),\n",
       " array([[ 0.00000000e+00, -3.23685118e-01, -1.04239735e-02,\n",
       "          9.68755863e-03,  9.44300000e+03],\n",
       "        [ 1.00000000e+00,  2.49037574e+01, -2.51666734e+00,\n",
       "          2.64414261e+00,  1.60000000e+01],\n",
       "        [ 2.00000000e+00,  3.35995758e+01, -3.27339543e+00,\n",
       "          3.47411497e+00,  5.00000000e+00],\n",
       "        [ 3.00000000e+00, -3.28528997e+00,  1.17558864e+00,\n",
       "         -4.07077339e+00,  2.00000000e+00],\n",
       "        [ 4.00000000e+00,  4.83216579e+01, -4.20991565e+00,\n",
       "          6.57663750e+00,  1.00000000e+00],\n",
       "        [ 5.00000000e+00,  3.41941141e+00,  5.42933475e+00,\n",
       "         -3.54018951e+00,  1.00000000e+00]]),\n",
       " array([[ 0.00000000e+00, -2.91996444e-01, -5.86079051e-03,\n",
       "          5.35566406e-03,  9.51900000e+03],\n",
       "        [ 1.00000000e+00,  2.69426102e+01, -2.80333043e+00,\n",
       "          3.01633372e+00,  1.60000000e+01],\n",
       "        [ 2.00000000e+00, -3.28528997e+00,  1.17558864e+00,\n",
       "         -4.07077339e+00,  2.00000000e+00],\n",
       "        [ 3.00000000e+00,  4.83216579e+01, -4.20991565e+00,\n",
       "          6.57663750e+00,  1.00000000e+00],\n",
       "        [ 4.00000000e+00,  3.41941141e+00,  5.42933475e+00,\n",
       "         -3.54018951e+00,  1.00000000e+00]]),\n",
       " array([[ 0.00000000e+00, -2.65483939e-01,  2.05806341e-03,\n",
       "         -1.58237190e-03,  9.57500000e+03],\n",
       "        [ 1.00000000e+00,  2.43647596e+01, -2.41524704e+00,\n",
       "          2.61205740e+00,  2.20000000e+01],\n",
       "        [ 2.00000000e+00,  4.83216579e+01, -4.20991565e+00,\n",
       "          6.57663750e+00,  1.00000000e+00],\n",
       "        [ 3.00000000e+00,  3.41941141e+00,  5.42933475e+00,\n",
       "         -3.54018951e+00,  1.00000000e+00]])]"
      ]
     },
     "execution_count": 123,
     "metadata": {},
     "output_type": "execute_result"
    }
   ],
   "source": [
    "cents"
   ]
  },
  {
   "cell_type": "code",
   "execution_count": null,
   "metadata": {},
   "outputs": [],
   "source": []
  }
 ],
 "metadata": {
  "kernelspec": {
   "display_name": "Python 3",
   "language": "python",
   "name": "python3"
  },
  "language_info": {
   "codemirror_mode": {
    "name": "ipython",
    "version": 3
   },
   "file_extension": ".py",
   "mimetype": "text/x-python",
   "name": "python",
   "nbconvert_exporter": "python",
   "pygments_lexer": "ipython3",
   "version": "3.7.7"
  }
 },
 "nbformat": 4,
 "nbformat_minor": 4
}
