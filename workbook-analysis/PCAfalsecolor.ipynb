{
 "cells": [
  {
   "cell_type": "code",
   "execution_count": 5,
   "metadata": {
    "ExecuteTime": {
     "end_time": "2020-06-11T18:59:51.747918Z",
     "start_time": "2020-06-11T18:59:51.040802Z"
    }
   },
   "outputs": [],
   "source": [
    "import numpy as np\n",
    "import numpy.ma as ma   # masking sublibrary for exactly this situation"
   ]
  },
  {
   "cell_type": "code",
   "execution_count": 2,
   "metadata": {},
   "outputs": [],
   "source": [
    "import matplotlib.pyplot as plt\n",
    "import seaborn as sns\n",
    "%matplotlib inline\n",
    "sns.set()"
   ]
  },
  {
   "cell_type": "code",
   "execution_count": 6,
   "metadata": {
    "ExecuteTime": {
     "end_time": "2020-06-11T18:59:56.003003Z",
     "start_time": "2020-06-11T18:59:55.811322Z"
    }
   },
   "outputs": [],
   "source": [
    "from osgeo import gdal"
   ]
  },
  {
   "cell_type": "code",
   "execution_count": 7,
   "metadata": {
    "ExecuteTime": {
     "end_time": "2020-06-11T19:00:04.696712Z",
     "start_time": "2020-06-11T19:00:02.389482Z"
    }
   },
   "outputs": [],
   "source": [
    "from sklearn import metrics\n",
    "from sklearn.preprocessing import StandardScaler"
   ]
  },
  {
   "cell_type": "code",
   "execution_count": 8,
   "metadata": {
    "ExecuteTime": {
     "end_time": "2020-06-11T19:00:05.041350Z",
     "start_time": "2020-06-11T19:00:04.700182Z"
    }
   },
   "outputs": [],
   "source": [
    "from sklearn.decomposition import PCA"
   ]
  },
  {
   "cell_type": "code",
   "execution_count": 9,
   "metadata": {
    "ExecuteTime": {
     "end_time": "2020-06-11T19:00:06.091182Z",
     "start_time": "2020-06-11T19:00:06.087195Z"
    }
   },
   "outputs": [],
   "source": [
    "import pickle"
   ]
  },
  {
   "cell_type": "code",
   "execution_count": 10,
   "metadata": {
    "ExecuteTime": {
     "end_time": "2020-06-11T19:00:09.499970Z",
     "start_time": "2020-06-11T19:00:09.243534Z"
    }
   },
   "outputs": [],
   "source": [
    "from PIL import Image"
   ]
  },
  {
   "cell_type": "markdown",
   "metadata": {},
   "source": [
    "Channels, see https://github.com/apburnes/landsat8:\n",
    "1 = violet; 2 = blue; 3 = green; 4 = red; 5 = NIR; 6 = midIR; 7 = far-ishIR... 10 = thermIR1, 11 = thermIR2"
   ]
  },
  {
   "cell_type": "markdown",
   "metadata": {},
   "source": [
    "So the LANDSAT USGS ARD tiles are 2D 5000x5000 rasters. Location info is solely in the metadata and must include a starting point, resolution, and messier geometry / projection info.\n",
    "\n",
    "#### Task 1\n",
    "Use derived PCA components on land-clipped data to reproject whole tile.\n",
    "\n",
    "##### 1.1\n",
    "Import tile layers with nans. gdalinfo informs me that the tiles are Int16 and the NoData value is -9999."
   ]
  },
  {
   "cell_type": "code",
   "execution_count": 11,
   "metadata": {
    "ExecuteTime": {
     "end_time": "2020-06-11T19:00:20.764674Z",
     "start_time": "2020-06-11T19:00:15.603170Z"
    }
   },
   "outputs": [],
   "source": [
    "stack = np.empty((5000,5000,7),dtype=np.int16)\n",
    "filestem = 'LANDSAT/LC08_HI_004002_20170204_20190429_C01_V01_SRB'\n",
    "for i in range(1,8):\n",
    "    chan = gdal.Open(filestem+str(i)+'.tif')\n",
    "    stack[:,:,i-1] = chan.ReadAsArray()"
   ]
  },
  {
   "cell_type": "markdown",
   "metadata": {},
   "source": [
    "I can't apply np.nan to an array of integer values (poor form!) but I can mask entries."
   ]
  },
  {
   "cell_type": "code",
   "execution_count": 12,
   "metadata": {
    "ExecuteTime": {
     "end_time": "2020-06-11T19:00:26.839198Z",
     "start_time": "2020-06-11T19:00:25.363236Z"
    }
   },
   "outputs": [
    {
     "name": "stdout",
     "output_type": "stream",
     "text": [
      "[[[-9999 -9999 -9999 -9999 -9999 -9999 -9999]\n",
      "  [-9999 -9999 -9999 -9999 -9999 -9999 -9999]\n",
      "  [-9999 -9999 -9999 -9999 -9999 -9999 -9999]]\n",
      "\n",
      " [[-9999 -9999 -9999 -9999 -9999 -9999 -9999]\n",
      "  [-9999 -9999 -9999 -9999 -9999 -9999 -9999]\n",
      "  [-9999 -9999 -9999 -9999 -9999 -9999 -9999]]\n",
      "\n",
      " [[-9999 -9999 -9999 -9999 -9999 -9999 -9999]\n",
      "  [-9999 -9999 -9999 -9999 -9999 -9999 -9999]\n",
      "  [-9999 -9999 -9999 -9999 -9999 -9999 -9999]]] \n",
      " [[[-- -- -- -- -- -- --]\n",
      "  [-- -- -- -- -- -- --]\n",
      "  [-- -- -- -- -- -- --]]\n",
      "\n",
      " [[-- -- -- -- -- -- --]\n",
      "  [-- -- -- -- -- -- --]\n",
      "  [-- -- -- -- -- -- --]]\n",
      "\n",
      " [[-- -- -- -- -- -- --]\n",
      "  [-- -- -- -- -- -- --]\n",
      "  [-- -- -- -- -- -- --]]]\n"
     ]
    }
   ],
   "source": [
    "mstack = ma.masked_equal(stack,-9999)\n",
    "print(stack[:3,:3,:],'\\n',mstack[:3,:3,:])"
   ]
  },
  {
   "cell_type": "markdown",
   "metadata": {},
   "source": [
    "##### Task 1.2\n",
    "Scale data with same scaler used on land-clipped data.\n",
    "* Note that the scaler will only work on 2D arrays, so I will have to apply it row by row.\n",
    "* I will either have to\n",
    "    * pickle the scaler from the other workbook or \n",
    "    * reproduce the clipping and scaling here in this workbook.\n",
    "\n",
    "The former sounds more elegant; let's see if I can get it working."
   ]
  },
  {
   "cell_type": "code",
   "execution_count": 10,
   "metadata": {},
   "outputs": [],
   "source": [
    "with open('landscaler.pkl','rb') as cellar:\n",
    "    landscaler = pickle.load(cellar)"
   ]
  },
  {
   "cell_type": "code",
   "execution_count": 11,
   "metadata": {},
   "outputs": [
    {
     "data": {
      "text/plain": [
       "masked_array(\n",
       "  data=[[[282, 2780, 1108],\n",
       "         [281, 2785, 1113],\n",
       "         [303, 2973, 1268],\n",
       "         [313, 3042, 1331]],\n",
       "\n",
       "        [[283, 2807, 1165],\n",
       "         [293, 2915, 1158],\n",
       "         [304, 3030, 1214],\n",
       "         [303, 2956, 1251]]],\n",
       "  mask=[[[False, False, False],\n",
       "         [False, False, False],\n",
       "         [False, False, False],\n",
       "         [False, False, False]],\n",
       "\n",
       "        [[False, False, False],\n",
       "         [False, False, False],\n",
       "         [False, False, False],\n",
       "         [False, False, False]]],\n",
       "  fill_value=-9999,\n",
       "  dtype=int16)"
      ]
     },
     "execution_count": 11,
     "metadata": {},
     "output_type": "execute_result"
    }
   ],
   "source": [
    "mstack[1000:1002,1000:1004,3:6]"
   ]
  },
  {
   "cell_type": "markdown",
   "metadata": {},
   "source": [
    "That's tedious, but I'll live. The important observation is that numpy makes the bizarre choice to index 3D arrays in the order Z, Rows, Columns. Of course Z should be at the end, but whatevs."
   ]
  },
  {
   "cell_type": "markdown",
   "metadata": {},
   "source": [
    "https://scikit-learn.org/stable/modules/generated/sklearn.preprocessing.StandardScaler.html\n",
    "\"Centering and scaling happen independently on each feature by computing the relevant statistics on the samples in the training set. Mean and standard deviation are then stored to be used on later data using transform.\"\n",
    "\n",
    "Well, of course they do. We can deal with that. I've just got to apply the scaler slice by slice properly, with the spectral channels as columns. In the worst case scenario, I could iterate pixel by pixel over the whole dataframe and feed each 7 item pillar of spectral data to the scaler individually, but it won't come to that. I can apply the scaler to each Z-slice of the array, and the channels will be the columns, just like I need it to be. Or I can reshape it if I'm careful about it into a (5000x5000)x7 array, scale it, and reshape it back."
   ]
  },
  {
   "cell_type": "code",
   "execution_count": 12,
   "metadata": {},
   "outputs": [],
   "source": [
    "mscunstack = landscaler.transform(np.reshape(mstack,(-1,7),order='F').copy())"
   ]
  },
  {
   "cell_type": "markdown",
   "metadata": {},
   "source": [
    "##### Task 1.3\n",
    "Calculate PC projection of the whole tile of data using the matrix of coefficients derived from the land-clipped data in the tile-analysis workbook. Once again, I can pickle the array over there and pull it up here. The math should work out such that I can multiply each 7 component row vector in the block of scaled spectral data that I just created by a 7 channel by 3 PCA component conversion matrix and get a 3 component row vector of the PCs for that pixel.\n",
    "\n",
    "Or maybe I will just do the PCA .transform() on the row vectors and get the PCs out.\n",
    "\n",
    "I will do a big fat sampling of the land-only data in order to get the most representative PCA matrix that I can."
   ]
  },
  {
   "cell_type": "code",
   "execution_count": 13,
   "metadata": {},
   "outputs": [],
   "source": [
    "with open('landpca3.pkl','rb') as cellar:\n",
    "    landpca3 = pickle.load(cellar)"
   ]
  },
  {
   "cell_type": "markdown",
   "metadata": {},
   "source": [
    "This time around I didn't bother restacking the data until after I was done with both scaling and projecting. Live and learn."
   ]
  },
  {
   "cell_type": "code",
   "execution_count": 33,
   "metadata": {},
   "outputs": [],
   "source": [
    "pcastack = (landpca3.transform(mscunstack)).reshape((5000,5000,3),order='F')"
   ]
  },
  {
   "cell_type": "code",
   "execution_count": 34,
   "metadata": {},
   "outputs": [
    {
     "data": {
      "text/plain": [
       "array([[[-0.87058261,  0.49832129, -0.37611982],\n",
       "        [-0.84496981,  0.49973515, -0.38905451],\n",
       "        [-0.57926246,  0.74623806, -0.30868627]],\n",
       "\n",
       "       [[-0.77539183,  0.55202679, -0.34524714],\n",
       "        [-0.74638496,  0.63309339, -0.39416272],\n",
       "        [-0.62659437,  0.75154033, -0.39024962]]])"
      ]
     },
     "execution_count": 34,
     "metadata": {},
     "output_type": "execute_result"
    }
   ],
   "source": [
    "pcastack[1000:1002,1000:1003,:]"
   ]
  },
  {
   "cell_type": "code",
   "execution_count": 35,
   "metadata": {},
   "outputs": [
    {
     "data": {
      "text/plain": [
       "-73.4761694717422"
      ]
     },
     "execution_count": 35,
     "metadata": {},
     "output_type": "execute_result"
    }
   ],
   "source": [
    "np.min(pcastack[:,:,0])"
   ]
  },
  {
   "cell_type": "code",
   "execution_count": 36,
   "metadata": {},
   "outputs": [
    {
     "data": {
      "text/plain": [
       "52.67491139789678"
      ]
     },
     "execution_count": 36,
     "metadata": {},
     "output_type": "execute_result"
    }
   ],
   "source": [
    "np.max(pcastack[:,:,0])"
   ]
  },
  {
   "cell_type": "markdown",
   "metadata": {},
   "source": [
    "Ocean pixels can go far negative? Hope that's what that means. How's our mask doing?"
   ]
  },
  {
   "cell_type": "code",
   "execution_count": 37,
   "metadata": {},
   "outputs": [
    {
     "data": {
      "text/plain": [
       "array([[[-73.47616947,   2.86336551,   8.76417456],\n",
       "        [-73.47616947,   2.86336551,   8.76417456],\n",
       "        [-73.47616947,   2.86336551,   8.76417456]],\n",
       "\n",
       "       [[-73.47616947,   2.86336551,   8.76417456],\n",
       "        [-73.47616947,   2.86336551,   8.76417456],\n",
       "        [-73.47616947,   2.86336551,   8.76417456]]])"
      ]
     },
     "execution_count": 37,
     "metadata": {},
     "output_type": "execute_result"
    }
   ],
   "source": [
    "pcastack[:2,:3,:]"
   ]
  },
  {
   "cell_type": "markdown",
   "metadata": {},
   "source": [
    "Shit, those may be the values for -9999, eh? Let's grab the mask and apply it to the same cells in this matrix. Hmmm. Now that these are floats, np.nan is a viable choice for this matrix. But we're going to export it to a visible tiff format, probably scaled 0-255 (how many bits is this?). Will need to figure out how to copy a mask over from mstack to pcastack, except that pcastack has fewer components. Ooh. Messy.\n",
    "\n",
    "Actually shouldn't be that bad. Mask each of the three slices of pcastack like any one of the slices of mstack.\n",
    "\n",
    "No, it's even easier than that."
   ]
  },
  {
   "cell_type": "code",
   "execution_count": 40,
   "metadata": {},
   "outputs": [
    {
     "name": "stdout",
     "output_type": "stream",
     "text": [
      "[2 1 5 2] [1 2 3 4]\n",
      "[2 1 -- 2] [1 2 -- 4]\n"
     ]
    }
   ],
   "source": [
    "# example code for transferring masks from one array to another\n",
    "# had to fix it from \n",
    "# https://stackoverflow.com/questions/16495298/how-to-apply-a-mask-from-one-array-to-another-array\n",
    "y = np.array([2,1,5,2])\n",
    "x = np.array([1,2,3,4])\n",
    "m = ma.masked_where(y>4, y)                     # filter out values larger than 4\n",
    "new_x = ma.masked_where(ma.getmask(m), x)       # applies the mask of m on x\n",
    "print(y,x)\n",
    "print(m,new_x)"
   ]
  },
  {
   "cell_type": "code",
   "execution_count": 38,
   "metadata": {},
   "outputs": [],
   "source": [
    "mpcastack = ma.masked_where(ma.getmask(mstack[:,:,0:3]),pcastack)"
   ]
  },
  {
   "cell_type": "code",
   "execution_count": 39,
   "metadata": {},
   "outputs": [
    {
     "name": "stdout",
     "output_type": "stream",
     "text": [
      "[[[-- -- --]\n",
      "  [-- -- --]\n",
      "  [-- -- --]]\n",
      "\n",
      " [[-- -- --]\n",
      "  [-- -- --]\n",
      "  [-- -- --]]] \n",
      " [[[-0.8705826135091335 0.4983212917932873 -0.3761198238168631]\n",
      "  [-0.8449698128371799 0.49973515096725507 -0.3890545058355796]\n",
      "  [-0.579262464411757 0.7462380619809275 -0.30868626748083383]]\n",
      "\n",
      " [[-0.7753918291190196 0.5520267909090926 -0.3452471425406974]\n",
      "  [-0.7463849628836562 0.6330933918896898 -0.3941627161868388]\n",
      "  [-0.6265943683489079 0.7515403340174449 -0.39024962353093784]]] \n",
      " -13.00555518866606 \n",
      " 52.67491139789678\n"
     ]
    }
   ],
   "source": [
    "print(mpcastack[:2,:3,:],'\\n',mpcastack[1000:1002,1000:1003,:],'\\n',\n",
    "      np.min(mpcastack[:,:,0]),'\\n',np.max(mpcastack[:,:,0]))"
   ]
  },
  {
   "cell_type": "code",
   "execution_count": 40,
   "metadata": {},
   "outputs": [
    {
     "name": "stdout",
     "output_type": "stream",
     "text": [
      "-10.737758836143822 \n",
      " 12.94058602194566 \n",
      " -16.044194158143263 \n",
      " 32.916470605852524\n"
     ]
    }
   ],
   "source": [
    "print(np.min(mpcastack[:,:,1]),'\\n',np.max(mpcastack[:,:,1]),'\\n',\n",
    "      np.min(mpcastack[:,:,2]),'\\n',np.max(mpcastack[:,:,2]))"
   ]
  },
  {
   "cell_type": "markdown",
   "metadata": {},
   "source": [
    "-13 is noticeably lower than the old minimum and 52 is a bit higher on component 1, but that's a lot more consistent overall. I'm a bit more concerned about components 2 and 3, since those go well beyond my sampled plot in the tile-analysis workbook, but... I'm just going to roll with it. I suppose I could look at some histograms."
   ]
  },
  {
   "cell_type": "code",
   "execution_count": 41,
   "metadata": {},
   "outputs": [
    {
     "data": {
      "image/png": "[encoded data removed]",
      "text/plain": [
       "<Figure size 432x288 with 1 Axes>"
      ]
     },
     "metadata": {},
     "output_type": "display_data"
    }
   ],
   "source": [
    "ax = sns.distplot(mpcastack[:,:,0].reshape(5000*5000),bins=10)\n",
    "ax.set_yscale('log')"
   ]
  },
  {
   "cell_type": "code",
   "execution_count": 42,
   "metadata": {},
   "outputs": [
    {
     "data": {
      "image/png": "[encoded data removed]",
      "text/plain": [
       "<Figure size 432x288 with 1 Axes>"
      ]
     },
     "metadata": {},
     "output_type": "display_data"
    }
   ],
   "source": [
    "ax = sns.distplot(mpcastack[:,:,1].reshape(5000*5000),bins=10)\n",
    "ax.set_yscale('log')"
   ]
  },
  {
   "cell_type": "code",
   "execution_count": 43,
   "metadata": {},
   "outputs": [
    {
     "data": {
      "image/png": "[encoded data removed]",
      "text/plain": [
       "<Figure size 432x288 with 1 Axes>"
      ]
     },
     "metadata": {},
     "output_type": "display_data"
    }
   ],
   "source": [
    "ax = sns.distplot(mpcastack[:,:,2].reshape(5000*5000),bins=10)\n",
    "ax.set_yscale('log')"
   ]
  },
  {
   "cell_type": "markdown",
   "metadata": {},
   "source": [
    "#### Task 2\n",
    "Export PCA as tiff. Rebalance and create usable image.\n",
    "\n",
    "It looks like we have PCs for low-vegetation brightness, vegetation, and anti-vegetation pro-rockness, perhaps, from looking at the components in the tile-analysis workbook. PC2, index 1, is green; no brainer. I prefer rockness to be red rather than blue, so brightness is left as blue.\n",
    "\n",
    "Actually probably want to import PIL after all, so I'll add it back to the list of imports now. The key code will be: ```im = Image.merge(\"RGB\", (r, g, b))```  All I have to do is get the channels balanced."
   ]
  },
  {
   "cell_type": "code",
   "execution_count": 13,
   "metadata": {
    "ExecuteTime": {
     "end_time": "2020-06-11T19:00:37.116554Z",
     "start_time": "2020-06-11T19:00:37.103283Z"
    }
   },
   "outputs": [],
   "source": [
    "# trying to have this technique scale in a more sophisticated fashion\n",
    "# first version used whole range with np.min and np.ptp\n",
    "# in particular, now cutting the outliers off the histogram cf. e.g.\n",
    "# https://earthobservatory.nasa.gov/blogs/elegantfigures/2013/10/22/how-to-make-a-true-color-landsat-8-image/\n",
    "def fullscale(channel):\n",
    "    # scale to 254 rather than 255 to prevent the highest value\n",
    "    # wrapping around to 0\n",
    "    newchannel = ma.empty_like(channel,dtype=np.uint8)\n",
    "    np.putmask(newchannel,channel<=np.quantile(channel,0.05),0)\n",
    "    np.putmask(newchannel,channel>=np.quantile(channel,0.95),255)\n",
    "    mask = (channel>np.quantile(channel,0.05)) & (channel<np.quantile(channel,0.95))\n",
    "    np.putmask(newchannel,mask,np.uint8((channel-np.quantile(channel,0.05))*254/(np.quantile(channel,0.95)\n",
    "                                                              -np.quantile(channel,0.05))))\n",
    "    return newchannel"
   ]
  },
  {
   "cell_type": "markdown",
   "metadata": {},
   "source": [
    "Must leave the file at full extent before transferring georeference information with the gdalcopyproj.py script. After that it should be cropped to 3000 x 2600.\n",
    "\n",
    "Actually, let's copy the substance of the script into this notebook for clarity. It's not long."
   ]
  },
  {
   "cell_type": "code",
   "execution_count": 60,
   "metadata": {},
   "outputs": [
    {
     "data": {
      "text/plain": [
       "(5000, 5000, 3)"
      ]
     },
     "execution_count": 60,
     "metadata": {},
     "output_type": "execute_result"
    }
   ],
   "source": [
    "pcafc = ma.concatenate((fullscale(mpcastack[:,:,2]).reshape(5000,5000,1),\n",
    "                       fullscale(mpcastack[:,:,1]).reshape(5000,5000,1),\n",
    "                       fullscale(mpcastack[:,:,0]).reshape(5000,5000,1)),axis=2)\n",
    "pcafc.shape"
   ]
  },
  {
   "cell_type": "markdown",
   "metadata": {},
   "source": [
    "How have I not found this library before? https://scikit-image.org/docs/stable/user_guide/numpy_images.html I don't even need the library to use the tips on that page."
   ]
  },
  {
   "cell_type": "code",
   "execution_count": 62,
   "metadata": {},
   "outputs": [
    {
     "data": {
      "text/plain": [
       "masked_array(\n",
       "  data=[[[0, 0, 0],\n",
       "         [0, 0, 0],\n",
       "         [0, 0, 0]],\n",
       "\n",
       "        [[0, 0, 0],\n",
       "         [0, 0, 0],\n",
       "         [0, 0, 0]],\n",
       "\n",
       "        [[0, 0, 0],\n",
       "         [0, 0, 0],\n",
       "         [0, 0, 0]]],\n",
       "  mask=[[[False, False, False],\n",
       "         [False, False, False],\n",
       "         [False, False, False]],\n",
       "\n",
       "        [[False, False, False],\n",
       "         [False, False, False],\n",
       "         [False, False, False]],\n",
       "\n",
       "        [[False, False, False],\n",
       "         [False, False, False],\n",
       "         [False, False, False]]],\n",
       "  fill_value=999999,\n",
       "  dtype=uint8)"
      ]
     },
     "execution_count": 62,
     "metadata": {},
     "output_type": "execute_result"
    }
   ],
   "source": [
    "pcafc[pcafc.mask] = 0\n",
    "pcafc[0:3,0:3,:]"
   ]
  },
  {
   "cell_type": "code",
   "execution_count": 63,
   "metadata": {},
   "outputs": [
    {
     "data": {
      "text/plain": [
       "masked_array(\n",
       "  data=[[[83, 211, 106],\n",
       "         [81, 212, 107],\n",
       "         [92, 227, 123]],\n",
       "\n",
       "        [[87, 215, 111],\n",
       "         [80, 220, 113],\n",
       "         [81, 227, 120]],\n",
       "\n",
       "        [[81, 215, 111],\n",
       "         [85, 228, 120],\n",
       "         [83, 226, 117]]],\n",
       "  mask=[[[False, False, False],\n",
       "         [False, False, False],\n",
       "         [False, False, False]],\n",
       "\n",
       "        [[False, False, False],\n",
       "         [False, False, False],\n",
       "         [False, False, False]],\n",
       "\n",
       "        [[False, False, False],\n",
       "         [False, False, False],\n",
       "         [False, False, False]]],\n",
       "  fill_value=999999,\n",
       "  dtype=uint8)"
      ]
     },
     "execution_count": 63,
     "metadata": {},
     "output_type": "execute_result"
    }
   ],
   "source": [
    "pcafc[1000:1003,1000:1003,:]"
   ]
  },
  {
   "cell_type": "code",
   "execution_count": 64,
   "metadata": {},
   "outputs": [],
   "source": [
    "pcafalsecolor = Image.fromarray(pcafc,mode='RGB')"
   ]
  },
  {
   "cell_type": "code",
   "execution_count": 65,
   "metadata": {},
   "outputs": [],
   "source": [
    "pcafalsecolor.save('pcafc1.tif',compression='tiff_deflate')"
   ]
  },
  {
   "cell_type": "markdown",
   "metadata": {},
   "source": [
    "THAT is money. Print that."
   ]
  },
  {
   "cell_type": "code",
   "execution_count": 67,
   "metadata": {},
   "outputs": [],
   "source": [
    "# ******************************************************************************\n",
    "#  $Id$\n",
    "#\n",
    "#  Name:     gdalcopyproj.py\n",
    "#  Project:  GDAL Python Interface\n",
    "#  Purpose:  Duplicate the geotransform and projection metadata from\n",
    "#            one raster dataset to another, which can be useful after\n",
    "#            performing image manipulations with other software that\n",
    "#            ignores or discards georeferencing metadata.\n",
    "#  Author:   Schuyler Erle, schuyler@nocat.net\n",
    "#\n",
    "# ******************************************************************************\n",
    "#  Copyright (c) 2005, Frank Warmerdam\n",
    "#  Copyright (c) 2009-2011, Even Rouault <even dot rouault at spatialys.com>\n",
    "#\n",
    "#  Permission is hereby granted, free of charge, to any person obtaining a\n",
    "#  copy of this software and associated documentation files (the \"Software\"),\n",
    "#  to deal in the Software without restriction, including without limitation\n",
    "#  the rights to use, copy, modify, merge, publish, distribute, sublicense,\n",
    "#  and/or sell copies of the Software, and to permit persons to whom the\n",
    "#  Software is furnished to do so, subject to the following conditions:\n",
    "#\n",
    "#  The above copyright notice and this permission notice shall be included\n",
    "#  in all copies or substantial portions of the Software.\n",
    "#\n",
    "#  THE SOFTWARE IS PROVIDED \"AS IS\", WITHOUT WARRANTY OF ANY KIND, EXPRESS\n",
    "#  OR IMPLIED, INCLUDING BUT NOT LIMITED TO THE WARRANTIES OF MERCHANTABILITY,\n",
    "#  FITNESS FOR A PARTICULAR PURPOSE AND NONINFRINGEMENT. IN NO EVENT SHALL\n",
    "#  THE AUTHORS OR COPYRIGHT HOLDERS BE LIABLE FOR ANY CLAIM, DAMAGES OR OTHER\n",
    "#  LIABILITY, WHETHER IN AN ACTION OF CONTRACT, TORT OR OTHERWISE, ARISING\n",
    "#  FROM, OUT OF OR IN CONNECTION WITH THE SOFTWARE OR THE USE OR OTHER\n",
    "#  DEALINGS IN THE SOFTWARE.\n",
    "# ******************************************************************************\n",
    "\n",
    "#import sys\n",
    "\n",
    "# from osgeo import gdal\n",
    "\n",
    "#if len(sys.argv) < 3:\n",
    "#    print(\"Usage: gdalcopyproj.py source_file dest_file\")\n",
    "#    sys.exit(1)\n",
    "\n",
    "#inp = sys.argv[1]\n",
    "inp = filestem + '1.tif'\n",
    "dataset = gdal.Open(inp)\n",
    "if dataset is None:\n",
    "    print('Unable to open', inp, 'for reading')\n",
    "#    sys.exit(1)\n",
    "\n",
    "projection = dataset.GetProjection()\n",
    "geotransform = dataset.GetGeoTransform()\n",
    "\n",
    "if projection is None and geotransform is None:\n",
    "    print('No projection or geotransform found on file' + input)\n",
    "#    sys.exit(1)\n",
    "\n",
    "#output = sys.argv[2]\n",
    "output = 'pcafc1.tif'\n",
    "dataset2 = gdal.Open(output, gdal.GA_Update)\n",
    "\n",
    "if dataset2 is None:\n",
    "    print('Unable to open', output, 'for writing')\n",
    "#    sys.exit(1)\n",
    "\n",
    "if geotransform is not None and geotransform != (0, 1, 0, 0, 0, 1):\n",
    "    dataset2.SetGeoTransform(geotransform)\n",
    "\n",
    "if projection is not None and projection != '':\n",
    "    dataset2.SetProjection(projection)\n",
    "\n",
    "gcp_count = dataset.GetGCPCount()\n",
    "if gcp_count != 0:\n",
    "    dataset2.SetGCPs(dataset.GetGCPs(), dataset.GetGCPProjection())\n",
    "\n",
    "dataset = None\n",
    "dataset2 = None"
   ]
  },
  {
   "cell_type": "markdown",
   "metadata": {},
   "source": [
    "That worked like a charm, and now it's documented. Let's make it a function for the purposes of the rest of this workbook."
   ]
  },
  {
   "cell_type": "code",
   "execution_count": 15,
   "metadata": {
    "ExecuteTime": {
     "end_time": "2020-06-11T19:01:10.389617Z",
     "start_time": "2020-06-11T19:01:10.372817Z"
    }
   },
   "outputs": [],
   "source": [
    "def copyproj(output,inp = filestem + '1.tif'):\n",
    "    \"\"\"Copies the geospatial setting / projection information\n",
    "    from the inp file to the output file.\n",
    "    Based on gdalcopyproj.py by Schuyler Erle.\n",
    "    Full info in preceding code cell.\"\"\"\n",
    "    dataset = gdal.Open(inp)\n",
    "    if dataset is None:\n",
    "        print('Unable to open', inp, 'for reading')\n",
    "        return None\n",
    "    projection = dataset.GetProjection()\n",
    "    geotransform = dataset.GetGeoTransform()\n",
    "    if projection is None and geotransform is None:\n",
    "        print('No projection or geotransform found on file' + input)\n",
    "        return None\n",
    "    dataset2 = gdal.Open(output, gdal.GA_Update)\n",
    "    if dataset2 is None:\n",
    "        print('Unable to open', output, 'for writing')\n",
    "        return None\n",
    "    if geotransform is not None and geotransform != (0, 1, 0, 0, 0, 1):\n",
    "        dataset2.SetGeoTransform(geotransform)\n",
    "    if projection is not None and projection != '':\n",
    "        dataset2.SetProjection(projection)\n",
    "    gcp_count = dataset.GetGCPCount()\n",
    "    if gcp_count != 0:\n",
    "        dataset2.SetGCPs(dataset.GetGCPs(), dataset.GetGCPProjection())\n",
    "    dataset = None\n",
    "    dataset2 = None\n",
    "    return dataset2"
   ]
  },
  {
   "cell_type": "markdown",
   "metadata": {},
   "source": [
    "### Interlude: Notes\n",
    "Copied reference lava flow images for presentation from https://www.usgs.gov/volcanoes/kilauea/geology-history\n",
    "\n",
    "Kilauea diary entry for Feb 4 2017:\n",
    "https://volcanoes.usgs.gov/vhp/archive_search.html\n",
    "\n",
    "HAWAIIAN VOLCANO OBSERVATORY DAILY UPDATE\n",
    "U.S. Geological Survey\n",
    "Saturday, February 4, 2017, 8:20 AM HST (Saturday, February 4, 2017, 18:20 UTC)\n",
    "\n",
    "KILAUEA VOLCANO (VNUM #332010)\n",
    "19°25'16\" N 155°17'13\" W, Summit Elevation 4091 ft (1247 m)\n",
    "Current Volcano Alert Level: WATCH\n",
    "Current Aviation Color Code: ORANGE\n",
    "\n",
    "Activity Summary: Kīlauea Volcano continues to erupt at its summit and East Rift Zone. Lava continues to enter the ocean at Kamokuna and surface flows remain active within 2.4 km (1.5 mi) of the vent at Puʻu ʻŌʻō. These lava flows currently pose no threat to nearby communities. Slowing DI deflationary tilt was recorded at the summit and the lava lake surface dropped to 34 m (112 ft) below the floor of Halemaʻumaʻu crater this morning.\n",
    "\n",
    "Summit Observations: Summit tiltmeters recorded slowing DI deflationary tilt and the lava lake surface dropped to an estimated 34 m (112 ft) below the floor of Halemaʻumaʻu crater this morning. Seismicity rates were at background levels and, as is typical, tremor fluctuated in response to changing lava lake circulation, spattering, and rockfalls. Sulfur dioxide emission rates ranged from about 4,600 to 5,800 metric tons/day over the past week, when measurements were possible during trade wind conditions.\n",
    "\n",
    "Puʻu ʻŌʻō Observations: Webcam images show persistent glow in long-term sources within the crater. Weak deflationary tilt continued to be recorded at nearby tiltmeters over the past week. Seismicity rates are at background levels. The sulfur dioxide emission rate from all East Rift Zone vents was about 200 metric tons/day when last measured on January 30.\n",
    "\n",
    "Lava Flow Observations: The episode 61g flow is still active and entering the ocean at Kamokuna; all surface flows are occurring within about 2.4 km (1.5 mi) of the 61g vent near Puʻu ʻŌʻō including scattered surface flows from a small breakout that began on January 22 and surface flows on a secondary branch of the 61g flow. The episode 61g flows pose no threat to nearby communities at this time.\n",
    "\n",
    "CORRECTION TO YESTERDAY'S UPDATE: HVO scientists observed that a 30 m by 5 m (98 ft by 16 ft) portion of the block seaward of the hot crack REMAINED AFTER THE 12:55 p.m. collapse on Feb. 2. A significantly larger chunk fell into the ocean generating a noticeable, but not unusually large, wave propagating outward from the rockfall location. The dimensions of the collapsed block have not yet been documented."
   ]
  },
  {
   "cell_type": "markdown",
   "metadata": {},
   "source": [
    "#### Task 3\n",
    "Create true-ish color image and a (few) standard false-color image(s). Standard false color image 1 is the real green as blue, real red as green, near IR veg band as red schema our man Robert Simmon described on Medium.\n",
    "\n",
    "##### 3.1 True Color"
   ]
  },
  {
   "cell_type": "code",
   "execution_count": 76,
   "metadata": {},
   "outputs": [
    {
     "ename": "NameError",
     "evalue": "name 'copyproj' is not defined",
     "output_type": "error",
     "traceback": [
      "\u001b[0;31m---------------------------------------------------------------------------\u001b[0m",
      "\u001b[0;31mNameError\u001b[0m                                 Traceback (most recent call last)",
      "\u001b[0;32m<ipython-input-76-2cc221d518c4>\u001b[0m in \u001b[0;36m<module>\u001b[0;34m\u001b[0m\n\u001b[1;32m      6\u001b[0m \u001b[0mtcscimage\u001b[0m \u001b[0;34m=\u001b[0m \u001b[0mImage\u001b[0m\u001b[0;34m.\u001b[0m\u001b[0mfromarray\u001b[0m\u001b[0;34m(\u001b[0m\u001b[0mtcscstack\u001b[0m\u001b[0;34m,\u001b[0m\u001b[0mmode\u001b[0m\u001b[0;34m=\u001b[0m\u001b[0;34m'RGB'\u001b[0m\u001b[0;34m)\u001b[0m\u001b[0;34m\u001b[0m\u001b[0;34m\u001b[0m\u001b[0m\n\u001b[1;32m      7\u001b[0m \u001b[0mtcscimage\u001b[0m\u001b[0;34m.\u001b[0m\u001b[0msave\u001b[0m\u001b[0;34m(\u001b[0m\u001b[0;34m'tcsc.tif'\u001b[0m\u001b[0;34m,\u001b[0m\u001b[0mcompression\u001b[0m\u001b[0;34m=\u001b[0m\u001b[0;34m'tiff_deflate'\u001b[0m\u001b[0;34m)\u001b[0m\u001b[0;34m\u001b[0m\u001b[0;34m\u001b[0m\u001b[0m\n\u001b[0;32m----> 8\u001b[0;31m \u001b[0mcopyproj\u001b[0m\u001b[0;34m(\u001b[0m\u001b[0;34m'tcsc.tif'\u001b[0m\u001b[0;34m)\u001b[0m\u001b[0;34m\u001b[0m\u001b[0;34m\u001b[0m\u001b[0m\n\u001b[0m",
      "\u001b[0;31mNameError\u001b[0m: name 'copyproj' is not defined"
     ]
    }
   ],
   "source": [
    "tcscstack = ma.concatenate((fullscale(stack[:,:,3].reshape(5000,5000,1)),\n",
    "                       fullscale(stack[:,:,2].reshape(5000,5000,1)),\n",
    "                       fullscale(stack[:,:,1].reshape(5000,5000,1))),axis=2)\n",
    "tcscstack[mstack[:,:,0:3].mask] = 0\n",
    "tcscimage = Image.fromarray(tcscstack,mode='RGB')\n",
    "tcscimage.save('tcsc.tif',compression='tiff_deflate')"
   ]
  },
  {
   "cell_type": "code",
   "execution_count": 78,
   "metadata": {},
   "outputs": [],
   "source": [
    "copyproj('tcsc.tif')"
   ]
  },
  {
   "cell_type": "markdown",
   "metadata": {},
   "source": [
    "Oh, wow. With the new fullscale routine, I get a really bright image that seems to call out a discontinuity in the data extending ESE off the coast of Puna with darker blue water to the south.\n",
    "\n",
    "Let's try doing this while keeping the original color balance."
   ]
  },
  {
   "cell_type": "code",
   "execution_count": 79,
   "metadata": {},
   "outputs": [],
   "source": [
    "tcscstack = fullscale(ma.concatenate((stack[:,:,3].reshape(5000,5000,1),\n",
    "                       stack[:,:,2].reshape(5000,5000,1),stack[:,:,1].reshape(5000,5000,1)),axis=2))\n",
    "tcscstack[mstack[:,:,0:3].mask] = 0\n",
    "tcscimage = Image.fromarray(tcscstack,mode='RGB')\n",
    "tcscimage.save('tc.tif',compression='tiff_deflate')\n",
    "copyproj('tc.tif')"
   ]
  },
  {
   "cell_type": "markdown",
   "metadata": {},
   "source": [
    "That looks no different. Weird."
   ]
  },
  {
   "cell_type": "code",
   "execution_count": 4,
   "metadata": {
    "ExecuteTime": {
     "end_time": "2020-06-11T18:55:51.682977Z",
     "start_time": "2020-06-11T18:55:50.846579Z"
    }
   },
   "outputs": [
    {
     "name": "stdout",
     "output_type": "stream",
     "text": [
      "Input file size is 5000, 5000\n",
      "0...10...20...30...40...50...60...70...80...90...100 - done.\n"
     ]
    }
   ],
   "source": [
    "!gdal_translate -srcwin 0 0 2600 3000 tc.tif tccrop.tif"
   ]
  },
  {
   "cell_type": "code",
   "execution_count": 82,
   "metadata": {},
   "outputs": [
    {
     "name": "stdout",
     "output_type": "stream",
     "text": [
      "Channel 1 : range [ 96. 611.]\n",
      "Channel 2 : range [143. 564.]\n",
      "Channel 3 : range [ 53. 678.]\n",
      "Channel 4 : range [  8. 700.]\n",
      "Channel 5 : range [   0. 2993.]\n",
      "Channel 6 : range [  15. 1645.]\n",
      "Channel 7 : range [  12. 1025.]\n"
     ]
    }
   ],
   "source": [
    "for i in range(7):\n",
    "    print('Channel',i+1,': range',np.quantile(stack[:,:,i],(0.05,0.95)))"
   ]
  },
  {
   "cell_type": "markdown",
   "metadata": {},
   "source": [
    "Seems like there should be some difference, given how large a percentage of the range the difference is between the three visible channels' starting points."
   ]
  },
  {
   "cell_type": "markdown",
   "metadata": {
    "ExecuteTime": {
     "end_time": "2020-06-11T18:43:07.121228Z",
     "start_time": "2020-06-11T18:43:07.097430Z"
    }
   },
   "source": [
    "##### Task 3.2 False Color\n",
    "###### 3.2.1 Vegetation: Bands 5, 4, 3; Indices 4, 3, 2"
   ]
  },
  {
   "cell_type": "code",
   "execution_count": 83,
   "metadata": {},
   "outputs": [],
   "source": [
    "vscstack = fullscale(ma.concatenate((stack[:,:,4].reshape(5000,5000,1),\n",
    "                       stack[:,:,3].reshape(5000,5000,1),stack[:,:,2].reshape(5000,5000,1)),axis=2))\n",
    "vscstack[mstack[:,:,0:3].mask] = 0\n",
    "vscimage = Image.fromarray(vscstack,mode='RGB')\n",
    "vscimage.save('vfc.tif',compression='tiff_deflate')\n",
    "copyproj('vfc.tif')"
   ]
  },
  {
   "cell_type": "code",
   "execution_count": 2,
   "metadata": {
    "ExecuteTime": {
     "end_time": "2020-06-11T18:53:51.644383Z",
     "start_time": "2020-06-11T18:53:50.480583Z"
    }
   },
   "outputs": [
    {
     "name": "stdout",
     "output_type": "stream",
     "text": [
      "Input file size is 5000, 5000\n",
      "0...10...20...30...40...50...60...70...80...90...100 - done.\n"
     ]
    }
   ],
   "source": [
    "!gdal_translate -srcwin 0 0 2600 3000 vfc.tif vfccrop.tif"
   ]
  },
  {
   "cell_type": "markdown",
   "metadata": {},
   "source": [
    "###### 3.2.2 SWIR / Heat: Bands 7, 6, 4; Indices 6, 5, 3"
   ]
  },
  {
   "cell_type": "code",
   "execution_count": 16,
   "metadata": {
    "ExecuteTime": {
     "end_time": "2020-06-11T19:01:39.731949Z",
     "start_time": "2020-06-11T19:01:24.901454Z"
    }
   },
   "outputs": [],
   "source": [
    "hscstack = fullscale(ma.concatenate((stack[:,:,6].reshape(5000,5000,1),\n",
    "                       stack[:,:,5].reshape(5000,5000,1),stack[:,:,3].reshape(5000,5000,1)),axis=2))\n",
    "hscstack[mstack[:,:,0:3].mask] = 0\n",
    "hscimage = Image.fromarray(hscstack,mode='RGB')\n",
    "hscimage.save('hfc.tif',compression='tiff_deflate')\n",
    "copyproj('hfc.tif')"
   ]
  },
  {
   "cell_type": "code",
   "execution_count": 3,
   "metadata": {
    "ExecuteTime": {
     "end_time": "2020-06-11T18:54:11.559818Z",
     "start_time": "2020-06-11T18:54:10.488039Z"
    }
   },
   "outputs": [
    {
     "name": "stdout",
     "output_type": "stream",
     "text": [
      "Input file size is 5000, 5000\n",
      "0...10...20...30...40...50...60...70...80...90...100 - done.\n"
     ]
    }
   ],
   "source": [
    "!gdal_translate -srcwin 0 0 2600 3000 hfc.tif hfccrop.tif"
   ]
  },
  {
   "cell_type": "markdown",
   "metadata": {},
   "source": [
    "###### 3.2.2 Burn / Flood: Bands 6, 5, 4; Indices 5, 4, 3"
   ]
  },
  {
   "cell_type": "code",
   "execution_count": 19,
   "metadata": {
    "ExecuteTime": {
     "end_time": "2020-06-11T19:03:00.489449Z",
     "start_time": "2020-06-11T19:02:45.814915Z"
    }
   },
   "outputs": [],
   "source": [
    "burnstack = fullscale(ma.concatenate((stack[:,:,5].reshape(5000,5000,1),\n",
    "                       stack[:,:,4].reshape(5000,5000,1),stack[:,:,3].reshape(5000,5000,1)),axis=2))\n",
    "burnstack[mstack[:,:,0:3].mask] = 0\n",
    "burnimage = Image.fromarray(burnstack,mode='RGB')\n",
    "burnimage.save('bfc.tif',compression='tiff_deflate')\n",
    "copyproj('bfc.tif')"
   ]
  },
  {
   "cell_type": "code",
   "execution_count": 20,
   "metadata": {
    "ExecuteTime": {
     "end_time": "2020-06-11T19:03:03.132935Z",
     "start_time": "2020-06-11T19:03:02.402977Z"
    }
   },
   "outputs": [
    {
     "name": "stdout",
     "output_type": "stream",
     "text": [
      "Input file size is 5000, 5000\n",
      "0...10...20...30...40...50...60...70...80...90...100 - done.\n"
     ]
    }
   ],
   "source": [
    "!gdal_translate -srcwin 0 0 2600 3000 bfc.tif bfccrop.tif"
   ]
  },
  {
   "cell_type": "markdown",
   "metadata": {},
   "source": [
    "#### Task 4\n",
    "Create a mosaic of the four images:\n",
    "\n",
    "| | |\n",
    "| :----: | :----: |\n",
    "| True Color | Veg FC |\n",
    "| Heat FC | PC FC |"
   ]
  },
  {
   "cell_type": "markdown",
   "metadata": {},
   "source": [
    "In order to do the image merge in Python I need to stack all the data into a single array. I need:\n",
    "* pfafc array\n",
    "* slices of stack, bands:\n",
    "    * 4, 3, 2 = tcscstack array\n",
    "    * 5, 4, 3 -> vegetation false color\n",
    "    * 7, 6, 4 -> heat (/ geo) false color"
   ]
  },
  {
   "cell_type": "code",
   "execution_count": 88,
   "metadata": {},
   "outputs": [
    {
     "data": {
      "text/plain": [
       "(6000, 5200, 3)"
      ]
     },
     "execution_count": 88,
     "metadata": {},
     "output_type": "execute_result"
    }
   ],
   "source": [
    "mosaic = np.concatenate((np.concatenate((tcscstack[:3000,:2600,:],hscstack[:3000,:2600,:]),axis=0),\n",
    "                         np.concatenate((vscstack[:3000,:2600,:],pcafc[:3000,:2600,:]),axis=0)),axis=1)\n",
    "mosaic.shape"
   ]
  },
  {
   "cell_type": "code",
   "execution_count": 89,
   "metadata": {},
   "outputs": [],
   "source": [
    "mosimage = Image.fromarray(mosaic,mode='RGB')\n",
    "mosimage.save('mosaic.tif',compression='tiff_deflate')"
   ]
  },
  {
   "cell_type": "markdown",
   "metadata": {},
   "source": [
    "Crop all images down to 3000x2600."
   ]
  },
  {
   "cell_type": "code",
   "execution_count": null,
   "metadata": {},
   "outputs": [],
   "source": []
  }
 ],
 "metadata": {
  "kernelspec": {
   "display_name": "Python 3",
   "language": "python",
   "name": "python3"
  },
  "language_info": {
   "codemirror_mode": {
    "name": "ipython",
    "version": 3
   },
   "file_extension": ".py",
   "mimetype": "text/x-python",
   "name": "python",
   "nbconvert_exporter": "python",
   "pygments_lexer": "ipython3",
   "version": "3.7.7"
  }
 },
 "nbformat": 4,
 "nbformat_minor": 4
}
