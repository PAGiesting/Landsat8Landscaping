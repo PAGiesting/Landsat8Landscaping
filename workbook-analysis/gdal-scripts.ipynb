{
 "cells": [
  {
   "cell_type": "markdown",
   "metadata": {},
   "source": [
    "```gdal_merge.py``` is the script that does this in the GDAL library, but that is a huge script that I am not about to incorporate in this workbook like I did with ```gdalcopyproj.py```."
   ]
  },
  {
   "cell_type": "code",
   "execution_count": 53,
   "metadata": {},
   "outputs": [
    {
     "name": "stdout",
     "output_type": "stream",
     "text": [
      "0...10...20...30...40...50...60...70...80...90...100 - done.\n",
      "ERROR 1: Split bands are read-only.\n",
      "ERROR 1: Split bands are read-only.\n",
      "ERROR 1: Split bands are read-only.\n"
     ]
    }
   ],
   "source": [
    "!gdal_merge.py -o tcsc.tif -separate LANDSAT/LC08_HI_004002_20170204_20190429_C01_V01_SRB4.tif \\\n",
    "    LANDSAT/LC08_HI_004002_20170204_20190429_C01_V01_SRB3.tif \\\n",
    "    LANDSAT/LC08_HI_004002_20170204_20190429_C01_V01_SRB2.tif -co PHOTOMETRIC=RGB -co COMPRESS=DEFLATE"
   ]
  },
  {
   "cell_type": "code",
   "execution_count": 54,
   "metadata": {},
   "outputs": [
    {
     "name": "stdout",
     "output_type": "stream",
     "text": [
      "Driver: GTiff/GeoTIFF\n",
      "Files: tcsc.tif\n",
      "Size is 5000, 5000\n",
      "Coordinate System is:\n",
      "PROJCS[\"Albers\",\n",
      "    GEOGCS[\"WGS 84\",\n",
      "        DATUM[\"WGS_1984\",\n",
      "            SPHEROID[\"WGS 84\",6378140,298.2569999999957,\n",
      "                AUTHORITY[\"EPSG\",\"7030\"]],\n",
      "            AUTHORITY[\"EPSG\",\"6326\"]],\n",
      "        PRIMEM[\"Greenwich\",0],\n",
      "        UNIT[\"degree\",0.0174532925199433],\n",
      "        AUTHORITY[\"EPSG\",\"4326\"]],\n",
      "    PROJECTION[\"Albers_Conic_Equal_Area\"],\n",
      "    PARAMETER[\"standard_parallel_1\",8],\n",
      "    PARAMETER[\"standard_parallel_2\",18],\n",
      "    PARAMETER[\"latitude_of_center\",3],\n",
      "    PARAMETER[\"longitude_of_center\",-157],\n",
      "    PARAMETER[\"false_easting\",0],\n",
      "    PARAMETER[\"false_northing\",0],\n",
      "    UNIT[\"metre\",1,\n",
      "        AUTHORITY[\"EPSG\",\"9001\"]]]\n",
      "Origin = (155655.000000000000000,1868895.000000000000000)\n",
      "Pixel Size = (30.000000000000000,-30.000000000000000)\n",
      "Metadata:\n",
      "  AREA_OR_POINT=Area\n",
      "Image Structure Metadata:\n",
      "  COMPRESSION=DEFLATE\n",
      "  INTERLEAVE=PIXEL\n",
      "Corner Coordinates:\n",
      "Upper Left  (  155655.000, 1868895.000) (155d31' 7.65\"W, 19d53'31.51\"N)\n",
      "Lower Left  (  155655.000, 1718895.000) (155d31'37.26\"W, 18d32' 2.84\"N)\n",
      "Upper Right (  305655.000, 1868895.000) (154d 5'29.37\"W, 19d52'49.49\"N)\n",
      "Lower Right (  305655.000, 1718895.000) (154d 6'27.50\"W, 18d31'21.15\"N)\n",
      "Center      (  230655.000, 1793895.000) (154d48'40.44\"W, 19d12'28.13\"N)\n",
      "Band 1 Block=5000x1 Type=Int16, ColorInterp=Red\n",
      "    Computed Min/Max=-1643.000,8836.000\n",
      "Band 2 Block=5000x1 Type=Int16, ColorInterp=Green\n",
      "    Computed Min/Max=-2000.000,8353.000\n",
      "Band 3 Block=5000x1 Type=Int16, ColorInterp=Blue\n",
      "    Computed Min/Max=-2000.000,7786.000\n"
     ]
    }
   ],
   "source": [
    "!gdalinfo -mm tcsc.tif"
   ]
  },
  {
   "cell_type": "code",
   "execution_count": 55,
   "metadata": {},
   "outputs": [
    {
     "name": "stdout",
     "output_type": "stream",
     "text": [
      "Input file size is 5000, 5000\n",
      "0...10...20...30...40...50...60...70...80...90...100 - done.\n"
     ]
    }
   ],
   "source": [
    "!gdal_translate tcsc.tif truecolor3.tif -scale -2000 8836 0 65535 -exponent 1.0 \\\n",
    "    -co COMPRESS=DEFLATE -co PHOTOMETRIC=RGB"
   ]
  },
  {
   "cell_type": "markdown",
   "metadata": {},
   "source": [
    "That stack gets the job done. I left the exponent term in the script invocation as a placeholder in case I want to play with it later, but Simmon's suggestion to use a square root flattens & creates a bright washout in this case.\n",
    "\n",
    "##### Task 3.2 False Color"
   ]
  },
  {
   "cell_type": "code",
   "execution_count": 56,
   "metadata": {},
   "outputs": [
    {
     "name": "stdout",
     "output_type": "stream",
     "text": [
      "0...10...20...30...40...50...60...70...80...90...100 - done.\n",
      "Driver: GTiff/GeoTIFF\n",
      "Files: fc1.tif\n",
      "Size is 5000, 5000\n",
      "Coordinate System is:\n",
      "PROJCS[\"Albers\",\n",
      "    GEOGCS[\"WGS 84\",\n",
      "        DATUM[\"WGS_1984\",\n",
      "            SPHEROID[\"WGS 84\",6378140,298.2569999999957,\n",
      "                AUTHORITY[\"EPSG\",\"7030\"]],\n",
      "            AUTHORITY[\"EPSG\",\"6326\"]],\n",
      "        PRIMEM[\"Greenwich\",0],\n",
      "        UNIT[\"degree\",0.0174532925199433],\n",
      "        AUTHORITY[\"EPSG\",\"4326\"]],\n",
      "    PROJECTION[\"Albers_Conic_Equal_Area\"],\n",
      "    PARAMETER[\"standard_parallel_1\",8],\n",
      "    PARAMETER[\"standard_parallel_2\",18],\n",
      "    PARAMETER[\"latitude_of_center\",3],\n",
      "    PARAMETER[\"longitude_of_center\",-157],\n",
      "    PARAMETER[\"false_easting\",0],\n",
      "    PARAMETER[\"false_northing\",0],\n",
      "    UNIT[\"metre\",1,\n",
      "        AUTHORITY[\"EPSG\",\"9001\"]]]\n",
      "Origin = (155655.000000000000000,1868895.000000000000000)\n",
      "Pixel Size = (30.000000000000000,-30.000000000000000)\n",
      "Metadata:\n",
      "  AREA_OR_POINT=Area\n",
      "Image Structure Metadata:\n",
      "  COMPRESSION=DEFLATE\n",
      "  INTERLEAVE=PIXEL\n",
      "Corner Coordinates:\n",
      "Upper Left  (  155655.000, 1868895.000) (155d31' 7.65\"W, 19d53'31.51\"N)\n",
      "Lower Left  (  155655.000, 1718895.000) (155d31'37.26\"W, 18d32' 2.84\"N)\n",
      "Upper Right (  305655.000, 1868895.000) (154d 5'29.37\"W, 19d52'49.49\"N)\n",
      "Lower Right (  305655.000, 1718895.000) (154d 6'27.50\"W, 18d31'21.15\"N)\n",
      "Center      (  230655.000, 1793895.000) (154d48'40.44\"W, 19d12'28.13\"N)\n",
      "Band 1 Block=5000x1 Type=Int16, ColorInterp=Red\n",
      "    Computed Min/Max=-574.000,9369.000\n",
      "Band 2 Block=5000x1 Type=Int16, ColorInterp=Green\n",
      "    Computed Min/Max=-1643.000,8836.000\n",
      "Band 3 Block=5000x1 Type=Int16, ColorInterp=Blue\n",
      "    Computed Min/Max=-2000.000,8353.000\n"
     ]
    }
   ],
   "source": [
    "# stack for standard false color vegetation\n",
    "!gdal_merge.py -o fc1.tif -separate LANDSAT/LC08_HI_004002_20170204_20190429_C01_V01_SRB5.tif \\\n",
    "    LANDSAT/LC08_HI_004002_20170204_20190429_C01_V01_SRB4.tif \\\n",
    "    LANDSAT/LC08_HI_004002_20170204_20190429_C01_V01_SRB3.tif -co PHOTOMETRIC=RGB -co COMPRESS=DEFLATE\n",
    "!gdalinfo -mm fc1.tif"
   ]
  },
  {
   "cell_type": "code",
   "execution_count": 57,
   "metadata": {},
   "outputs": [
    {
     "name": "stdout",
     "output_type": "stream",
     "text": [
      "Input file size is 5000, 5000\n",
      "0...10...20...30...40...50...60...70...80...90...100 - done.\n"
     ]
    }
   ],
   "source": [
    "!gdal_translate fc1.tif fcveg.tif -scale -2000 8836 0 65535 -exponent 1.0 \\\n",
    "    -co COMPRESS=DEFLATE -co PHOTOMETRIC=RGB"
   ]
  },
  {
   "cell_type": "markdown",
   "metadata": {},
   "source": [
    "And that, for a wonder, spit out what I was expecting the first time."
   ]
  },
  {
   "cell_type": "markdown",
   "metadata": {},
   "source": [
    "A second false color formula is given here: https://eos.com/false-color/  I expect it will produce something that picks out lava and lava lake crust much like my PC image."
   ]
  },
  {
   "cell_type": "code",
   "execution_count": 58,
   "metadata": {},
   "outputs": [
    {
     "name": "stdout",
     "output_type": "stream",
     "text": [
      "0...10...20...30...40...50...60...70...80...90...100 - done.\n",
      "Driver: GTiff/GeoTIFF\n",
      "Files: fc2.tif\n",
      "Size is 5000, 5000\n",
      "Coordinate System is:\n",
      "PROJCS[\"Albers\",\n",
      "    GEOGCS[\"WGS 84\",\n",
      "        DATUM[\"WGS_1984\",\n",
      "            SPHEROID[\"WGS 84\",6378140,298.2569999999957,\n",
      "                AUTHORITY[\"EPSG\",\"7030\"]],\n",
      "            AUTHORITY[\"EPSG\",\"6326\"]],\n",
      "        PRIMEM[\"Greenwich\",0],\n",
      "        UNIT[\"degree\",0.0174532925199433],\n",
      "        AUTHORITY[\"EPSG\",\"4326\"]],\n",
      "    PROJECTION[\"Albers_Conic_Equal_Area\"],\n",
      "    PARAMETER[\"standard_parallel_1\",8],\n",
      "    PARAMETER[\"standard_parallel_2\",18],\n",
      "    PARAMETER[\"latitude_of_center\",3],\n",
      "    PARAMETER[\"longitude_of_center\",-157],\n",
      "    PARAMETER[\"false_easting\",0],\n",
      "    PARAMETER[\"false_northing\",0],\n",
      "    UNIT[\"metre\",1,\n",
      "        AUTHORITY[\"EPSG\",\"9001\"]]]\n",
      "Origin = (155655.000000000000000,1868895.000000000000000)\n",
      "Pixel Size = (30.000000000000000,-30.000000000000000)\n",
      "Metadata:\n",
      "  AREA_OR_POINT=Area\n",
      "Image Structure Metadata:\n",
      "  COMPRESSION=DEFLATE\n",
      "  INTERLEAVE=PIXEL\n",
      "Corner Coordinates:\n",
      "Upper Left  (  155655.000, 1868895.000) (155d31' 7.65\"W, 19d53'31.51\"N)\n",
      "Lower Left  (  155655.000, 1718895.000) (155d31'37.26\"W, 18d32' 2.84\"N)\n",
      "Upper Right (  305655.000, 1868895.000) (154d 5'29.37\"W, 19d52'49.49\"N)\n",
      "Lower Right (  305655.000, 1718895.000) (154d 6'27.50\"W, 18d31'21.15\"N)\n",
      "Center      (  230655.000, 1793895.000) (154d48'40.44\"W, 19d12'28.13\"N)\n",
      "Band 1 Block=5000x1 Type=Int16, ColorInterp=Red\n",
      "    Computed Min/Max=-1543.000,16000.000\n",
      "Band 2 Block=5000x1 Type=Int16, ColorInterp=Green\n",
      "    Computed Min/Max=-21.000,16604.000\n",
      "Band 3 Block=5000x1 Type=Int16, ColorInterp=Blue\n",
      "    Computed Min/Max=-1643.000,8836.000\n"
     ]
    }
   ],
   "source": [
    "# stack SWIR2, SWIR1, RED\n",
    "!gdal_merge.py -o fc2.tif -separate LANDSAT/LC08_HI_004002_20170204_20190429_C01_V01_SRB7.tif \\\n",
    "    LANDSAT/LC08_HI_004002_20170204_20190429_C01_V01_SRB6.tif \\\n",
    "    LANDSAT/LC08_HI_004002_20170204_20190429_C01_V01_SRB4.tif -co PHOTOMETRIC=RGB -co COMPRESS=DEFLATE\n",
    "!gdalinfo -mm fc2.tif"
   ]
  },
  {
   "cell_type": "code",
   "execution_count": 59,
   "metadata": {},
   "outputs": [
    {
     "name": "stdout",
     "output_type": "stream",
     "text": [
      "Input file size is 5000, 5000\n",
      "0...10...20...30...40...50...60...70...80...90...100 - done.\n"
     ]
    }
   ],
   "source": [
    "# this might be a case to sqrt, but let's check first\n",
    "!gdal_translate fc2.tif fcheat.tif -scale -1643 16604 0 65535 -exponent 1.0 \\\n",
    "    -co COMPRESS=DEFLATE -co PHOTOMETRIC=RGB"
   ]
  },
  {
   "cell_type": "markdown",
   "metadata": {},
   "source": [
    "That's an intriguing image. Fresh lava is black, other land is green, the Overlook lava lake is hot lava yellow/red, Pu'u O'o has a similar point presumably for its summit lava lake and some red patches at the breakouts.\n",
    "\n",
    "More false color schemas here: https://earthobservatory.nasa.gov/features/FalseColor/page6.php:\n",
    "\n",
    "\"Our four most common false-color band combinations are:\n",
    "\n",
    "1. Near infrared (red), green (blue), red (green). This is a traditional band combination useful in seeing changes in plant health.\n",
    "2. Shortwave infrared (red), near infrared (green), and green (blue), often used to show floods or newly burned land.\n",
    "3. Blue (red), two different shortwave infrared bands (green and blue). We use this to differentiate between snow, ice, and clouds.\n",
    "4. Thermal infrared, usually shown in tones of gray to illustrate temperature.\"\n",
    "\n",
    "2 = Bands 6, 5, 3\n",
    "\n",
    "3 = Bands 2, 6, 7, although this setting is probably not interesting here.\n",
    "\n",
    "So I can add one more false color image."
   ]
  },
  {
   "cell_type": "code",
   "execution_count": 68,
   "metadata": {},
   "outputs": [
    {
     "name": "stdout",
     "output_type": "stream",
     "text": [
      "0...10...20...30...40...50...60...70...80...90...100 - done.\n",
      "Driver: GTiff/GeoTIFF\n",
      "Files: fc3.tif\n",
      "Size is 5000, 5000\n",
      "Coordinate System is:\n",
      "PROJCS[\"Albers\",\n",
      "    GEOGCS[\"WGS 84\",\n",
      "        DATUM[\"WGS_1984\",\n",
      "            SPHEROID[\"WGS 84\",6378140,298.2569999999957,\n",
      "                AUTHORITY[\"EPSG\",\"7030\"]],\n",
      "            AUTHORITY[\"EPSG\",\"6326\"]],\n",
      "        PRIMEM[\"Greenwich\",0],\n",
      "        UNIT[\"degree\",0.0174532925199433],\n",
      "        AUTHORITY[\"EPSG\",\"4326\"]],\n",
      "    PROJECTION[\"Albers_Conic_Equal_Area\"],\n",
      "    PARAMETER[\"standard_parallel_1\",8],\n",
      "    PARAMETER[\"standard_parallel_2\",18],\n",
      "    PARAMETER[\"latitude_of_center\",3],\n",
      "    PARAMETER[\"longitude_of_center\",-157],\n",
      "    PARAMETER[\"false_easting\",0],\n",
      "    PARAMETER[\"false_northing\",0],\n",
      "    UNIT[\"metre\",1,\n",
      "        AUTHORITY[\"EPSG\",\"9001\"]]]\n",
      "Origin = (155655.000000000000000,1868895.000000000000000)\n",
      "Pixel Size = (30.000000000000000,-30.000000000000000)\n",
      "Metadata:\n",
      "  AREA_OR_POINT=Area\n",
      "Image Structure Metadata:\n",
      "  COMPRESSION=DEFLATE\n",
      "  INTERLEAVE=PIXEL\n",
      "Corner Coordinates:\n",
      "Upper Left  (  155655.000, 1868895.000) (155d31' 7.65\"W, 19d53'31.51\"N)\n",
      "Lower Left  (  155655.000, 1718895.000) (155d31'37.26\"W, 18d32' 2.84\"N)\n",
      "Upper Right (  305655.000, 1868895.000) (154d 5'29.37\"W, 19d52'49.49\"N)\n",
      "Lower Right (  305655.000, 1718895.000) (154d 6'27.50\"W, 18d31'21.15\"N)\n",
      "Center      (  230655.000, 1793895.000) (154d48'40.44\"W, 19d12'28.13\"N)\n",
      "Band 1 Block=5000x1 Type=Int16, ColorInterp=Red\n",
      "    Computed Min/Max=-21.000,16604.000\n",
      "Band 2 Block=5000x1 Type=Int16, ColorInterp=Green\n",
      "    Computed Min/Max=-574.000,9369.000\n",
      "Band 3 Block=5000x1 Type=Int16, ColorInterp=Blue\n",
      "    Computed Min/Max=-1643.000,8836.000\n"
     ]
    }
   ],
   "source": [
    "# stack SWIR1, NIR, GREEN\n",
    "!gdal_merge.py -o fc3.tif -separate LANDSAT/LC08_HI_004002_20170204_20190429_C01_V01_SRB6.tif \\\n",
    "    LANDSAT/LC08_HI_004002_20170204_20190429_C01_V01_SRB5.tif \\\n",
    "    LANDSAT/LC08_HI_004002_20170204_20190429_C01_V01_SRB4.tif -co PHOTOMETRIC=RGB -co COMPRESS=DEFLATE\n",
    "!gdalinfo -mm fc3.tif"
   ]
  },
  {
   "cell_type": "code",
   "execution_count": 69,
   "metadata": {},
   "outputs": [
    {
     "name": "stdout",
     "output_type": "stream",
     "text": [
      "Input file size is 5000, 5000\n",
      "0...10...20...30...40...50...60...70...80...90...100 - done.\n"
     ]
    }
   ],
   "source": [
    "!gdal_translate fc3.tif fcburn.tif -scale -1643 16604 0 65535 -exponent 1.0 \\\n",
    "    -co COMPRESS=DEFLATE -co PHOTOMETRIC=RGB"
   ]
  },
  {
   "cell_type": "markdown",
   "metadata": {},
   "source": [
    "#### Task 4\n",
    "Crop all images down to 3000x2600. Create a mosaic of the four images:\n",
    "\n",
    "| | |\n",
    "| :----: | :----: |\n",
    "| True Color | Veg FC |\n",
    "| Heat FC | PC FC |"
   ]
  },
  {
   "cell_type": "code",
   "execution_count": 71,
   "metadata": {},
   "outputs": [
    {
     "name": "stdout",
     "output_type": "stream",
     "text": [
      "Input file size is 5000, 5000\n",
      "0...10...20...30...40...50...60...70...80...90...100 - done.\n"
     ]
    }
   ],
   "source": [
    "!gdal_translate -srcwin 0 0 2600 3000 truecolor3.tif tccrop.tif"
   ]
  },
  {
   "cell_type": "code",
   "execution_count": 72,
   "metadata": {},
   "outputs": [
    {
     "name": "stdout",
     "output_type": "stream",
     "text": [
      "Input file size is 5000, 5000\n",
      "0...10...20...30...40...50...60...70...80...90...100 - done.\n"
     ]
    }
   ],
   "source": [
    "!gdal_translate -srcwin 0 0 2600 3000 fcheat.tif heatcrop.tif"
   ]
  },
  {
   "cell_type": "code",
   "execution_count": 73,
   "metadata": {},
   "outputs": [
    {
     "name": "stdout",
     "output_type": "stream",
     "text": [
      "Input file size is 5000, 5000\n",
      "0...10...20...30...40...50...60...70...80...90...100 - done.\n"
     ]
    }
   ],
   "source": [
    "!gdal_translate -srcwin 0 0 2600 3000 fcveg.tif vegcrop.tif"
   ]
  },
  {
   "cell_type": "code",
   "execution_count": 74,
   "metadata": {},
   "outputs": [
    {
     "name": "stdout",
     "output_type": "stream",
     "text": [
      "Input file size is 5000, 5000\n",
      "0...10...20...30...40...50...60...70...80...90...100 - done.\n"
     ]
    }
   ],
   "source": [
    "!gdal_translate -srcwin 0 0 2600 3000 pcafc1.tif pccrop.tif"
   ]
  },
  {
   "cell_type": "code",
   "execution_count": 75,
   "metadata": {},
   "outputs": [
    {
     "name": "stdout",
     "output_type": "stream",
     "text": [
      "Input file size is 5000, 5000\n",
      "0...10...20...30...40...50...60...70...80...90...100 - done.\n"
     ]
    }
   ],
   "source": [
    "!gdal_translate -srcwin 0 0 2600 3000 fcburn.tif burncrop.tif"
   ]
  }
 ],
 "metadata": {
  "kernelspec": {
   "display_name": "Python 3",
   "language": "python",
   "name": "python3"
  },
  "language_info": {
   "codemirror_mode": {
    "name": "ipython",
    "version": 3
   },
   "file_extension": ".py",
   "mimetype": "text/x-python",
   "name": "python",
   "nbconvert_exporter": "python",
   "pygments_lexer": "ipython3",
   "version": "3.7.6"
  }
 },
 "nbformat": 4,
 "nbformat_minor": 4
}
