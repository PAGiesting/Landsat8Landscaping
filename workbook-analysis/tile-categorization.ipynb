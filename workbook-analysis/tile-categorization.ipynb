{
 "cells": [
  {
   "cell_type": "code",
   "execution_count": 1,
   "metadata": {
    "ExecuteTime": {
     "end_time": "2020-06-12T13:36:58.547718Z",
     "start_time": "2020-06-12T13:36:57.969610Z"
    }
   },
   "outputs": [],
   "source": [
    "import numpy as np\n",
    "from sklearn.cluster import DBSCAN"
   ]
  },
  {
   "cell_type": "code",
   "execution_count": 2,
   "metadata": {
    "ExecuteTime": {
     "end_time": "2020-06-12T13:36:59.998486Z",
     "start_time": "2020-06-12T13:36:59.189356Z"
    }
   },
   "outputs": [],
   "source": [
    "import matplotlib.pyplot as plt\n",
    "import seaborn as sns\n",
    "%matplotlib inline\n",
    "sns.set()"
   ]
  },
  {
   "cell_type": "code",
   "execution_count": 3,
   "metadata": {
    "ExecuteTime": {
     "end_time": "2020-06-12T13:37:00.894292Z",
     "start_time": "2020-06-12T13:37:00.647047Z"
    }
   },
   "outputs": [],
   "source": [
    "from osgeo import gdal, gdal_array"
   ]
  },
  {
   "cell_type": "code",
   "execution_count": 4,
   "metadata": {
    "ExecuteTime": {
     "end_time": "2020-06-12T13:37:01.806614Z",
     "start_time": "2020-06-12T13:37:01.803530Z"
    }
   },
   "outputs": [],
   "source": [
    "from sklearn import metrics\n",
    "from sklearn.preprocessing import StandardScaler"
   ]
  },
  {
   "cell_type": "code",
   "execution_count": 5,
   "metadata": {
    "ExecuteTime": {
     "end_time": "2020-06-12T13:37:02.733897Z",
     "start_time": "2020-06-12T13:37:02.727299Z"
    }
   },
   "outputs": [],
   "source": [
    "from sklearn.decomposition import PCA\n",
    "import math as m"
   ]
  },
  {
   "cell_type": "code",
   "execution_count": 6,
   "metadata": {
    "ExecuteTime": {
     "end_time": "2020-06-12T13:37:03.446467Z",
     "start_time": "2020-06-12T13:37:03.442609Z"
    }
   },
   "outputs": [],
   "source": [
    "from sklearn.cluster import MeanShift, estimate_bandwidth"
   ]
  },
  {
   "cell_type": "code",
   "execution_count": 7,
   "metadata": {
    "ExecuteTime": {
     "end_time": "2020-06-12T13:37:04.058414Z",
     "start_time": "2020-06-12T13:37:04.055012Z"
    }
   },
   "outputs": [],
   "source": [
    "import pickle"
   ]
  },
  {
   "cell_type": "markdown",
   "metadata": {},
   "source": [
    "Actually channel 2 is blue, not green. See https://github.com/apburnes/landsat8:\n",
    "1 = violet; 2 = blue; 3 = green; 4 = red; 5 = NIR; 6 = midIR; 7 = far-ishIR... 10 = thermIR1, 11 = thermIR2"
   ]
  },
  {
   "cell_type": "markdown",
   "metadata": {},
   "source": [
    "So the LANDSAT USGS ARD tiles are 2D 5000x5000 rasters. Location info is solely in the metadata and must include a starting point, resolution, and messier geometry / projection info."
   ]
  },
  {
   "cell_type": "markdown",
   "metadata": {},
   "source": [
    "## Check stacked geotiff from GRASS 7.8\n",
    "Should have elevation and LANDSAT 8 OLI channels 1 to 7, in that order."
   ]
  },
  {
   "cell_type": "code",
   "execution_count": 14,
   "metadata": {
    "ExecuteTime": {
     "end_time": "2020-06-12T03:35:23.207127Z",
     "start_time": "2020-06-12T03:35:22.486367Z"
    }
   },
   "outputs": [
    {
     "data": {
      "text/plain": [
       "(8, 1995, 1398)"
      ]
     },
     "execution_count": 14,
     "metadata": {},
     "output_type": "execute_result"
    }
   ],
   "source": [
    "tile = gdal.Open('HI004002landclip.tif')\n",
    "arr = tile.ReadAsArray()\n",
    "arr.shape"
   ]
  },
  {
   "cell_type": "code",
   "execution_count": 15,
   "metadata": {
    "ExecuteTime": {
     "end_time": "2020-06-12T03:35:23.215414Z",
     "start_time": "2020-06-12T03:35:23.210105Z"
    }
   },
   "outputs": [
    {
     "data": {
      "text/plain": [
       "dtype('int16')"
      ]
     },
     "execution_count": 15,
     "metadata": {},
     "output_type": "execute_result"
    }
   ],
   "source": [
    "arr.dtype"
   ]
  },
  {
   "cell_type": "code",
   "execution_count": 16,
   "metadata": {
    "ExecuteTime": {
     "end_time": "2020-06-12T03:35:23.285970Z",
     "start_time": "2020-06-12T03:35:23.218126Z"
    }
   },
   "outputs": [
    {
     "data": {
      "text/plain": [
       "array([-32768, -32768,    186,    156,    156,    265,    292,    182,\n",
       "          150,    102], dtype=int16)"
      ]
     },
     "execution_count": 16,
     "metadata": {},
     "output_type": "execute_result"
    }
   ],
   "source": [
    "arr[1,0:10,0]"
   ]
  },
  {
   "cell_type": "code",
   "execution_count": 17,
   "metadata": {
    "ExecuteTime": {
     "end_time": "2020-06-12T03:35:23.332406Z",
     "start_time": "2020-06-12T03:35:23.289256Z"
    }
   },
   "outputs": [],
   "source": [
    "arr = arr[:,2:,:]"
   ]
  },
  {
   "cell_type": "code",
   "execution_count": 18,
   "metadata": {
    "ExecuteTime": {
     "end_time": "2020-06-12T03:35:23.386099Z",
     "start_time": "2020-06-12T03:35:23.335625Z"
    }
   },
   "outputs": [
    {
     "data": {
      "text/plain": [
       "array([186, 156, 156, 265, 292, 182, 150, 102,  71,  99], dtype=int16)"
      ]
     },
     "execution_count": 18,
     "metadata": {},
     "output_type": "execute_result"
    }
   ],
   "source": [
    "arr[1,0:10,0]"
   ]
  },
  {
   "cell_type": "code",
   "execution_count": 19,
   "metadata": {
    "ExecuteTime": {
     "end_time": "2020-06-12T03:35:23.436390Z",
     "start_time": "2020-06-12T03:35:23.389189Z"
    }
   },
   "outputs": [
    {
     "data": {
      "text/plain": [
       "(7, 1993, 1398)"
      ]
     },
     "execution_count": 19,
     "metadata": {},
     "output_type": "execute_result"
    }
   ],
   "source": [
    "signal = arr[1:,:,:]\n",
    "signal.shape"
   ]
  },
  {
   "cell_type": "code",
   "execution_count": 20,
   "metadata": {
    "ExecuteTime": {
     "end_time": "2020-06-12T03:35:23.487351Z",
     "start_time": "2020-06-12T03:35:23.439828Z"
    }
   },
   "outputs": [
    {
     "data": {
      "text/plain": [
       "(2786214, 7)"
      ]
     },
     "execution_count": 20,
     "metadata": {},
     "output_type": "execute_result"
    }
   ],
   "source": [
    "data = signal.reshape(7,-1).T\n",
    "data.shape"
   ]
  },
  {
   "cell_type": "code",
   "execution_count": 21,
   "metadata": {
    "ExecuteTime": {
     "end_time": "2020-06-12T03:35:24.431877Z",
     "start_time": "2020-06-12T03:35:23.490684Z"
    }
   },
   "outputs": [
    {
     "data": {
      "text/plain": [
       "(27862, 7)"
      ]
     },
     "execution_count": 21,
     "metadata": {},
     "output_type": "execute_result"
    }
   ],
   "source": [
    "scaler = StandardScaler()\n",
    "X = scaler.fit_transform(data)\n",
    "Xc = X[np.random.choice(X.shape[0],int(0.01*X.shape[0]), replace=False)]\n",
    "Xc.shape"
   ]
  },
  {
   "cell_type": "code",
   "execution_count": 22,
   "metadata": {
    "ExecuteTime": {
     "end_time": "2020-06-12T03:35:24.518022Z",
     "start_time": "2020-06-12T03:35:24.434369Z"
    }
   },
   "outputs": [
    {
     "name": "stdout",
     "output_type": "stream",
     "text": [
      "[[ 0.34778739  0.38219167  0.43774737  0.43492683  0.18927255  0.37526822\n",
      "   0.41897377]\n",
      " [ 0.42990128  0.36861128  0.04575932  0.10828987 -0.66990986 -0.43762798\n",
      "  -0.15872158]]\n",
      "[0.69088986 0.22661222]\n"
     ]
    }
   ],
   "source": [
    "pca2 = PCA(n_components=2)\n",
    "signal2 = pca2.fit_transform(Xc)\n",
    "print(pca2.components_)\n",
    "print(pca2.explained_variance_ratio_)"
   ]
  },
  {
   "cell_type": "code",
   "execution_count": 23,
   "metadata": {
    "ExecuteTime": {
     "end_time": "2020-06-12T03:35:24.571178Z",
     "start_time": "2020-06-12T03:35:24.519817Z"
    }
   },
   "outputs": [
    {
     "name": "stdout",
     "output_type": "stream",
     "text": [
      "[[ 0.34778739  0.38219167  0.43774737  0.43492683  0.18927255  0.37526822\n",
      "   0.41897377]\n",
      " [ 0.42990128  0.36861128  0.04575932  0.10828987 -0.66990986 -0.43762798\n",
      "  -0.15872158]\n",
      " [-0.35850682 -0.22884996 -0.16865114  0.19577388 -0.6348808   0.26640631\n",
      "   0.52752628]]\n",
      "[0.69088986 0.22661222 0.06413013]\n"
     ]
    }
   ],
   "source": [
    "pca3 = PCA(n_components=3)\n",
    "signal3 = pca3.fit_transform(Xc)\n",
    "print(pca3.components_)\n",
    "print(pca3.explained_variance_ratio_)"
   ]
  },
  {
   "cell_type": "markdown",
   "metadata": {},
   "source": [
    "There are the three components from before."
   ]
  },
  {
   "cell_type": "code",
   "execution_count": 24,
   "metadata": {
    "ExecuteTime": {
     "end_time": "2020-06-12T03:35:24.582204Z",
     "start_time": "2020-06-12T03:35:24.575810Z"
    }
   },
   "outputs": [
    {
     "data": {
      "text/plain": [
       "(27862, 3)"
      ]
     },
     "execution_count": 24,
     "metadata": {},
     "output_type": "execute_result"
    }
   ],
   "source": [
    "signal3.shape"
   ]
  },
  {
   "cell_type": "code",
   "execution_count": 25,
   "metadata": {
    "ExecuteTime": {
     "end_time": "2020-06-12T03:35:26.743670Z",
     "start_time": "2020-06-12T03:35:24.587448Z"
    }
   },
   "outputs": [
    {
     "data": {
      "image/png": "[encoded data removed]",
      "text/plain": [
       "<Figure size 432x288 with 2 Axes>"
      ]
     },
     "metadata": {},
     "output_type": "display_data"
    }
   ],
   "source": [
    "cmap = sns.cubehelix_palette(as_cmap=True)\n",
    "# custom_palette = sns.color_palette(\"Oranges\", 9)\n",
    "f, ax = plt.subplots()\n",
    "points = ax.scatter(signal3[:,0], signal3[:,1], c=signal3[:,2], s=10, cmap=cmap)\n",
    "f.colorbar(points)\n",
    "plt.show();"
   ]
  },
  {
   "cell_type": "markdown",
   "metadata": {},
   "source": [
    "That's also a better clustering situation than in the previous workbook, isn't it? Did the palette bring something out?\n",
    "\n",
    "Remember that I'm looking for endmembers for subpixel clustering, too.\n",
    "\n",
    "At some point: Take the PCA results, add back elevation and/or lat/long coordinates and let the clustering look for spatial/spectral clusters, i.e. concrete regions rather than land types."
   ]
  },
  {
   "cell_type": "markdown",
   "metadata": {},
   "source": [
    "Cut off the top quarter, get rid of NODATA values at the same time as getting rid of the rest of the ocean pixels. Just focus on the land."
   ]
  },
  {
   "cell_type": "code",
   "execution_count": 26,
   "metadata": {
    "ExecuteTime": {
     "end_time": "2020-06-12T03:35:26.768884Z",
     "start_time": "2020-06-12T03:35:26.746378Z"
    }
   },
   "outputs": [
    {
     "data": {
      "text/plain": [
       "array([ 581,  872, 1559, 1984, 4471, 3981, 2431], dtype=int16)"
      ]
     },
     "execution_count": 26,
     "metadata": {},
     "output_type": "execute_result"
    }
   ],
   "source": [
    "landarr = arr[:,585:,:]\n",
    "landsignal = landarr[1:,:,:].copy()\n",
    "landsignal[:,0,0]"
   ]
  },
  {
   "cell_type": "code",
   "execution_count": 27,
   "metadata": {
    "ExecuteTime": {
     "end_time": "2020-06-12T03:35:26.814420Z",
     "start_time": "2020-06-12T03:35:26.772139Z"
    }
   },
   "outputs": [
    {
     "data": {
      "text/plain": [
       "(7, 1968384)"
      ]
     },
     "execution_count": 27,
     "metadata": {},
     "output_type": "execute_result"
    }
   ],
   "source": [
    "landsignal = landsignal.reshape(7,-1)\n",
    "landsignal.shape"
   ]
  },
  {
   "cell_type": "code",
   "execution_count": 28,
   "metadata": {
    "ExecuteTime": {
     "end_time": "2020-06-12T03:35:26.857622Z",
     "start_time": "2020-06-12T03:35:26.821038Z"
    }
   },
   "outputs": [
    {
     "data": {
      "text/plain": [
       "array([[ 581,  607,  607,  657,  620,  605,  543,  368,  190,  218],\n",
       "       [ 872,  929,  929,  987,  958,  945,  842,  591,  351,  381],\n",
       "       [1559, 1610, 1610, 1675, 1647, 1607, 1440, 1070,  726,  889],\n",
       "       [1984, 2111, 2111, 2231, 2223, 2198, 1887, 1324,  817,  980],\n",
       "       [4471, 4573, 4573, 4653, 4547, 4561, 4526, 4150, 3502, 3726],\n",
       "       [3981, 4222, 4222, 4366, 4316, 4291, 4011, 3142, 2168, 2444],\n",
       "       [2431, 2579, 2579, 2664, 2644, 2618, 2417, 1867, 1262, 1356]],\n",
       "      dtype=int16)"
      ]
     },
     "execution_count": 28,
     "metadata": {},
     "output_type": "execute_result"
    }
   ],
   "source": [
    "landsignal[:,0:10]"
   ]
  },
  {
   "cell_type": "code",
   "execution_count": 29,
   "metadata": {
    "ExecuteTime": {
     "end_time": "2020-06-12T03:35:27.482148Z",
     "start_time": "2020-06-12T03:35:26.864609Z"
    }
   },
   "outputs": [
    {
     "data": {
      "text/plain": [
       "(1968384, 7)"
      ]
     },
     "execution_count": 29,
     "metadata": {},
     "output_type": "execute_result"
    }
   ],
   "source": [
    "landsignal = landsignal.T\n",
    "landscaler = StandardScaler()\n",
    "Xl = landscaler.fit_transform(landsignal)\n",
    "Xl.shape"
   ]
  },
  {
   "cell_type": "code",
   "execution_count": 30,
   "metadata": {
    "ExecuteTime": {
     "end_time": "2020-06-12T03:35:27.489065Z",
     "start_time": "2020-06-12T03:35:27.484358Z"
    }
   },
   "outputs": [],
   "source": [
    "with open('landscaler.pkl','wb') as cellar:\n",
    "    pickle.dump(landscaler,cellar)"
   ]
  },
  {
   "cell_type": "code",
   "execution_count": 31,
   "metadata": {
    "ExecuteTime": {
     "end_time": "2020-06-12T03:35:27.736203Z",
     "start_time": "2020-06-12T03:35:27.491495Z"
    }
   },
   "outputs": [
    {
     "data": {
      "text/plain": [
       "(98419, 7)"
      ]
     },
     "execution_count": 31,
     "metadata": {},
     "output_type": "execute_result"
    }
   ],
   "source": [
    "Xs = Xl[np.random.choice(Xl.shape[0],int(0.05*Xl.shape[0]), replace=False)]\n",
    "Xs.shape"
   ]
  },
  {
   "cell_type": "code",
   "execution_count": 32,
   "metadata": {
    "ExecuteTime": {
     "end_time": "2020-06-12T03:35:28.073426Z",
     "start_time": "2020-06-12T03:35:27.738446Z"
    }
   },
   "outputs": [
    {
     "name": "stdout",
     "output_type": "stream",
     "text": [
      "[[ 0.40641648  0.41594847  0.43236949  0.4258543   0.13028371  0.34529515\n",
      "   0.39662914]\n",
      " [-0.25348271 -0.23928904 -0.02455066 -0.17371456  0.79745727  0.45550451\n",
      "   0.06546246]]\n",
      "[0.7429977  0.18482244]\n"
     ]
    }
   ],
   "source": [
    "landpca2 = PCA(n_components=2)\n",
    "landsignal2 = landpca2.fit_transform(Xs)\n",
    "print(landpca2.components_)\n",
    "print(landpca2.explained_variance_ratio_)"
   ]
  },
  {
   "cell_type": "markdown",
   "metadata": {},
   "source": [
    "Now I've changed the components to some degree. Component 1 is brightness, but vegetation is scaled back. Component 2 has a towering vegetation component, large midIR, anti blue & violet."
   ]
  },
  {
   "cell_type": "code",
   "execution_count": 33,
   "metadata": {
    "ExecuteTime": {
     "end_time": "2020-06-12T03:35:30.865754Z",
     "start_time": "2020-06-12T03:35:28.076792Z"
    }
   },
   "outputs": [
    {
     "data": {
      "image/png": "[encoded data removed]",
      "text/plain": [
       "<Figure size 432x288 with 1 Axes>"
      ]
     },
     "metadata": {},
     "output_type": "display_data"
    }
   ],
   "source": [
    "sns.scatterplot(x=landsignal2[:,0],y=landsignal2[:,1],alpha=0.2)\n",
    "plt.show();"
   ]
  },
  {
   "cell_type": "markdown",
   "metadata": {},
   "source": [
    "Boy, that still looks like a viable regression target and NOT a clustering or classification target."
   ]
  },
  {
   "cell_type": "code",
   "execution_count": 34,
   "metadata": {
    "ExecuteTime": {
     "end_time": "2020-06-12T03:35:36.562391Z",
     "start_time": "2020-06-12T03:35:30.868671Z"
    }
   },
   "outputs": [
    {
     "name": "stdout",
     "output_type": "stream",
     "text": [
      "[[ 0.40500771  0.41465021  0.43104877  0.42474744  0.12920001  0.34716781\n",
      "   0.40075228]\n",
      " [-0.25596068 -0.24144226 -0.02774221 -0.17468672  0.79326565  0.45904781\n",
      "   0.07006713]\n",
      " [-0.33287572 -0.25840717 -0.20855623  0.02662735 -0.49972638  0.45275378\n",
      "   0.56877266]]\n",
      "[0.74195274 0.18222807 0.0614415 ]\n"
     ]
    }
   ],
   "source": [
    "landpca3 = PCA(n_components=3)\n",
    "# note that I am changing this line to do PCA on Xl instead of the sample Xs\n",
    "# because PCA is very fast and I might as well do the whole dataset\n",
    "landsignal3 = landpca3.fit_transform(Xl)\n",
    "print(landpca3.components_)\n",
    "print(landpca3.explained_variance_ratio_)"
   ]
  },
  {
   "cell_type": "code",
   "execution_count": 35,
   "metadata": {
    "ExecuteTime": {
     "end_time": "2020-06-12T03:35:36.575034Z",
     "start_time": "2020-06-12T03:35:36.567585Z"
    }
   },
   "outputs": [
    {
     "data": {
      "text/plain": [
       "(1968384, 3)"
      ]
     },
     "execution_count": 35,
     "metadata": {},
     "output_type": "execute_result"
    }
   ],
   "source": [
    "landsignal3.shape"
   ]
  },
  {
   "cell_type": "code",
   "execution_count": 36,
   "metadata": {
    "ExecuteTime": {
     "end_time": "2020-06-12T03:35:36.684414Z",
     "start_time": "2020-06-12T03:35:36.576951Z"
    }
   },
   "outputs": [],
   "source": [
    "# pickle it and send it over to the false color map notebook\n",
    "with open('landpca3.pkl','wb') as cellar:\n",
    "    pickle.dump(landpca3,cellar)"
   ]
  },
  {
   "cell_type": "code",
   "execution_count": 15,
   "metadata": {
    "ExecuteTime": {
     "end_time": "2020-06-12T13:48:08.031030Z",
     "start_time": "2020-06-12T13:48:05.636695Z"
    }
   },
   "outputs": [
    {
     "data": {
      "image/png": "[encoded data removed]",
      "text/plain": [
       "<Figure size 864x864 with 3 Axes>"
      ]
     },
     "metadata": {},
     "output_type": "display_data"
    }
   ],
   "source": [
    "# for presentation: unpickle that model and plot its components\n",
    "with open('landpca3.pkl','rb') as cellar:\n",
    "    landpca3 = pickle.load(cellar)\n",
    "sns.set_style('whitegrid')\n",
    "fig, axs = plt.subplots(3, 1, tight_layout=True, figsize=(12,12))\n",
    "for i in range(landpca3.components_.shape[0]):\n",
    "    axs[i].set_xlabel('OLI Bands PCA component '+str(i))\n",
    "    # axs[i].set_ylim((-0.0,0.8))\n",
    "    axs[i].bar(list(range(1,8)),landpca3.components_[i,:]);"
   ]
  },
  {
   "cell_type": "markdown",
   "metadata": {},
   "source": [
    "That's a bit intriguing. It looks like we have low-vegetation brightness, vegetation, and anti-vegetation pro-rockness, perhaps."
   ]
  },
  {
   "cell_type": "code",
   "execution_count": 37,
   "metadata": {
    "ExecuteTime": {
     "end_time": "2020-06-12T03:35:36.963741Z",
     "start_time": "2020-06-12T03:35:36.687548Z"
    }
   },
   "outputs": [],
   "source": [
    "samp = landsignal3[np.random.choice(landsignal3.shape[0],int(0.005*landsignal3.shape[0]), replace=False)]"
   ]
  },
  {
   "cell_type": "code",
   "execution_count": 43,
   "metadata": {
    "ExecuteTime": {
     "end_time": "2020-06-12T03:39:54.471993Z",
     "start_time": "2020-06-12T03:39:53.409254Z"
    }
   },
   "outputs": [
    {
     "data": {
      "image/png": "[encoded data removed]",
      "text/plain": [
       "<Figure size 432x288 with 2 Axes>"
      ]
     },
     "metadata": {},
     "output_type": "display_data"
    }
   ],
   "source": [
    "sns.set_style(style='whitegrid')\n",
    "f, ax = plt.subplots()\n",
    "points = ax.scatter(samp[:,0], samp[:,1], \n",
    "                    c=samp[:,2], s=10, cmap='PiYG', alpha=0.2)\n",
    "f.colorbar(points)\n",
    "plt.show();"
   ]
  },
  {
   "cell_type": "code",
   "execution_count": 44,
   "metadata": {
    "ExecuteTime": {
     "end_time": "2020-06-12T03:41:05.413042Z",
     "start_time": "2020-06-12T03:41:04.156091Z"
    }
   },
   "outputs": [
    {
     "data": {
      "image/png": "[encoded data removed]",
      "text/plain": [
       "<Figure size 432x288 with 2 Axes>"
      ]
     },
     "metadata": {},
     "output_type": "display_data"
    }
   ],
   "source": [
    "sns.set_style(style='whitegrid')\n",
    "f, ax = plt.subplots()\n",
    "points = ax.scatter(samp[:,0], samp[:,2], \n",
    "                    c=samp[:,1], s=10, cmap='PiYG', alpha=0.2)\n",
    "f.colorbar(points)\n",
    "plt.show();"
   ]
  },
  {
   "cell_type": "code",
   "execution_count": 45,
   "metadata": {
    "ExecuteTime": {
     "end_time": "2020-06-12T03:41:13.519227Z",
     "start_time": "2020-06-12T03:41:12.414247Z"
    }
   },
   "outputs": [
    {
     "data": {
      "image/png": "[encoded data removed]",
      "text/plain": [
       "<Figure size 432x288 with 2 Axes>"
      ]
     },
     "metadata": {},
     "output_type": "display_data"
    }
   ],
   "source": [
    "sns.set_style(style='whitegrid')\n",
    "f, ax = plt.subplots()\n",
    "points = ax.scatter(samp[:,1], samp[:,2], \n",
    "                    c=samp[:,0], s=10, cmap='PiYG', alpha=0.2)\n",
    "f.colorbar(points)\n",
    "plt.show();"
   ]
  },
  {
   "cell_type": "code",
   "execution_count": 36,
   "metadata": {},
   "outputs": [
    {
     "data": {
      "text/plain": [
       "(array([1.053000e+03, 8.785100e+05, 1.088351e+06, 2.960000e+02,\n",
       "        4.300000e+01, 3.200000e+01, 3.300000e+01, 3.400000e+01,\n",
       "        1.800000e+01, 1.400000e+01]),\n",
       " array([-8.40567008, -4.27345601, -0.14124194,  3.99097213,  8.1231862 ,\n",
       "        12.25540026, 16.38761433, 20.5198284 , 24.65204247, 28.78425654,\n",
       "        32.91647061]),\n",
       " <a list of 10 Patch objects>)"
      ]
     },
     "execution_count": 36,
     "metadata": {},
     "output_type": "execute_result"
    },
    {
     "data": {
      "image/png": "[encoded data removed]",
      "text/plain": [
       "<Figure size 432x288 with 3 Axes>"
      ]
     },
     "metadata": {},
     "output_type": "display_data"
    }
   ],
   "source": [
    "fig, axs = plt.subplots(1, 3, sharey=True, tight_layout=True)\n",
    "# We can set the number of bins with the `bins` kwarg\n",
    "n_bins = 10\n",
    "axs[0].hist(landsignal3[:,0], bins=n_bins, log=True)\n",
    "axs[1].hist(landsignal3[:,1], bins=n_bins, log=True)\n",
    "axs[2].hist(landsignal3[:,2], bins=n_bins, log=True);"
   ]
  },
  {
   "cell_type": "code",
   "execution_count": 71,
   "metadata": {},
   "outputs": [
    {
     "name": "stdout",
     "output_type": "stream",
     "text": [
      "DBSCAN results for scaled cluster distance 0.100\n",
      "Estimated number of clusters: 3\n",
      "Estimated number of noise points: 9374\n",
      "Silhouette Coefficient: -0.307\n",
      "\n",
      "DBSCAN results for scaled cluster distance 0.125\n",
      "Estimated number of clusters: 4\n",
      "Estimated number of noise points: 7870\n",
      "Silhouette Coefficient: -0.277\n",
      "\n",
      "DBSCAN results for scaled cluster distance 0.150\n",
      "Estimated number of clusters: 7\n",
      "Estimated number of noise points: 6329\n",
      "Silhouette Coefficient: -0.241\n",
      "\n",
      "DBSCAN results for scaled cluster distance 0.175\n",
      "Estimated number of clusters: 3\n",
      "Estimated number of noise points: 5418\n",
      "Silhouette Coefficient: 0.121\n",
      "\n",
      "DBSCAN results for scaled cluster distance 0.200\n",
      "Estimated number of clusters: 6\n",
      "Estimated number of noise points: 4579\n",
      "Silhouette Coefficient: -0.140\n",
      "\n",
      "DBSCAN results for scaled cluster distance 0.225\n",
      "Estimated number of clusters: 5\n",
      "Estimated number of noise points: 3824\n",
      "Silhouette Coefficient: 0.143\n",
      "\n",
      "DBSCAN results for scaled cluster distance 0.250\n",
      "Estimated number of clusters: 4\n",
      "Estimated number of noise points: 3187\n",
      "Silhouette Coefficient: 0.146\n",
      "\n",
      "DBSCAN results for scaled cluster distance 0.275\n",
      "Estimated number of clusters: 5\n",
      "Estimated number of noise points: 2742\n",
      "Silhouette Coefficient: 0.146\n",
      "\n",
      "DBSCAN results for scaled cluster distance 0.300\n",
      "Estimated number of clusters: 3\n",
      "Estimated number of noise points: 2351\n",
      "Silhouette Coefficient: 0.228\n",
      "\n",
      "DBSCAN results for scaled cluster distance 0.325\n",
      "Estimated number of clusters: 3\n",
      "Estimated number of noise points: 1988\n",
      "Silhouette Coefficient: 0.104\n",
      "\n",
      "DBSCAN results for scaled cluster distance 0.350\n",
      "Estimated number of clusters: 4\n",
      "Estimated number of noise points: 1602\n",
      "Silhouette Coefficient: 0.005\n",
      "\n",
      "DBSCAN results for scaled cluster distance 0.375\n",
      "Estimated number of clusters: 1\n",
      "Estimated number of noise points: 1294\n",
      "Silhouette Coefficient: 0.535\n",
      "\n",
      "DBSCAN results for scaled cluster distance 0.400\n",
      "Estimated number of clusters: 2\n",
      "Estimated number of noise points: 1061\n",
      "Silhouette Coefficient: 0.277\n",
      "\n",
      "DBSCAN results for scaled cluster distance 0.425\n",
      "Estimated number of clusters: 1\n",
      "Estimated number of noise points: 934\n",
      "Silhouette Coefficient: 0.594\n",
      "\n",
      "DBSCAN results for scaled cluster distance 0.450\n",
      "Estimated number of clusters: 1\n",
      "Estimated number of noise points: 866\n",
      "Silhouette Coefficient: 0.608\n",
      "\n",
      "DBSCAN results for scaled cluster distance 0.475\n",
      "Estimated number of clusters: 2\n",
      "Estimated number of noise points: 743\n",
      "Silhouette Coefficient: 0.211\n",
      "\n",
      "DBSCAN results for scaled cluster distance 0.500\n",
      "Estimated number of clusters: 1\n",
      "Estimated number of noise points: 688\n",
      "Silhouette Coefficient: 0.652\n",
      "\n",
      "DBSCAN results for scaled cluster distance 0.525\n",
      "Estimated number of clusters: 1\n",
      "Estimated number of noise points: 654\n",
      "Silhouette Coefficient: 0.661\n",
      "\n",
      "DBSCAN results for scaled cluster distance 0.550\n",
      "Estimated number of clusters: 1\n",
      "Estimated number of noise points: 619\n",
      "Silhouette Coefficient: 0.671\n",
      "\n",
      "DBSCAN results for scaled cluster distance 0.575\n",
      "Estimated number of clusters: 2\n",
      "Estimated number of noise points: 559\n",
      "Silhouette Coefficient: 0.552\n",
      "\n"
     ]
    }
   ],
   "source": [
    "for p in np.arange(0.10,0.60,0.025):\n",
    "    signal_cluster = DBSCAN(eps=p,min_samples=25,n_jobs=2).fit(Xs)\n",
    "    core_samples_mask = np.zeros_like(signal_cluster.labels_, dtype=bool)\n",
    "    core_samples_mask[signal_cluster.core_sample_indices_] = True\n",
    "    labels = signal_cluster.labels_\n",
    "    n_clusters_ = len(set(labels)) - (1 if -1 in labels else 0)\n",
    "    n_noise_ = list(labels).count(-1)\n",
    "    print('DBSCAN results for scaled cluster distance %0.3f' % p)\n",
    "    print('Estimated number of clusters: %d' % n_clusters_)\n",
    "    print('Estimated number of noise points: %d' % n_noise_)\n",
    "    print(\"Silhouette Coefficient: %0.3f\\n\" % metrics.silhouette_score(Xs, labels))"
   ]
  },
  {
   "cell_type": "markdown",
   "metadata": {},
   "source": [
    "I reread the clustering lecture notes and realized I should be gridsearching on n_core (number of neighbors required to nucleate a core) rather than leaving it at the default 5, although I expect that the distance is the more important hyperparameter."
   ]
  },
  {
   "cell_type": "code",
   "execution_count": 58,
   "metadata": {},
   "outputs": [
    {
     "data": {
      "text/plain": [
       "(10464, 7)"
      ]
     },
     "execution_count": 58,
     "metadata": {},
     "output_type": "execute_result"
    }
   ],
   "source": [
    "Xss = Xl[np.random.choice(Xl.shape[0],int(0.005*Xl.shape[0]), replace=False)]\n",
    "Xss.shape"
   ]
  },
  {
   "cell_type": "code",
   "execution_count": 98,
   "metadata": {},
   "outputs": [
    {
     "name": "stdout",
     "output_type": "stream",
     "text": [
      "DBSCAN results for scaled cluster distance 0.300, core min 5\n",
      "Estimated number of clusters: 17\n",
      "Estimated number of noise points: 973\n",
      "Silhouette Coefficient: -0.047\n",
      "\n",
      "DBSCAN results for scaled cluster distance 0.300, core min 25\n",
      "Estimated number of clusters: 3\n",
      "Estimated number of noise points: 2351\n",
      "Silhouette Coefficient: 0.228\n",
      "\n",
      "DBSCAN results for scaled cluster distance 0.300, core min 125\n",
      "Estimated number of clusters: 2\n",
      "Estimated number of noise points: 4570\n",
      "Silhouette Coefficient: 0.232\n",
      "\n",
      "DBSCAN results for scaled cluster distance 0.350, core min 5\n",
      "Estimated number of clusters: 8\n",
      "Estimated number of noise points: 702\n",
      "Silhouette Coefficient: 0.431\n",
      "\n",
      "DBSCAN results for scaled cluster distance 0.350, core min 25\n",
      "Estimated number of clusters: 4\n",
      "Estimated number of noise points: 1602\n",
      "Silhouette Coefficient: 0.005\n",
      "\n",
      "DBSCAN results for scaled cluster distance 0.350, core min 125\n",
      "Estimated number of clusters: 3\n",
      "Estimated number of noise points: 3748\n",
      "Silhouette Coefficient: 0.274\n",
      "\n",
      "DBSCAN results for scaled cluster distance 0.400, core min 5\n",
      "Estimated number of clusters: 5\n",
      "Estimated number of noise points: 551\n",
      "Silhouette Coefficient: 0.205\n",
      "\n",
      "DBSCAN results for scaled cluster distance 0.400, core min 25\n",
      "Estimated number of clusters: 2\n",
      "Estimated number of noise points: 1061\n",
      "Silhouette Coefficient: 0.277\n",
      "\n",
      "DBSCAN results for scaled cluster distance 0.400, core min 125\n",
      "Estimated number of clusters: 4\n",
      "Estimated number of noise points: 3037\n",
      "Silhouette Coefficient: 0.197\n",
      "\n",
      "DBSCAN results for scaled cluster distance 0.450, core min 5\n",
      "Estimated number of clusters: 4\n",
      "Estimated number of noise points: 444\n",
      "Silhouette Coefficient: 0.509\n",
      "\n",
      "DBSCAN results for scaled cluster distance 0.450, core min 25\n",
      "Estimated number of clusters: 1\n",
      "Estimated number of noise points: 866\n",
      "Silhouette Coefficient: 0.608\n",
      "\n",
      "DBSCAN results for scaled cluster distance 0.450, core min 125\n",
      "Estimated number of clusters: 2\n",
      "Estimated number of noise points: 2416\n",
      "Silhouette Coefficient: 0.369\n",
      "\n",
      "DBSCAN results for scaled cluster distance 0.500, core min 5\n",
      "Estimated number of clusters: 3\n",
      "Estimated number of noise points: 373\n",
      "Silhouette Coefficient: 0.489\n",
      "\n",
      "DBSCAN results for scaled cluster distance 0.500, core min 25\n",
      "Estimated number of clusters: 1\n",
      "Estimated number of noise points: 688\n",
      "Silhouette Coefficient: 0.652\n",
      "\n",
      "DBSCAN results for scaled cluster distance 0.500, core min 125\n",
      "Estimated number of clusters: 1\n",
      "Estimated number of noise points: 1961\n",
      "Silhouette Coefficient: 0.474\n",
      "\n",
      "DBSCAN results for scaled cluster distance 0.550, core min 5\n",
      "Estimated number of clusters: 5\n",
      "Estimated number of noise points: 303\n",
      "Silhouette Coefficient: 0.448\n",
      "\n",
      "DBSCAN results for scaled cluster distance 0.550, core min 25\n",
      "Estimated number of clusters: 1\n",
      "Estimated number of noise points: 619\n",
      "Silhouette Coefficient: 0.671\n",
      "\n",
      "DBSCAN results for scaled cluster distance 0.550, core min 125\n",
      "Estimated number of clusters: 1\n",
      "Estimated number of noise points: 1571\n",
      "Silhouette Coefficient: 0.522\n",
      "\n"
     ]
    }
   ],
   "source": [
    "for p in np.arange(0.30,0.60,0.05):\n",
    "    for n in [5,25,125]:\n",
    "        signal_cluster = DBSCAN(eps=p,min_samples=n,n_jobs=2).fit(Xs)\n",
    "        core_samples_mask = np.zeros_like(signal_cluster.labels_, dtype=bool)\n",
    "        core_samples_mask[signal_cluster.core_sample_indices_] = True\n",
    "        labels = signal_cluster.labels_\n",
    "        n_clusters_ = len(set(labels)) - (1 if -1 in labels else 0)\n",
    "        n_noise_ = list(labels).count(-1)\n",
    "        print('DBSCAN results for scaled cluster distance %0.3f, core min %d' % (p,n))\n",
    "        print('Estimated number of clusters: %d' % n_clusters_)\n",
    "        print('Estimated number of noise points: %d' % n_noise_)\n",
    "        print(\"Silhouette Coefficient: %0.3f\\n\" % metrics.silhouette_score(Xs, labels))"
   ]
  },
  {
   "cell_type": "markdown",
   "metadata": {},
   "source": [
    "Mean shift is also conceivably worth trying."
   ]
  },
  {
   "cell_type": "code",
   "execution_count": 99,
   "metadata": {},
   "outputs": [
    {
     "data": {
      "text/plain": [
       "1.750592281415471"
      ]
     },
     "execution_count": 99,
     "metadata": {},
     "output_type": "execute_result"
    }
   ],
   "source": [
    "defbandwidth = estimate_bandwidth(Xs)\n",
    "defbandwidth"
   ]
  },
  {
   "cell_type": "code",
   "execution_count": 100,
   "metadata": {},
   "outputs": [
    {
     "name": "stdout",
     "output_type": "stream",
     "text": [
      "Mean Shift results for window size 0.438\n",
      "Estimated number of clusters: 413\n",
      "Estimated number of noise points: 6105\n",
      "Silhouette Coefficient: 0.413\n",
      "\n",
      "Mean Shift results for window size 0.875\n",
      "Estimated number of clusters: 109\n",
      "Estimated number of noise points: 4806\n",
      "Silhouette Coefficient: 0.655\n",
      "\n",
      "Mean Shift results for window size 1.313\n",
      "Estimated number of clusters: 54\n",
      "Estimated number of noise points: 2966\n",
      "Silhouette Coefficient: 0.599\n",
      "\n",
      "Mean Shift results for window size 1.751\n",
      "Estimated number of clusters: 24\n",
      "Estimated number of noise points: 3392\n",
      "Silhouette Coefficient: 0.810\n",
      "\n",
      "Mean Shift results for window size 2.188\n",
      "Estimated number of clusters: 18\n",
      "Estimated number of noise points: 2338\n",
      "Silhouette Coefficient: 0.763\n",
      "\n",
      "Mean Shift results for window size 2.626\n",
      "Estimated number of clusters: 12\n",
      "Estimated number of noise points: 1089\n",
      "Silhouette Coefficient: 0.729\n",
      "\n",
      "Mean Shift results for window size 3.064\n",
      "Estimated number of clusters: 11\n",
      "Estimated number of noise points: 703\n",
      "Silhouette Coefficient: 0.716\n",
      "\n",
      "Mean Shift results for window size 3.501\n",
      "Estimated number of clusters: 9\n",
      "Estimated number of noise points: 478\n",
      "Silhouette Coefficient: 0.705\n",
      "\n"
     ]
    }
   ],
   "source": [
    "for mul in np.arange(0.25,2.25,0.25):\n",
    "    window = float(defbandwidth*mul)\n",
    "    signal_cluster = MeanShift(bandwidth=window, bin_seeding=True,\n",
    "                               cluster_all=False, n_jobs=2).fit(Xs)\n",
    "    n_clusters_ = signal_cluster.cluster_centers_.shape[0]\n",
    "    n_noise_ = list(signal_cluster.labels_).count(-1)\n",
    "    print('Mean Shift results for window size %0.3f' % window)\n",
    "    print('Estimated number of clusters: %d' % n_clusters_)\n",
    "    print('Estimated number of noise points: %d' % n_noise_)\n",
    "    labelarray = np.concatenate((signal_cluster.labels_.reshape(-1,1),Xs),axis=1)\n",
    "    clusterpoints = labelarray[labelarray[:,0]>-1]\n",
    "    print(\"Silhouette Coefficient: %0.3f\\n\" % \n",
    "      metrics.silhouette_score(clusterpoints[:,1:], clusterpoints[:,0]))"
   ]
  },
  {
   "cell_type": "markdown",
   "metadata": {},
   "source": [
    "Well hell. Let's go a bit further."
   ]
  },
  {
   "cell_type": "code",
   "execution_count": 102,
   "metadata": {},
   "outputs": [
    {
     "name": "stdout",
     "output_type": "stream",
     "text": [
      "Mean Shift results for window size 3.939\n",
      "Estimated number of clusters: 7\n",
      "Estimated number of noise points: 418\n",
      "Silhouette Coefficient: 0.700\n",
      "\n",
      "Mean Shift results for window size 4.376\n",
      "Estimated number of clusters: 6\n",
      "Estimated number of noise points: 373\n",
      "Silhouette Coefficient: 0.696\n",
      "\n",
      "Mean Shift results for window size 4.814\n",
      "Estimated number of clusters: 5\n",
      "Estimated number of noise points: 302\n",
      "Silhouette Coefficient: 0.691\n",
      "\n",
      "Mean Shift results for window size 5.252\n",
      "Estimated number of clusters: 4\n",
      "Estimated number of noise points: 242\n",
      "Silhouette Coefficient: 0.766\n",
      "\n"
     ]
    }
   ],
   "source": [
    "for mul in np.arange(2.25,3.25,0.25):\n",
    "    window = float(defbandwidth*mul)\n",
    "    signal_cluster = MeanShift(bandwidth=window, bin_seeding=True,\n",
    "                               cluster_all=False, n_jobs=2).fit(Xs)\n",
    "    n_clusters_ = signal_cluster.cluster_centers_.shape[0]\n",
    "    n_noise_ = list(signal_cluster.labels_).count(-1)\n",
    "    print('Mean Shift results for window size %0.3f' % window)\n",
    "    print('Estimated number of clusters: %d' % n_clusters_)\n",
    "    print('Estimated number of noise points: %d' % n_noise_)\n",
    "    labelarray = np.concatenate((signal_cluster.labels_.reshape(-1,1),Xs),axis=1)\n",
    "    clusterpoints = labelarray[labelarray[:,0]>-1]\n",
    "    print(\"Silhouette Coefficient: %0.3f\\n\" % \n",
    "      metrics.silhouette_score(clusterpoints[:,1:], clusterpoints[:,0]))"
   ]
  },
  {
   "cell_type": "code",
   "execution_count": 103,
   "metadata": {},
   "outputs": [],
   "source": [
    "labelpca3 = np.concatenate((signal_cluster.labels_.reshape(-1,1),landsignal3),axis=1)"
   ]
  },
  {
   "cell_type": "code",
   "execution_count": 109,
   "metadata": {},
   "outputs": [],
   "source": [
    "centroids = landpca3.transform(signal_cluster.cluster_centers_)"
   ]
  },
  {
   "cell_type": "code",
   "execution_count": 110,
   "metadata": {},
   "outputs": [
    {
     "data": {
      "text/plain": [
       "array([[0],\n",
       "       [1],\n",
       "       [2],\n",
       "       [3]])"
      ]
     },
     "execution_count": 110,
     "metadata": {},
     "output_type": "execute_result"
    }
   ],
   "source": [
    "labels = (np.array(np.arange(4))).reshape(4,1)\n",
    "labels"
   ]
  },
  {
   "cell_type": "code",
   "execution_count": 111,
   "metadata": {},
   "outputs": [
    {
     "data": {
      "text/plain": [
       "array([[ 0.00000000e+00, -2.65483939e-01,  2.05806341e-03,\n",
       "        -1.58237190e-03],\n",
       "       [ 1.00000000e+00,  2.43647596e+01, -2.41524704e+00,\n",
       "         2.61205740e+00],\n",
       "       [ 2.00000000e+00,  4.83216579e+01, -4.20991565e+00,\n",
       "         6.57663750e+00],\n",
       "       [ 3.00000000e+00,  3.41941141e+00,  5.42933475e+00,\n",
       "        -3.54018951e+00]])"
      ]
     },
     "execution_count": 111,
     "metadata": {},
     "output_type": "execute_result"
    }
   ],
   "source": [
    "centroid_label = np.concatenate((labels,centroids),axis=1)\n",
    "centroid_label"
   ]
  },
  {
   "cell_type": "code",
   "execution_count": 113,
   "metadata": {},
   "outputs": [
    {
     "data": {
      "image/png": "[encoded data removed]",
      "text/plain": [
       "<Figure size 432x288 with 1 Axes>"
      ]
     },
     "metadata": {},
     "output_type": "display_data"
    }
   ],
   "source": [
    "f, ax = plt.subplots()\n",
    "points = ax.scatter(labelpca3[:,1], labelpca3[:,2], \n",
    "                    s=labelpca3[:,3]*5, c=labelpca3[:,0])\n",
    "centers = ax.scatter(centroid_label[:,1], centroid_label[:,2], \n",
    "                    s=50, c=centroid_label[:,0])\n",
    "plt.show();"
   ]
  },
  {
   "cell_type": "code",
   "execution_count": 114,
   "metadata": {},
   "outputs": [
    {
     "name": "stdout",
     "output_type": "stream",
     "text": [
      "Mean Shift results for window size 3.939\n",
      "Estimated number of clusters: 7\n",
      "Estimated number of noise points: 418\n",
      "Silhouette Coefficient: 0.700\n",
      "\n",
      "Mean Shift results for window size 4.376\n",
      "Estimated number of clusters: 6\n",
      "Estimated number of noise points: 373\n",
      "Silhouette Coefficient: 0.696\n",
      "\n",
      "Mean Shift results for window size 4.814\n",
      "Estimated number of clusters: 5\n",
      "Estimated number of noise points: 302\n",
      "Silhouette Coefficient: 0.691\n",
      "\n",
      "Mean Shift results for window size 5.252\n",
      "Estimated number of clusters: 4\n",
      "Estimated number of noise points: 242\n",
      "Silhouette Coefficient: 0.766\n",
      "\n"
     ]
    }
   ],
   "source": [
    "sig_clusts=[]\n",
    "for mul in np.arange(2.25,3.25,0.25):\n",
    "    window = float(defbandwidth*mul)\n",
    "    sig_clusts.append(MeanShift(bandwidth=window, bin_seeding=True,\n",
    "                               cluster_all=False, n_jobs=2).fit(Xs))\n",
    "    n_clusters_ = sig_clusts[-1].cluster_centers_.shape[0]\n",
    "    n_noise_ = list(sig_clusts[-1].labels_).count(-1)\n",
    "    print('Mean Shift results for window size %0.3f' % window)\n",
    "    print('Estimated number of clusters: %d' % n_clusters_)\n",
    "    print('Estimated number of noise points: %d' % n_noise_)\n",
    "    labelarray = np.concatenate((sig_clusts[-1].labels_.reshape(-1,1),Xs),axis=1)\n",
    "    clusterpoints = labelarray[labelarray[:,0]>-1]\n",
    "    print(\"Silhouette Coefficient: %0.3f\\n\" % \n",
    "      metrics.silhouette_score(clusterpoints[:,1:], clusterpoints[:,0]))"
   ]
  },
  {
   "cell_type": "code",
   "execution_count": 119,
   "metadata": {},
   "outputs": [],
   "source": [
    "cents = []\n",
    "for ms in sig_clusts:\n",
    "    cnum = []\n",
    "    cents.append(landpca3.transform(ms.cluster_centers_))\n",
    "    labels = (np.array(np.arange(ms.cluster_centers_.shape[0]))).reshape(-1,1)\n",
    "    for label in labels:\n",
    "        cnum.append(list(ms.labels_).count(label))\n",
    "    cnum = (np.array(cnum)).reshape(-1,1)\n",
    "    cents[-1] = np.concatenate((labels,cents[-1],cnum),axis=1)"
   ]
  },
  {
   "cell_type": "code",
   "execution_count": 120,
   "metadata": {},
   "outputs": [
    {
     "data": {
      "text/plain": [
       "array([[ 0.00000000e+00, -2.91996444e-01, -5.86079051e-03,\n",
       "         5.35566406e-03,  9.51900000e+03],\n",
       "       [ 1.00000000e+00,  2.69426102e+01, -2.80333043e+00,\n",
       "         3.01633372e+00,  1.60000000e+01],\n",
       "       [ 2.00000000e+00, -3.28528997e+00,  1.17558864e+00,\n",
       "        -4.07077339e+00,  2.00000000e+00],\n",
       "       [ 3.00000000e+00,  4.83216579e+01, -4.20991565e+00,\n",
       "         6.57663750e+00,  1.00000000e+00],\n",
       "       [ 4.00000000e+00,  3.41941141e+00,  5.42933475e+00,\n",
       "        -3.54018951e+00,  1.00000000e+00]])"
      ]
     },
     "execution_count": 120,
     "metadata": {},
     "output_type": "execute_result"
    }
   ],
   "source": [
    "cents[2]"
   ]
  },
  {
   "cell_type": "code",
   "execution_count": 122,
   "metadata": {},
   "outputs": [
    {
     "data": {
      "image/png": "[encoded data removed]",
      "text/plain": [
       "<Figure size 432x288 with 2 Axes>"
      ]
     },
     "metadata": {},
     "output_type": "display_data"
    },
    {
     "data": {
      "image/png": "[encoded data removed]",
      "text/plain": [
       "<Figure size 432x288 with 2 Axes>"
      ]
     },
     "metadata": {},
     "output_type": "display_data"
    },
    {
     "data": {
      "image/png": "[encoded data removed]",
      "text/plain": [
       "<Figure size 432x288 with 2 Axes>"
      ]
     },
     "metadata": {},
     "output_type": "display_data"
    },
    {
     "data": {
      "image/png": "[encoded data removed]",
      "text/plain": [
       "<Figure size 432x288 with 2 Axes>"
      ]
     },
     "metadata": {},
     "output_type": "display_data"
    }
   ],
   "source": [
    "for centroids in cents:\n",
    "    f, ax = plt.subplots()\n",
    "    centers = ax.scatter(centroids[:,1], centroids[:,2], \n",
    "                        s=1+np.sqrt(centroids[:,4]), c=centroids[:,3])\n",
    "    f.colorbar(centers)\n",
    "    plt.show();"
   ]
  },
  {
   "cell_type": "code",
   "execution_count": 123,
   "metadata": {},
   "outputs": [
    {
     "data": {
      "text/plain": [
       "[array([[ 0.00000000e+00, -3.47725425e-01, -1.55562596e-02,\n",
       "          1.40683241e-02,  9.38200000e+03],\n",
       "        [ 1.00000000e+00,  1.86441253e+01, -2.04876922e+00,\n",
       "          1.79043639e+00,  1.90000000e+01],\n",
       "        [ 2.00000000e+00,  2.29452005e+01, -2.36754997e+00,\n",
       "          2.35821793e+00,  1.20000000e+01],\n",
       "        [ 3.00000000e+00,  3.14133107e+01, -2.90501085e+00,\n",
       "          3.08448885e+00,  6.00000000e+00],\n",
       "        [ 4.00000000e+00, -3.28528997e+00,  1.17558864e+00,\n",
       "         -4.07077339e+00,  2.00000000e+00],\n",
       "        [ 5.00000000e+00,  4.83216579e+01, -4.20991565e+00,\n",
       "          6.57663750e+00,  1.00000000e+00],\n",
       "        [ 6.00000000e+00,  3.41941141e+00,  5.42933475e+00,\n",
       "         -3.54018951e+00,  1.00000000e+00]]),\n",
       " array([[ 0.00000000e+00, -3.23685118e-01, -1.04239735e-02,\n",
       "          9.68755863e-03,  9.44300000e+03],\n",
       "        [ 1.00000000e+00,  2.49037574e+01, -2.51666734e+00,\n",
       "          2.64414261e+00,  1.60000000e+01],\n",
       "        [ 2.00000000e+00,  3.35995758e+01, -3.27339543e+00,\n",
       "          3.47411497e+00,  5.00000000e+00],\n",
       "        [ 3.00000000e+00, -3.28528997e+00,  1.17558864e+00,\n",
       "         -4.07077339e+00,  2.00000000e+00],\n",
       "        [ 4.00000000e+00,  4.83216579e+01, -4.20991565e+00,\n",
       "          6.57663750e+00,  1.00000000e+00],\n",
       "        [ 5.00000000e+00,  3.41941141e+00,  5.42933475e+00,\n",
       "         -3.54018951e+00,  1.00000000e+00]]),\n",
       " array([[ 0.00000000e+00, -2.91996444e-01, -5.86079051e-03,\n",
       "          5.35566406e-03,  9.51900000e+03],\n",
       "        [ 1.00000000e+00,  2.69426102e+01, -2.80333043e+00,\n",
       "          3.01633372e+00,  1.60000000e+01],\n",
       "        [ 2.00000000e+00, -3.28528997e+00,  1.17558864e+00,\n",
       "         -4.07077339e+00,  2.00000000e+00],\n",
       "        [ 3.00000000e+00,  4.83216579e+01, -4.20991565e+00,\n",
       "          6.57663750e+00,  1.00000000e+00],\n",
       "        [ 4.00000000e+00,  3.41941141e+00,  5.42933475e+00,\n",
       "         -3.54018951e+00,  1.00000000e+00]]),\n",
       " array([[ 0.00000000e+00, -2.65483939e-01,  2.05806341e-03,\n",
       "         -1.58237190e-03,  9.57500000e+03],\n",
       "        [ 1.00000000e+00,  2.43647596e+01, -2.41524704e+00,\n",
       "          2.61205740e+00,  2.20000000e+01],\n",
       "        [ 2.00000000e+00,  4.83216579e+01, -4.20991565e+00,\n",
       "          6.57663750e+00,  1.00000000e+00],\n",
       "        [ 3.00000000e+00,  3.41941141e+00,  5.42933475e+00,\n",
       "         -3.54018951e+00,  1.00000000e+00]])]"
      ]
     },
     "execution_count": 123,
     "metadata": {},
     "output_type": "execute_result"
    }
   ],
   "source": [
    "cents"
   ]
  },
  {
   "cell_type": "code",
   "execution_count": null,
   "metadata": {},
   "outputs": [],
   "source": []
  }
 ],
 "metadata": {
  "kernelspec": {
   "display_name": "Python 3",
   "language": "python",
   "name": "python3"
  },
  "language_info": {
   "codemirror_mode": {
    "name": "ipython",
    "version": 3
   },
   "file_extension": ".py",
   "mimetype": "text/x-python",
   "name": "python",
   "nbconvert_exporter": "python",
   "pygments_lexer": "ipython3",
   "version": "3.7.7"
  }
 },
 "nbformat": 4,
 "nbformat_minor": 4
}
